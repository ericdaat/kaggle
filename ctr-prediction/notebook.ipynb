{
 "cells": [
  {
   "cell_type": "code",
   "execution_count": null,
   "metadata": {},
   "outputs": [],
   "source": [
    "import pandas as pd\n",
    "from keras import models\n",
    "from keras import layers\n",
    "from keras.preprocessing import text\n",
    "from keras import utils\n",
    "\n",
    "from sklearn.feature_extraction.text import FeatureHasher"
   ]
  },
  {
   "cell_type": "code",
   "execution_count": null,
   "metadata": {},
   "outputs": [],
   "source": [
    "dfs = pd.read_csv('train', chunksize=20000)\n",
    "\n",
    "for df in dfs:\n",
    "    break"
   ]
  },
  {
   "cell_type": "markdown",
   "metadata": {},
   "source": [
    "## First approach"
   ]
  },
  {
   "cell_type": "code",
   "execution_count": null,
   "metadata": {},
   "outputs": [],
   "source": [
    "df.nunique()"
   ]
  },
  {
   "cell_type": "code",
   "execution_count": null,
   "metadata": {},
   "outputs": [],
   "source": [
    "df[[\"site_id\", \"site_domain\", \"site_category\",\n",
    "    \"app_id\", \"app_domain\", \"app_category\",\n",
    "    \"device_id\", \"device_ip\", \"device_model\",\n",
    "    \"device_type\", \"device_conn_type\"]].head()"
   ]
  },
  {
   "cell_type": "code",
   "execution_count": null,
   "metadata": {},
   "outputs": [],
   "source": [
    "t_site_id = text.Tokenizer(num_words=None)\n",
    "t_site_domain = text.Tokenizer(num_words=None)\n",
    "t_site_category = text.Tokenizer(num_words=None)\n",
    "t_app_id = text.Tokenizer(num_words=None)\n",
    "t_app_domain = text.Tokenizer(num_words=None)\n",
    "t_app_category = text.Tokenizer(num_words=None)\n",
    "t_device_id = text.Tokenizer(num_words=None)\n",
    "t_device_model = text.Tokenizer(num_words=None)\n",
    "\n",
    "t_site_id.fit_on_texts(df['site_id'])\n",
    "t_site_domain.fit_on_texts(df['site_domain'])\n",
    "t_site_category.fit_on_texts(df['site_category'])\n",
    "t_app_id.fit_on_texts(df['app_id'])\n",
    "t_app_domain.fit_on_texts(df['app_domain'])\n",
    "t_app_category.fit_on_texts(df['app_category'])\n",
    "# t_device_id.fit_on_texts(df['device_id'])\n",
    "t_device_model.fit_on_texts(df['device_model'])\n",
    "\n",
    "\n",
    "x_site_id = t_site_id.texts_to_matrix(df['site_id'])\n",
    "x_site_domain = t_site_domain.texts_to_matrix(df['site_domain'])\n",
    "x_site_category = t_site_category.texts_to_matrix(df['site_category'])\n",
    "x_app_id = t_app_id.texts_to_matrix(df['app_id'])\n",
    "x_app_domain = t_app_domain.texts_to_matrix(df['app_domain'])\n",
    "x_app_category = t_app_category.texts_to_matrix(df['app_category'])\n",
    "# x_device_id = t_device_id.texts_to_matrix(df['device_id'])\n",
    "x_device_model = t_device_model.texts_to_matrix(df['device_model'])\n",
    "\n",
    "x = [df['banner_pos'], x_site_id, x_site_domain,\n",
    "     x_site_category, x_app_id, x_app_domain,\n",
    "     x_app_category, x_device_model]"
   ]
  },
  {
   "cell_type": "code",
   "execution_count": null,
   "metadata": {},
   "outputs": [],
   "source": [
    "i = [layers.Input(shape=(1,), name='banner_pos'),\n",
    "     layers.Input(shape=(x_site_id.shape[1],), name='site_id'),\n",
    "     layers.Input(shape=(x_site_domain.shape[1],), name='site_domain'),\n",
    "     layers.Input(shape=(x_site_category.shape[1],), name='site_category'),\n",
    "     layers.Input(shape=(x_app_id.shape[1],), name='app_id'),\n",
    "     layers.Input(shape=(x_app_domain.shape[1],), name='app_domain'),\n",
    "     layers.Input(shape=(x_app_category.shape[1],), name='app_category'),\n",
    "     # layers.Input(shape=(x_device_id.shape[1],), name='device_id'),\n",
    "     layers.Input(shape=(x_device_model.shape[1],), name='device_model')]\n",
    "\n",
    "h = layers.concatenate(i)\n",
    "o = layers.Dense(1, activation='sigmoid')(h)\n",
    "\n",
    "model = models.Model(inputs=i, outputs=[o])\n",
    "\n",
    "model.compile(optimizer='adam',\n",
    "              loss='binary_crossentropy',\n",
    "              metrics=['accuracy'])"
   ]
  },
  {
   "cell_type": "code",
   "execution_count": null,
   "metadata": {},
   "outputs": [],
   "source": [
    "model.fit(x=x,\n",
    "          y=df['click'],\n",
    "          validation_split=0.1,\n",
    "          epochs=3)"
   ]
  },
  {
   "cell_type": "markdown",
   "metadata": {},
   "source": [
    "## Second Approach"
   ]
  },
  {
   "cell_type": "code",
   "execution_count": null,
   "metadata": {},
   "outputs": [],
   "source": [
    "hasher = FeatureHasher(input_type='string', n_features=80000)\n",
    "\n",
    "features = [\"site_id\", \"site_domain\", \"site_category\",\n",
    "            \"app_id\", \"app_domain\", \"app_category\",\n",
    "            \"device_id\", \"device_ip\", \"device_model\"]\n",
    "\n",
    "i1 = layers.Input(shape=(X.shape[1],), name='categorical_features')\n",
    "i2 = layers.Input(shape=(1,), name='banner_pos')\n",
    "\n",
    "h = layers.concatenate([i1, i2])\n",
    "h = layers.Dense(1024, activation='sigmoid')(h)\n",
    "o = layers.Dense(1, activation='sigmoid')(h)\n",
    "\n",
    "model = models.Model(inputs=[i1, i2], outputs=[o])\n",
    "\n",
    "model.compile(optimizer='adam',\n",
    "              loss='binary_crossentropy',\n",
    "              metrics=['accuracy'])"
   ]
  },
  {
   "cell_type": "code",
   "execution_count": null,
   "metadata": {},
   "outputs": [],
   "source": [
    "for df in pd.read_csv('train', chunksize=50000):\n",
    "    X = hasher.transform(df[features].apply(lambda r: '|'.join(r.values), axis=1).values)\n",
    "\n",
    "    model.fit(x=[X, df['banner_pos']],\n",
    "              y=df['click'],\n",
    "              validation_split=0.1,\n",
    "              epochs=3)\n",
    "    \n",
    "    break"
   ]
  },
  {
   "cell_type": "code",
   "execution_count": null,
   "metadata": {},
   "outputs": [],
   "source": []
  }
 ],
 "metadata": {
  "kernelspec": {
   "display_name": "Python (data3)",
   "language": "python",
   "name": "data3"
  },
  "language_info": {
   "codemirror_mode": {
    "name": "ipython",
    "version": 3
   },
   "file_extension": ".py",
   "mimetype": "text/x-python",
   "name": "python",
   "nbconvert_exporter": "python",
   "pygments_lexer": "ipython3",
   "version": "3.5.2"
  }
 },
 "nbformat": 4,
 "nbformat_minor": 2
}
