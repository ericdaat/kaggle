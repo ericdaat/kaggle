{
 "cells": [
  {
   "cell_type": "code",
   "execution_count": 1,
   "metadata": {
    "collapsed": true
   },
   "outputs": [],
   "source": [
    "import pandas as pd\n",
    "import numpy as np\n",
    "from scipy.sparse import hstack\n",
    "\n",
    "from sklearn.feature_extraction import FeatureHasher\n",
    "from sklearn.linear_model import SGDClassifier, LogisticRegression\n",
    "from sklearn.model_selection import cross_val_score\n",
    "from sklearn.metrics import accuracy_score"
   ]
  },
  {
   "cell_type": "code",
   "execution_count": 2,
   "metadata": {},
   "outputs": [],
   "source": [
    "dfs = pd.read_csv('train', chunksize=200000)"
   ]
  },
  {
   "cell_type": "code",
   "execution_count": 3,
   "metadata": {},
   "outputs": [],
   "source": [
    "C_hasher = FeatureHasher(n_features=1000, input_type='string')\n",
    "category_hasher = FeatureHasher(n_features=500, input_type='string')"
   ]
  },
  {
   "cell_type": "code",
   "execution_count": 4,
   "metadata": {
    "collapsed": true
   },
   "outputs": [],
   "source": [
    "class_weight={0:1/0.8, 1:1/0.2}\n",
    "\n",
    "clf1 = SGDClassifier(loss='log',\n",
    "                     max_iter=15,\n",
    "                     alpha=0.00001,\n",
    "                     class_weight=None)"
   ]
  },
  {
   "cell_type": "code",
   "execution_count": 5,
   "metadata": {},
   "outputs": [
    {
     "name": "stdout",
     "output_type": "stream",
     "text": [
      "0.7168388302241744\n",
      "0.7470962467548845\n",
      "0.7018070747231371\n",
      "0.6807482038499403\n",
      "0.6849227238982251\n",
      "0.7260246768609099\n",
      "0.7575018211499136\n",
      "0.7668567905040851\n",
      "0.692783748372773\n",
      "0.7234909398186671\n",
      "0.7067748388720403\n",
      "0.6997841717538464\n",
      "0.7237109346605607\n",
      "0.7371553177071569\n",
      "0.7166721355487278\n",
      "0.7046155536213758\n",
      "0.7340211514851271\n",
      "0.6951522079681612\n",
      "0.7025087642418931\n",
      "0.6930972855911356\n",
      "0.6901173800997921\n",
      "0.686643156642566\n",
      "0.7041386930265511\n",
      "0.6682429248787031\n",
      "0.7123269655819005\n",
      "0.6422564422505407\n",
      "0.7053153714112618\n",
      "0.7076159611099858\n",
      "0.7423464683759804\n",
      "0.7558692220575182\n",
      "0.7455220706559152\n",
      "0.7462378206317097\n",
      "0.7536959139860018\n",
      "0.7338438485529594\n",
      "0.7594650007447582\n",
      "0.724601632003014\n",
      "0.7122013706526612\n",
      "0.7684994272623139\n",
      "0.7299665145118056\n",
      "0.7162385516506923\n",
      "0.6971024853862652\n"
     ]
    }
   ],
   "source": [
    "for i, df in enumerate(dfs):\n",
    "    df_ = pd.concat([df.loc[df['click'] == 0].sample(frac=1),\n",
    "                     df.loc[df['click'] == 1].sample(frac=2, replace=True)]).sample(frac=1)\n",
    "\n",
    "    X_train = hstack([hstack([C_hasher.transform(df_[c].astype(str))\n",
    "                              for c in ['C1', 'C14', 'C15', 'C16', 'C17', 'C18', 'C19', 'C20', 'C21']]),\n",
    "                      hstack([category_hasher.transform(df_[c].astype(str))\n",
    "                              for c in ['site_category', 'app_category']]),\n",
    "                      df_['banner_pos'].values.reshape(-1,1)])\n",
    "\n",
    "    clf1.partial_fit(X=X_train,\n",
    "                     y=df_['click'],\n",
    "                     classes=[0, 1])\n",
    "    \n",
    "    if i % 5 == 0:\n",
    "        print accuracy_score(clf1.predict(X_train),\n",
    "                             df_['click'])"
   ]
  },
  {
   "cell_type": "code",
   "execution_count": null,
   "metadata": {
    "collapsed": true
   },
   "outputs": [],
   "source": []
  }
 ],
 "metadata": {
  "kernelspec": {
   "display_name": "Python 2",
   "language": "python",
   "name": "python2"
  },
  "language_info": {
   "codemirror_mode": {
    "name": "ipython",
    "version": 2
   },
   "file_extension": ".py",
   "mimetype": "text/x-python",
   "name": "python",
   "nbconvert_exporter": "python",
   "pygments_lexer": "ipython2",
   "version": "2.7.13"
  }
 },
 "nbformat": 4,
 "nbformat_minor": 2
}
