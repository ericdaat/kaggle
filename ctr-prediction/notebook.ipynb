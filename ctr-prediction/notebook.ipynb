{
 "cells": [
  {
   "cell_type": "code",
   "execution_count": 1,
   "metadata": {},
   "outputs": [
    {
     "name": "stderr",
     "output_type": "stream",
     "text": [
      "Using TensorFlow backend.\n"
     ]
    }
   ],
   "source": [
    "import pandas as pd\n",
    "import numpy as np\n",
    "from scipy.sparse import hstack\n",
    "\n",
    "from keras.models import Sequential\n",
    "from keras.layers import Dense\n",
    "from keras.utils import to_categorical\n",
    "from keras.preprocessing.text import one_hot"
   ]
  },
  {
   "cell_type": "code",
   "execution_count": null,
   "metadata": {},
   "outputs": [],
   "source": [
    "dfs = []\n",
    "\n",
    "for df in pd.read_csv('train', chunksize=50000):\n",
    "    df = pd.concat([df.loc[df['click'] == 0],\n",
    "                    df.loc[df['click'] == 1].sample(frac=2, replace=True)])\n",
    "    dfs.append(df.sample(frac=1))\n",
    "    \n",
    "pd.concat(np.random.shuffle(dfs)).to_csv('train-sampled.csv', index=False)\n",
    "del dfs"
   ]
  },
  {
   "cell_type": "code",
   "execution_count": null,
   "metadata": {
    "scrolled": false
   },
   "outputs": [],
   "source": [
    "d = {'C1':10, 'C14':3000, 'C15':10, 'C16':10, 'C17':500,\n",
    "     'C18':5, 'C19':70, 'C20':180, 'C21':65}\n",
    "\n",
    "model = Sequential() \n",
    "model.add(Dense(units=2,\n",
    "                input_dim=sum(d.values())+1,\n",
    "                activation='sigmoid'))\n",
    "\n",
    "model.compile(loss='sparse_categorical_crossentropy',\n",
    "              optimizer='adam',\n",
    "              metrics=['sparse_categorical_accuracy'])\n",
    "\n",
    "for df in pd.read_csv('train-subset.csv', chunksize=50000):\n",
    "    X = np.hstack([to_categorical(df[col].apply(lambda r: (one_hot(str(r),\n",
    "                                                                   n_features))\n",
    "                                               ).tolist(),\n",
    "                                  n_features)\n",
    "                   for (col, n_features) in d.items()])\n",
    "\n",
    "    X = np.hstack([X, df['banner_pos'].values.reshape(-1, 1)])\n",
    "    \n",
    "    model.fit(x=X,\n",
    "              y=df['click'].values,\n",
    "              epochs=5,\n",
    "              validation_split=0.2)"
   ]
  },
  {
   "cell_type": "code",
   "execution_count": null,
   "metadata": {
    "collapsed": true
   },
   "outputs": [],
   "source": []
  }
 ],
 "metadata": {
  "kernelspec": {
   "display_name": "Python 2",
   "language": "python",
   "name": "python2"
  },
  "language_info": {
   "codemirror_mode": {
    "name": "ipython",
    "version": 2
   },
   "file_extension": ".py",
   "mimetype": "text/x-python",
   "name": "python",
   "nbconvert_exporter": "python",
   "pygments_lexer": "ipython2",
   "version": "2.7.13"
  }
 },
 "nbformat": 4,
 "nbformat_minor": 2
}
