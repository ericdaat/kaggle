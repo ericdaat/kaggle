{
 "cells": [
  {
   "cell_type": "code",
   "execution_count": 2,
   "metadata": {},
   "outputs": [
    {
     "name": "stderr",
     "output_type": "stream",
     "text": [
      "Using TensorFlow backend.\n"
     ]
    }
   ],
   "source": [
    "import pandas as pd\n",
    "import numpy as np\n",
    "from scipy.sparse import hstack\n",
    "\n",
    "from keras.models import Sequential\n",
    "from keras.layers import Dense\n",
    "from keras.utils import to_categorical\n",
    "from keras.preprocessing.text import one_hot"
   ]
  },
  {
   "cell_type": "code",
   "execution_count": 12,
   "metadata": {
    "collapsed": true
   },
   "outputs": [],
   "source": [
    "with open('train-sampled.csv', 'a') as f:\n",
    "    for i, df in enumerate(pd.read_csv('train', chunksize=500000)):\n",
    "        df = pd.concat([df.loc[df['click'] == 0],\n",
    "                        df.loc[df['click'] == 1].sample(frac=2, replace=True)])\n",
    "        \n",
    "        header = True if i == 0 else False\n",
    "        df.sample(frac=1).to_csv(f,\n",
    "                                 header=header,\n",
    "                                 index=None)"
   ]
  },
  {
   "cell_type": "code",
   "execution_count": 17,
   "metadata": {
    "scrolled": false
   },
   "outputs": [
    {
     "name": "stdout",
     "output_type": "stream",
     "text": [
      "Train on 40000 samples, validate on 10000 samples\n",
      "Epoch 1/5\n",
      "40000/40000 [==============================] - 32s - loss: 0.5417 - sparse_categorical_accuracy: 0.7410 - val_loss: 0.5307 - val_sparse_categorical_accuracy: 0.7424\n",
      "Epoch 2/5\n",
      "40000/40000 [==============================] - 25s - loss: 0.5211 - sparse_categorical_accuracy: 0.7488 - val_loss: 0.5266 - val_sparse_categorical_accuracy: 0.7427\n",
      "Epoch 3/5\n",
      "40000/40000 [==============================] - 32s - loss: 0.5147 - sparse_categorical_accuracy: 0.7523 - val_loss: 0.5247 - val_sparse_categorical_accuracy: 0.7424\n",
      "Epoch 4/5\n",
      "40000/40000 [==============================] - 26s - loss: 0.5100 - sparse_categorical_accuracy: 0.7536 - val_loss: 0.5242 - val_sparse_categorical_accuracy: 0.7441\n",
      "Epoch 5/5\n",
      "40000/40000 [==============================] - 18s - loss: 0.5062 - sparse_categorical_accuracy: 0.7547 - val_loss: 0.5235 - val_sparse_categorical_accuracy: 0.7445\n"
     ]
    }
   ],
   "source": [
    "d = {'C1':10, 'C14':3000,\n",
    "     'C15':10, 'C16':10,\n",
    "     'C17':500, 'C18':5,\n",
    "     'C19':70, 'C20':180, 'C21':65,\n",
    "     'site_id': 2000,\n",
    "     'site_domain': 1000,\n",
    "     'site_category': 50,\n",
    "     'app_domain': 200,\n",
    "     'app_category': 100,\n",
    "     'device_type': 4,\n",
    "     'device_id': 8000}\n",
    "\n",
    "model = Sequential() \n",
    "model.add(Dense(units=2,\n",
    "                input_dim=sum(d.values())+1,\n",
    "                activation='sigmoid'))\n",
    "\n",
    "model.compile(loss='sparse_categorical_crossentropy',\n",
    "              optimizer='adam',\n",
    "              metrics=['sparse_categorical_accuracy'])\n",
    "\n",
    "for df in pd.read_csv('train-sampled.csv',\n",
    "                      chunksize=50000):\n",
    "    X = np.hstack([to_categorical(df[col].apply(lambda r: (one_hot(str(r),\n",
    "                                                                   n_features))\n",
    "                                               ).tolist(),\n",
    "                                  n_features)\n",
    "                   for (col, n_features) in d.items()])\n",
    "\n",
    "    X = np.hstack([X, df['banner_pos'].values.reshape(-1, 1)])\n",
    "    \n",
    "    model.fit(x=X,\n",
    "              y=df['click'].values,\n",
    "              epochs=7,\n",
    "              validation_split=0.2)"
   ]
  },
  {
   "cell_type": "code",
   "execution_count": null,
   "metadata": {
    "collapsed": true
   },
   "outputs": [],
   "source": []
  }
 ],
 "metadata": {
  "kernelspec": {
   "display_name": "Python 2",
   "language": "python",
   "name": "python2"
  },
  "language_info": {
   "codemirror_mode": {
    "name": "ipython",
    "version": 2
   },
   "file_extension": ".py",
   "mimetype": "text/x-python",
   "name": "python",
   "nbconvert_exporter": "python",
   "pygments_lexer": "ipython2",
   "version": "2.7.13"
  }
 },
 "nbformat": 4,
 "nbformat_minor": 2
}
