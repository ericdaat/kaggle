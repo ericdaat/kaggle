{
 "cells": [
  {
   "cell_type": "code",
   "execution_count": 92,
   "metadata": {
    "collapsed": true
   },
   "outputs": [],
   "source": [
    "import pandas as pd\n",
    "import numpy as np\n",
    "from scipy.sparse import hstack\n",
    "\n",
    "from sklearn.linear_model import SGDClassifier\n",
    "\n",
    "from keras.models import Sequential\n",
    "from keras.layers import Dense\n",
    "from keras.utils import to_categorical\n",
    "from keras.preprocessing.text import one_hot"
   ]
  },
  {
   "cell_type": "code",
   "execution_count": 2,
   "metadata": {
    "collapsed": true
   },
   "outputs": [],
   "source": [
    "dfs = []\n",
    "\n",
    "for df in pd.read_csv('train', chunksize=100000):\n",
    "    df_ = pd.concat([df.loc[df['click'] == 0],\n",
    "                     df.loc[df['click'] == 1].sample(frac=2, replace=True)])\n",
    "    \n",
    "    dfs.append(df_.sample(frac=0.2))\n",
    "    \n",
    "df = pd.concat(dfs)\n",
    "del dfs"
   ]
  },
  {
   "cell_type": "code",
   "execution_count": 3,
   "metadata": {
    "collapsed": true
   },
   "outputs": [],
   "source": [
    "df.to_csv('train-subset.csv', index=False)"
   ]
  },
  {
   "cell_type": "code",
   "execution_count": 6,
   "metadata": {
    "scrolled": false
   },
   "outputs": [
    {
     "data": {
      "text/plain": [
       "id                  8975510\n",
       "click                     2\n",
       "hour                    240\n",
       "C1                        7\n",
       "banner_pos                7\n",
       "site_id                3925\n",
       "site_domain            5265\n",
       "site_category            24\n",
       "app_id                 6135\n",
       "app_domain              373\n",
       "app_category             30\n",
       "device_id            947768\n",
       "device_ip           2871562\n",
       "device_model           7028\n",
       "device_type               5\n",
       "device_conn_type          4\n",
       "C14                    2518\n",
       "C15                       8\n",
       "C16                       9\n",
       "C17                     431\n",
       "C18                       4\n",
       "C19                      68\n",
       "C20                     170\n",
       "C21                      60\n",
       "dtype: int64"
      ]
     },
     "execution_count": 6,
     "metadata": {},
     "output_type": "execute_result"
    }
   ],
   "source": [
    "df.nunique()"
   ]
  },
  {
   "cell_type": "code",
   "execution_count": 78,
   "metadata": {},
   "outputs": [],
   "source": [
    "d = {'C1':10, 'C14':3000, 'C15':10, 'C16':10, 'C17':500,\n",
    "     'C18':5, 'C19':70, 'C20':180, 'C21':65}\n",
    "\n",
    "X = np.hstack([to_categorical(df[col].head(10000).apply(lambda r: (one_hot(str(r), n_features))).tolist(), n_features)\n",
    "               for (col, n_features) in d.items()])\n",
    "\n",
    "X = np.hstack([X, df['banner_pos'].head(10000).values.reshape(-1, 1)])          \n",
    "\n",
    "y = df['click'].head(10000).values"
   ]
  },
  {
   "cell_type": "code",
   "execution_count": 87,
   "metadata": {},
   "outputs": [],
   "source": [
    "clf = SGDClassifier(loss='log',\n",
    "                    verbose=1,\n",
    "                    max_iter=10)"
   ]
  },
  {
   "cell_type": "code",
   "execution_count": 89,
   "metadata": {},
   "outputs": [
    {
     "name": "stdout",
     "output_type": "stream",
     "text": [
      "-- Epoch 1\n",
      "Norm: 24.18, NNZs: 499, Bias: -2.572278, T: 10000, Avg. loss: 4.150928\n",
      "Total training time: 0.09 seconds.\n",
      "-- Epoch 2\n",
      "Norm: 16.43, NNZs: 499, Bias: -2.507175, T: 20000, Avg. loss: 1.184114\n",
      "Total training time: 0.18 seconds.\n",
      "-- Epoch 3\n",
      "Norm: 13.77, NNZs: 499, Bias: -1.595455, T: 30000, Avg. loss: 0.843466\n",
      "Total training time: 0.28 seconds.\n",
      "-- Epoch 4\n",
      "Norm: 12.46, NNZs: 499, Bias: -1.597841, T: 40000, Avg. loss: 0.726650\n",
      "Total training time: 0.37 seconds.\n",
      "-- Epoch 5\n",
      "Norm: 11.59, NNZs: 499, Bias: -1.228064, T: 50000, Avg. loss: 0.669071\n",
      "Total training time: 0.46 seconds.\n",
      "-- Epoch 6\n",
      "Norm: 11.10, NNZs: 499, Bias: -1.262151, T: 60000, Avg. loss: 0.633282\n",
      "Total training time: 0.56 seconds.\n",
      "-- Epoch 7\n",
      "Norm: 10.77, NNZs: 499, Bias: -0.949787, T: 70000, Avg. loss: 0.620607\n",
      "Total training time: 0.65 seconds.\n",
      "-- Epoch 8\n",
      "Norm: 10.73, NNZs: 499, Bias: -1.100357, T: 80000, Avg. loss: 0.603514\n",
      "Total training time: 0.76 seconds.\n",
      "-- Epoch 9\n",
      "Norm: 10.46, NNZs: 499, Bias: -1.195102, T: 90000, Avg. loss: 0.596958\n",
      "Total training time: 0.86 seconds.\n",
      "-- Epoch 10\n",
      "Norm: 10.34, NNZs: 499, Bias: -1.026972, T: 100000, Avg. loss: 0.591467\n",
      "Total training time: 0.95 seconds.\n"
     ]
    },
    {
     "data": {
      "text/plain": [
       "SGDClassifier(alpha=0.0001, average=False, class_weight=None, epsilon=0.1,\n",
       "       eta0=0.0, fit_intercept=True, l1_ratio=0.15,\n",
       "       learning_rate='optimal', loss='log', max_iter=10, n_iter=None,\n",
       "       n_jobs=1, penalty='l2', power_t=0.5, random_state=None,\n",
       "       shuffle=True, tol=None, verbose=1, warm_start=False)"
      ]
     },
     "execution_count": 89,
     "metadata": {},
     "output_type": "execute_result"
    }
   ],
   "source": [
    "clf.fit(X, y)"
   ]
  },
  {
   "cell_type": "code",
   "execution_count": 109,
   "metadata": {},
   "outputs": [],
   "source": [
    "model = Sequential() \n",
    "model.add(Dense(units=2,\n",
    "                input_dim=X.shape[1],\n",
    "                activation='softmax'))\n",
    "model.compile(loss='categorical_crossentropy',\n",
    "              optimizer='sgd',\n",
    "              metrics=['categorical_accuracy'])"
   ]
  },
  {
   "cell_type": "code",
   "execution_count": 111,
   "metadata": {},
   "outputs": [
    {
     "name": "stdout",
     "output_type": "stream",
     "text": [
      "Epoch 1/4\n",
      "10000/10000 [==============================] - 1s 56us/step - loss: 0.5745 - categorical_accuracy: 0.7060\n",
      "Epoch 2/4\n",
      "10000/10000 [==============================] - 1s 56us/step - loss: 0.5655 - categorical_accuracy: 0.7286\n",
      "Epoch 3/4\n",
      "10000/10000 [==============================] - 1s 56us/step - loss: 0.5609 - categorical_accuracy: 0.7316\n",
      "Epoch 4/4\n",
      "10000/10000 [==============================] - 1s 55us/step - loss: 0.5582 - categorical_accuracy: 0.7325\n"
     ]
    },
    {
     "data": {
      "text/plain": [
       "<keras.callbacks.History at 0x7ff07823ee10>"
      ]
     },
     "execution_count": 111,
     "metadata": {},
     "output_type": "execute_result"
    }
   ],
   "source": [
    "model.fit(x=X, y=to_categorical(y), epochs=4)"
   ]
  },
  {
   "cell_type": "code",
   "execution_count": null,
   "metadata": {
    "collapsed": true
   },
   "outputs": [],
   "source": []
  }
 ],
 "metadata": {
  "kernelspec": {
   "display_name": "Python 2",
   "language": "python",
   "name": "python2"
  },
  "language_info": {
   "codemirror_mode": {
    "name": "ipython",
    "version": 2
   },
   "file_extension": ".py",
   "mimetype": "text/x-python",
   "name": "python",
   "nbconvert_exporter": "python",
   "pygments_lexer": "ipython2",
   "version": "2.7.13"
  }
 },
 "nbformat": 4,
 "nbformat_minor": 2
}
