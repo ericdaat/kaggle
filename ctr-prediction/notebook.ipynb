{
 "cells": [
  {
   "cell_type": "code",
   "execution_count": 38,
   "metadata": {
    "collapsed": true
   },
   "outputs": [],
   "source": [
    "import pandas as pd\n",
    "import numpy as np\n",
    "from scipy.sparse import hstack\n",
    "\n",
    "from sklearn.feature_extraction import FeatureHasher\n",
    "from sklearn.linear_model import SGDClassifier, LogisticRegression\n",
    "from sklearn.model_selection import cross_val_score\n",
    "from sklearn.metrics import accuracy_score, precision_recall_fscore_support"
   ]
  },
  {
   "cell_type": "code",
   "execution_count": 13,
   "metadata": {},
   "outputs": [],
   "source": [
    "dfs = []\n",
    "\n",
    "for df in pd.read_csv('train', chunksize=100000):\n",
    "    df_ = pd.concat([df.loc[df['click'] == 0],\n",
    "                     df.loc[df['click'] == 1].sample(frac=2, replace=True)])\n",
    "    \n",
    "    dfs.append(df_.sample(frac=0.1))\n",
    "    \n",
    "df = pd.concat(dfs)\n",
    "del dfs"
   ]
  },
  {
   "cell_type": "code",
   "execution_count": 18,
   "metadata": {},
   "outputs": [],
   "source": [
    "df.to_csv('train-subset.csv', index=False)"
   ]
  },
  {
   "cell_type": "code",
   "execution_count": 19,
   "metadata": {
    "scrolled": false
   },
   "outputs": [
    {
     "data": {
      "text/html": [
       "<div>\n",
       "<style scoped>\n",
       "    .dataframe tbody tr th:only-of-type {\n",
       "        vertical-align: middle;\n",
       "    }\n",
       "\n",
       "    .dataframe tbody tr th {\n",
       "        vertical-align: top;\n",
       "    }\n",
       "\n",
       "    .dataframe thead th {\n",
       "        text-align: right;\n",
       "    }\n",
       "</style>\n",
       "<table border=\"1\" class=\"dataframe\">\n",
       "  <thead>\n",
       "    <tr style=\"text-align: right;\">\n",
       "      <th></th>\n",
       "      <th>id</th>\n",
       "      <th>click</th>\n",
       "      <th>hour</th>\n",
       "      <th>C1</th>\n",
       "      <th>banner_pos</th>\n",
       "      <th>site_id</th>\n",
       "      <th>site_domain</th>\n",
       "      <th>site_category</th>\n",
       "      <th>app_id</th>\n",
       "      <th>app_domain</th>\n",
       "      <th>...</th>\n",
       "      <th>device_type</th>\n",
       "      <th>device_conn_type</th>\n",
       "      <th>C14</th>\n",
       "      <th>C15</th>\n",
       "      <th>C16</th>\n",
       "      <th>C17</th>\n",
       "      <th>C18</th>\n",
       "      <th>C19</th>\n",
       "      <th>C20</th>\n",
       "      <th>C21</th>\n",
       "    </tr>\n",
       "  </thead>\n",
       "  <tbody>\n",
       "    <tr>\n",
       "      <th>32399</th>\n",
       "      <td>1.449227e+19</td>\n",
       "      <td>0</td>\n",
       "      <td>14102100</td>\n",
       "      <td>1005</td>\n",
       "      <td>0</td>\n",
       "      <td>6256f5b4</td>\n",
       "      <td>28f93029</td>\n",
       "      <td>f028772b</td>\n",
       "      <td>ecad2386</td>\n",
       "      <td>7801e8d9</td>\n",
       "      <td>...</td>\n",
       "      <td>1</td>\n",
       "      <td>0</td>\n",
       "      <td>16615</td>\n",
       "      <td>320</td>\n",
       "      <td>50</td>\n",
       "      <td>1863</td>\n",
       "      <td>3</td>\n",
       "      <td>39</td>\n",
       "      <td>-1</td>\n",
       "      <td>23</td>\n",
       "    </tr>\n",
       "    <tr>\n",
       "      <th>92316</th>\n",
       "      <td>6.264801e+18</td>\n",
       "      <td>0</td>\n",
       "      <td>14102100</td>\n",
       "      <td>1005</td>\n",
       "      <td>1</td>\n",
       "      <td>b554a32a</td>\n",
       "      <td>7e091613</td>\n",
       "      <td>f028772b</td>\n",
       "      <td>ecad2386</td>\n",
       "      <td>7801e8d9</td>\n",
       "      <td>...</td>\n",
       "      <td>1</td>\n",
       "      <td>0</td>\n",
       "      <td>9478</td>\n",
       "      <td>320</td>\n",
       "      <td>50</td>\n",
       "      <td>906</td>\n",
       "      <td>3</td>\n",
       "      <td>1451</td>\n",
       "      <td>100156</td>\n",
       "      <td>61</td>\n",
       "    </tr>\n",
       "    <tr>\n",
       "      <th>66072</th>\n",
       "      <td>2.581248e+18</td>\n",
       "      <td>0</td>\n",
       "      <td>14102100</td>\n",
       "      <td>1005</td>\n",
       "      <td>0</td>\n",
       "      <td>85f751fd</td>\n",
       "      <td>c4e18dd6</td>\n",
       "      <td>50e219e0</td>\n",
       "      <td>0acbeaa3</td>\n",
       "      <td>45a51db4</td>\n",
       "      <td>...</td>\n",
       "      <td>1</td>\n",
       "      <td>0</td>\n",
       "      <td>20596</td>\n",
       "      <td>320</td>\n",
       "      <td>50</td>\n",
       "      <td>2161</td>\n",
       "      <td>0</td>\n",
       "      <td>35</td>\n",
       "      <td>-1</td>\n",
       "      <td>157</td>\n",
       "    </tr>\n",
       "    <tr>\n",
       "      <th>73923</th>\n",
       "      <td>3.677267e+17</td>\n",
       "      <td>0</td>\n",
       "      <td>14102100</td>\n",
       "      <td>1005</td>\n",
       "      <td>0</td>\n",
       "      <td>6256f5b4</td>\n",
       "      <td>28f93029</td>\n",
       "      <td>f028772b</td>\n",
       "      <td>ecad2386</td>\n",
       "      <td>7801e8d9</td>\n",
       "      <td>...</td>\n",
       "      <td>1</td>\n",
       "      <td>0</td>\n",
       "      <td>18093</td>\n",
       "      <td>320</td>\n",
       "      <td>50</td>\n",
       "      <td>2060</td>\n",
       "      <td>3</td>\n",
       "      <td>39</td>\n",
       "      <td>100106</td>\n",
       "      <td>23</td>\n",
       "    </tr>\n",
       "    <tr>\n",
       "      <th>66017</th>\n",
       "      <td>2.574219e+18</td>\n",
       "      <td>0</td>\n",
       "      <td>14102100</td>\n",
       "      <td>1005</td>\n",
       "      <td>1</td>\n",
       "      <td>93de26ae</td>\n",
       "      <td>7d05db75</td>\n",
       "      <td>335d28a8</td>\n",
       "      <td>ecad2386</td>\n",
       "      <td>7801e8d9</td>\n",
       "      <td>...</td>\n",
       "      <td>1</td>\n",
       "      <td>0</td>\n",
       "      <td>16071</td>\n",
       "      <td>320</td>\n",
       "      <td>50</td>\n",
       "      <td>1784</td>\n",
       "      <td>2</td>\n",
       "      <td>175</td>\n",
       "      <td>-1</td>\n",
       "      <td>95</td>\n",
       "    </tr>\n",
       "  </tbody>\n",
       "</table>\n",
       "<p>5 rows × 24 columns</p>\n",
       "</div>"
      ],
      "text/plain": [
       "                 id  click      hour    C1  banner_pos   site_id site_domain  \\\n",
       "32399  1.449227e+19      0  14102100  1005           0  6256f5b4    28f93029   \n",
       "92316  6.264801e+18      0  14102100  1005           1  b554a32a    7e091613   \n",
       "66072  2.581248e+18      0  14102100  1005           0  85f751fd    c4e18dd6   \n",
       "73923  3.677267e+17      0  14102100  1005           0  6256f5b4    28f93029   \n",
       "66017  2.574219e+18      0  14102100  1005           1  93de26ae    7d05db75   \n",
       "\n",
       "      site_category    app_id app_domain ...  device_type device_conn_type  \\\n",
       "32399      f028772b  ecad2386   7801e8d9 ...            1                0   \n",
       "92316      f028772b  ecad2386   7801e8d9 ...            1                0   \n",
       "66072      50e219e0  0acbeaa3   45a51db4 ...            1                0   \n",
       "73923      f028772b  ecad2386   7801e8d9 ...            1                0   \n",
       "66017      335d28a8  ecad2386   7801e8d9 ...            1                0   \n",
       "\n",
       "         C14  C15  C16   C17  C18   C19     C20  C21  \n",
       "32399  16615  320   50  1863    3    39      -1   23  \n",
       "92316   9478  320   50   906    3  1451  100156   61  \n",
       "66072  20596  320   50  2161    0    35      -1  157  \n",
       "73923  18093  320   50  2060    3    39  100106   23  \n",
       "66017  16071  320   50  1784    2   175      -1   95  \n",
       "\n",
       "[5 rows x 24 columns]"
      ]
     },
     "execution_count": 19,
     "metadata": {},
     "output_type": "execute_result"
    }
   ],
   "source": [
    "df.head()"
   ]
  },
  {
   "cell_type": "code",
   "execution_count": 22,
   "metadata": {
    "scrolled": false
   },
   "outputs": [
    {
     "data": {
      "text/plain": [
       "id                  4601032\n",
       "click                     2\n",
       "hour                    240\n",
       "C1                        7\n",
       "banner_pos                7\n",
       "site_id                3523\n",
       "site_domain            4432\n",
       "site_category            24\n",
       "app_id                 5099\n",
       "app_domain              309\n",
       "app_category             29\n",
       "device_id            559917\n",
       "device_ip           1813283\n",
       "device_model           6492\n",
       "device_type               5\n",
       "device_conn_type          4\n",
       "C14                    2462\n",
       "C15                       8\n",
       "C16                       9\n",
       "C17                     427\n",
       "C18                       4\n",
       "C19                      67\n",
       "C20                     167\n",
       "C21                      60\n",
       "dtype: int64"
      ]
     },
     "execution_count": 22,
     "metadata": {},
     "output_type": "execute_result"
    }
   ],
   "source": [
    "df.nunique()"
   ]
  },
  {
   "cell_type": "code",
   "execution_count": 79,
   "metadata": {
    "collapsed": true
   },
   "outputs": [],
   "source": [
    "C_hasher = FeatureHasher(n_features=20, input_type='string')\n",
    "id_hasher = FeatureHasher(n_features=8000, input_type='string')"
   ]
  },
  {
   "cell_type": "code",
   "execution_count": 81,
   "metadata": {},
   "outputs": [
    {
     "name": "stdout",
     "output_type": "stream",
     "text": [
      "(4729421, 48121)\n"
     ]
    }
   ],
   "source": [
    "X_train = hstack([hstack([C_hasher.transform(df[c].astype(str))\n",
    "                          for c in ['C1', 'C15', 'C16', 'C18',\n",
    "                                    'device_type', 'device_conn_type']]),\n",
    "                  hstack([id_hasher.transform(df[c].astype(str))\n",
    "                          for c in ['site_id', 'site_domain', 'site_category',\n",
    "                                    'app_id', 'app_domain', 'device_model']]),\n",
    "                  df['banner_pos'].values.reshape(-1,1)])\n",
    "\n",
    "print X_train.shape"
   ]
  },
  {
   "cell_type": "code",
   "execution_count": 87,
   "metadata": {},
   "outputs": [],
   "source": [
    "clf1 = SGDClassifier(loss='log',\n",
    "                     alpha=0.00005,\n",
    "                     n_jobs=4,\n",
    "                     n_iter=20,\n",
    "                     penalty='elasticnet',\n",
    "                     verbose=1,\n",
    "                     class_weight={0: 1, 1: 1.2})"
   ]
  },
  {
   "cell_type": "code",
   "execution_count": 88,
   "metadata": {},
   "outputs": [
    {
     "name": "stdout",
     "output_type": "stream",
     "text": [
      "-- Epoch 1\n",
      "Norm: 30.81, NNZs: 97, Bias: -0.085246, T: 4729421, Avg. loss: 0.878405\n",
      "Total training time: 5.40 seconds.\n",
      "-- Epoch 2\n",
      "Norm: 20.75, NNZs: 99, Bias: -0.085769, T: 9458842, Avg. loss: 0.721681\n",
      "Total training time: 10.45 seconds.\n",
      "-- Epoch 3\n",
      "Norm: 16.44, NNZs: 98, Bias: -0.086008, T: 14188263, Avg. loss: 0.668254\n",
      "Total training time: 15.69 seconds.\n",
      "-- Epoch 4\n",
      "Norm: 13.99, NNZs: 101, Bias: -0.086099, T: 18917684, Avg. loss: 0.641154\n",
      "Total training time: 20.70 seconds.\n",
      "-- Epoch 5\n",
      "Norm: 12.37, NNZs: 101, Bias: -0.086328, T: 23647105, Avg. loss: 0.624726\n",
      "Total training time: 25.42 seconds.\n",
      "-- Epoch 6\n",
      "Norm: 11.21, NNZs: 104, Bias: -0.086436, T: 28376526, Avg. loss: 0.613682\n",
      "Total training time: 30.75 seconds.\n",
      "-- Epoch 7\n",
      "Norm: 10.33, NNZs: 105, Bias: -0.086443, T: 33105947, Avg. loss: 0.605742\n",
      "Total training time: 36.80 seconds.\n",
      "-- Epoch 8\n",
      "Norm: 9.65, NNZs: 106, Bias: -0.086573, T: 37835368, Avg. loss: 0.599752\n",
      "Total training time: 41.69 seconds.\n",
      "-- Epoch 9\n",
      "Norm: 9.08, NNZs: 108, Bias: -0.086664, T: 42564789, Avg. loss: 0.595069\n",
      "Total training time: 46.34 seconds.\n",
      "-- Epoch 10\n",
      "Norm: 8.63, NNZs: 107, Bias: -0.086666, T: 47294210, Avg. loss: 0.591305\n",
      "Total training time: 51.11 seconds.\n",
      "-- Epoch 11\n",
      "Norm: 8.25, NNZs: 110, Bias: -0.086741, T: 52023631, Avg. loss: 0.588212\n",
      "Total training time: 56.02 seconds.\n",
      "-- Epoch 12\n",
      "Norm: 7.91, NNZs: 107, Bias: -0.086822, T: 56753052, Avg. loss: 0.585625\n",
      "Total training time: 61.17 seconds.\n",
      "-- Epoch 13\n",
      "Norm: 7.63, NNZs: 106, Bias: -0.086849, T: 61482473, Avg. loss: 0.583427\n",
      "Total training time: 66.78 seconds.\n",
      "-- Epoch 14\n",
      "Norm: 7.38, NNZs: 106, Bias: -0.086842, T: 66211894, Avg. loss: 0.581538\n",
      "Total training time: 71.89 seconds.\n",
      "-- Epoch 15\n",
      "Norm: 7.17, NNZs: 108, Bias: -0.086901, T: 70941315, Avg. loss: 0.579898\n",
      "Total training time: 76.81 seconds.\n",
      "-- Epoch 16\n",
      "Norm: 6.98, NNZs: 112, Bias: -0.086936, T: 75670736, Avg. loss: 0.578458\n",
      "Total training time: 81.67 seconds.\n",
      "-- Epoch 17\n",
      "Norm: 6.80, NNZs: 111, Bias: -0.086931, T: 80400157, Avg. loss: 0.577182\n",
      "Total training time: 87.28 seconds.\n",
      "-- Epoch 18\n",
      "Norm: 6.64, NNZs: 111, Bias: -0.087074, T: 85129578, Avg. loss: 0.576047\n",
      "Total training time: 93.52 seconds.\n",
      "-- Epoch 19\n",
      "Norm: 6.50, NNZs: 107, Bias: -0.087013, T: 89858999, Avg. loss: 0.575029\n",
      "Total training time: 98.23 seconds.\n",
      "-- Epoch 20\n",
      "Norm: 6.37, NNZs: 109, Bias: -0.087081, T: 94588420, Avg. loss: 0.574110\n",
      "Total training time: 102.96 seconds.\n"
     ]
    },
    {
     "data": {
      "text/plain": [
       "SGDClassifier(alpha=5e-05, average=False, class_weight={0: 1, 1: 1.2},\n",
       "       epsilon=0.1, eta0=0.0, fit_intercept=True, l1_ratio=0.15,\n",
       "       learning_rate='optimal', loss='log', n_iter=20, n_jobs=4,\n",
       "       penalty='elasticnet', power_t=0.5, random_state=None, shuffle=True,\n",
       "       verbose=1, warm_start=False)"
      ]
     },
     "execution_count": 88,
     "metadata": {},
     "output_type": "execute_result"
    }
   ],
   "source": [
    "clf1.fit(X=X_train,\n",
    "         y=df['click'])"
   ]
  },
  {
   "cell_type": "code",
   "execution_count": null,
   "metadata": {},
   "outputs": [],
   "source": [
    "y_pred = clf1.predict(X_train)"
   ]
  },
  {
   "cell_type": "code",
   "execution_count": 85,
   "metadata": {},
   "outputs": [
    {
     "data": {
      "text/plain": [
       "0.72086625402982729"
      ]
     },
     "execution_count": 85,
     "metadata": {},
     "output_type": "execute_result"
    }
   ],
   "source": [
    "accuracy_score(y_pred,\n",
    "               df['click'])"
   ]
  },
  {
   "cell_type": "code",
   "execution_count": 86,
   "metadata": {},
   "outputs": [
    {
     "data": {
      "text/plain": [
       "(0.85538662734342852, 0.72086625402982729, 0.7696518860382362, None)"
      ]
     },
     "execution_count": 86,
     "metadata": {},
     "output_type": "execute_result"
    }
   ],
   "source": [
    "precision_recall_fscore_support(y_pred,\n",
    "                                df['click'],\n",
    "                                average='weighted')"
   ]
  },
  {
   "cell_type": "code",
   "execution_count": null,
   "metadata": {
    "collapsed": true
   },
   "outputs": [],
   "source": []
  }
 ],
 "metadata": {
  "kernelspec": {
   "display_name": "Python 2",
   "language": "python",
   "name": "python2"
  },
  "language_info": {
   "codemirror_mode": {
    "name": "ipython",
    "version": 2
   },
   "file_extension": ".py",
   "mimetype": "text/x-python",
   "name": "python",
   "nbconvert_exporter": "python",
   "pygments_lexer": "ipython2",
   "version": "2.7.13"
  }
 },
 "nbformat": 4,
 "nbformat_minor": 2
}
