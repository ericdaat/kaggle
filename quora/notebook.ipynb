{
 "cells": [
  {
   "cell_type": "code",
   "execution_count": 1,
   "metadata": {},
   "outputs": [
    {
     "name": "stderr",
     "output_type": "stream",
     "text": [
      "Using TensorFlow backend.\n"
     ]
    }
   ],
   "source": [
    "import pandas as pd\n",
    "from IPython.display import SVG\n",
    "import numpy as np\n",
    "import os\n",
    "\n",
    "from sklearn import model_selection\n",
    "from sklearn import metrics\n",
    "\n",
    "from keras import layers\n",
    "from keras import models\n",
    "from keras.utils import plot_model\n",
    "from keras.preprocessing.text import one_hot\n",
    "from keras.preprocessing.sequence import pad_sequences\n",
    "from keras.utils.vis_utils import model_to_dot\n",
    "from keras.preprocessing.text import Tokenizer\n",
    "from keras import backend as K"
   ]
  },
  {
   "cell_type": "code",
   "execution_count": 2,
   "metadata": {},
   "outputs": [],
   "source": [
    "df = pd.read_csv('train.csv').sample(50000)\n"
   ]
  },
  {
   "cell_type": "code",
   "execution_count": 3,
   "metadata": {},
   "outputs": [
    {
     "data": {
      "text/html": [
       "<div>\n",
       "<style scoped>\n",
       "    .dataframe tbody tr th:only-of-type {\n",
       "        vertical-align: middle;\n",
       "    }\n",
       "\n",
       "    .dataframe tbody tr th {\n",
       "        vertical-align: top;\n",
       "    }\n",
       "\n",
       "    .dataframe thead th {\n",
       "        text-align: right;\n",
       "    }\n",
       "</style>\n",
       "<table border=\"1\" class=\"dataframe\">\n",
       "  <thead>\n",
       "    <tr style=\"text-align: right;\">\n",
       "      <th></th>\n",
       "      <th>id</th>\n",
       "      <th>qid1</th>\n",
       "      <th>qid2</th>\n",
       "      <th>question1</th>\n",
       "      <th>question2</th>\n",
       "      <th>is_duplicate</th>\n",
       "    </tr>\n",
       "  </thead>\n",
       "  <tbody>\n",
       "    <tr>\n",
       "      <th>392005</th>\n",
       "      <td>392005</td>\n",
       "      <td>524650</td>\n",
       "      <td>524651</td>\n",
       "      <td>Is film actress are too fart loudly?</td>\n",
       "      <td>What is the speed of rain fall all the way?</td>\n",
       "      <td>0</td>\n",
       "    </tr>\n",
       "    <tr>\n",
       "      <th>85607</th>\n",
       "      <td>85607</td>\n",
       "      <td>144502</td>\n",
       "      <td>144503</td>\n",
       "      <td>How long does it take for smoking to ruin your...</td>\n",
       "      <td>How much is smoking is injurious to health?</td>\n",
       "      <td>0</td>\n",
       "    </tr>\n",
       "    <tr>\n",
       "      <th>40233</th>\n",
       "      <td>40233</td>\n",
       "      <td>72814</td>\n",
       "      <td>72815</td>\n",
       "      <td>I'm presently in second year of engineering.? ...</td>\n",
       "      <td>What are occasions when kissing asses will bac...</td>\n",
       "      <td>0</td>\n",
       "    </tr>\n",
       "    <tr>\n",
       "      <th>167697</th>\n",
       "      <td>167697</td>\n",
       "      <td>259936</td>\n",
       "      <td>96722</td>\n",
       "      <td>What is a good solar panel installation provid...</td>\n",
       "      <td>Which is a good solar panel installation provi...</td>\n",
       "      <td>0</td>\n",
       "    </tr>\n",
       "    <tr>\n",
       "      <th>251100</th>\n",
       "      <td>251100</td>\n",
       "      <td>233783</td>\n",
       "      <td>65438</td>\n",
       "      <td>What happens if their is suspicious activity o...</td>\n",
       "      <td>How will I know if there is suspicious activit...</td>\n",
       "      <td>1</td>\n",
       "    </tr>\n",
       "  </tbody>\n",
       "</table>\n",
       "</div>"
      ],
      "text/plain": [
       "            id    qid1    qid2  \\\n",
       "392005  392005  524650  524651   \n",
       "85607    85607  144502  144503   \n",
       "40233    40233   72814   72815   \n",
       "167697  167697  259936   96722   \n",
       "251100  251100  233783   65438   \n",
       "\n",
       "                                                question1  \\\n",
       "392005               Is film actress are too fart loudly?   \n",
       "85607   How long does it take for smoking to ruin your...   \n",
       "40233   I'm presently in second year of engineering.? ...   \n",
       "167697  What is a good solar panel installation provid...   \n",
       "251100  What happens if their is suspicious activity o...   \n",
       "\n",
       "                                                question2  is_duplicate  \n",
       "392005        What is the speed of rain fall all the way?             0  \n",
       "85607         How much is smoking is injurious to health?             0  \n",
       "40233   What are occasions when kissing asses will bac...             0  \n",
       "167697  Which is a good solar panel installation provi...             0  \n",
       "251100  How will I know if there is suspicious activit...             1  "
      ]
     },
     "execution_count": 3,
     "metadata": {},
     "output_type": "execute_result"
    }
   ],
   "source": [
    "df.head()"
   ]
  },
  {
   "cell_type": "code",
   "execution_count": 4,
   "metadata": {},
   "outputs": [],
   "source": [
    "df['question1'] = df['question1'].fillna('').str.lower().str.replace('[^A-Za-z0-9?!]+', ' ')\n",
    "df['question2'] = df['question2'].fillna('').str.lower().str.replace('[^A-Za-z0-9?!]+', ' ')"
   ]
  },
  {
   "cell_type": "code",
   "execution_count": 5,
   "metadata": {},
   "outputs": [],
   "source": [
    "df_train, df_val = model_selection.train_test_split(df)"
   ]
  },
  {
   "cell_type": "code",
   "execution_count": 6,
   "metadata": {},
   "outputs": [
    {
     "name": "stdout",
     "output_type": "stream",
     "text": [
      "Found 29100 unique tokens.\n"
     ]
    }
   ],
   "source": [
    "tokenizer = Tokenizer()\n",
    "tokenizer.fit_on_texts(pd.concat([df_train['question1'], df_train['question2']]))\n",
    "\n",
    "word_index = tokenizer.word_index\n",
    "print('Found {0} unique tokens.'.format(len(word_index)))"
   ]
  },
  {
   "cell_type": "code",
   "execution_count": 7,
   "metadata": {},
   "outputs": [
    {
     "name": "stdout",
     "output_type": "stream",
     "text": [
      "Found 27665 word vectors.\n"
     ]
    }
   ],
   "source": [
    "embeddings_index = {}\n",
    "\n",
    "f = open(os.path.join('/home/eric/data', 'glove.42B.300d.txt'))\n",
    "\n",
    "for line in f:\n",
    "    values = line.split()\n",
    "    word = values[0]\n",
    "    coefs = np.asarray(values[1:], dtype='float32')\n",
    "    if word in word_index:\n",
    "        embeddings_index[word] = coefs\n",
    "\n",
    "f.close()\n",
    "\n",
    "print('Found {0} word vectors.'.format(len(embeddings_index)))"
   ]
  },
  {
   "cell_type": "code",
   "execution_count": 9,
   "metadata": {},
   "outputs": [],
   "source": [
    "embedding_matrix = np.zeros((len(word_index) + 1, 300))\n",
    "\n",
    "for word, i in word_index.items():\n",
    "    embedding_vector = embeddings_index.get(word)\n",
    "    if embedding_vector is not None:\n",
    "        # words not found in embedding index will be all-zeros.\n",
    "        embedding_matrix[i] = embedding_vector"
   ]
  },
  {
   "cell_type": "markdown",
   "metadata": {},
   "source": [
    "## Siamese MaLSTM\n",
    "\n",
    "Inspired from [How to predict Quora Question Pairs using Siamese Manhattan LSTM](https://medium.com/mlreview/implementing-malstm-on-kaggles-quora-question-pairs-competition-8b31b0b16a07)"
   ]
  },
  {
   "cell_type": "code",
   "execution_count": 12,
   "metadata": {},
   "outputs": [
    {
     "name": "stderr",
     "output_type": "stream",
     "text": [
      "/home/eric/code/venvs/data3/lib/python3.5/site-packages/ipykernel_launcher.py:22: UserWarning: The `merge` function is deprecated and will be removed after 08/2017. Use instead layers from `keras.layers.merge`, e.g. `add`, `concatenate`, etc.\n",
      "/home/eric/code/venvs/data3/lib/python3.5/site-packages/keras/legacy/layers.py:465: UserWarning: The `Merge` layer is deprecated and will be removed after 08/2017. Use instead layers from `keras.layers.merge`, e.g. `add`, `concatenate`, etc.\n",
      "  name=name)\n"
     ]
    },
    {
     "data": {
      "image/svg+xml": [
       "<svg height=\"304pt\" viewBox=\"0.00 0.00 552.00 304.00\" width=\"552pt\" xmlns=\"http://www.w3.org/2000/svg\" xmlns:xlink=\"http://www.w3.org/1999/xlink\">\n",
       "<g class=\"graph\" id=\"graph0\" transform=\"scale(1 1) rotate(0) translate(4 300)\">\n",
       "<title>G</title>\n",
       "<polygon fill=\"white\" points=\"-4,4 -4,-300 548,-300 548,4 -4,4\" stroke=\"none\"/>\n",
       "<!-- 140699131458952 -->\n",
       "<g class=\"node\" id=\"node1\"><title>140699131458952</title>\n",
       "<polygon fill=\"none\" points=\"0,-249.5 0,-295.5 263,-295.5 263,-249.5 0,-249.5\" stroke=\"black\"/>\n",
       "<text font-family=\"Times,serif\" font-size=\"14.00\" text-anchor=\"middle\" x=\"62.5\" y=\"-268.8\">input_3: InputLayer</text>\n",
       "<polyline fill=\"none\" points=\"125,-249.5 125,-295.5 \" stroke=\"black\"/>\n",
       "<text font-family=\"Times,serif\" font-size=\"14.00\" text-anchor=\"middle\" x=\"152.5\" y=\"-280.3\">input:</text>\n",
       "<polyline fill=\"none\" points=\"125,-272.5 180,-272.5 \" stroke=\"black\"/>\n",
       "<text font-family=\"Times,serif\" font-size=\"14.00\" text-anchor=\"middle\" x=\"152.5\" y=\"-257.3\">output:</text>\n",
       "<polyline fill=\"none\" points=\"180,-249.5 180,-295.5 \" stroke=\"black\"/>\n",
       "<text font-family=\"Times,serif\" font-size=\"14.00\" text-anchor=\"middle\" x=\"221.5\" y=\"-280.3\">(None, 300)</text>\n",
       "<polyline fill=\"none\" points=\"180,-272.5 263,-272.5 \" stroke=\"black\"/>\n",
       "<text font-family=\"Times,serif\" font-size=\"14.00\" text-anchor=\"middle\" x=\"221.5\" y=\"-257.3\">(None, 300)</text>\n",
       "</g>\n",
       "<!-- 140699131461416 -->\n",
       "<g class=\"node\" id=\"node3\"><title>140699131461416</title>\n",
       "<polygon fill=\"none\" points=\"108.5,-166.5 108.5,-212.5 434.5,-212.5 434.5,-166.5 108.5,-166.5\" stroke=\"black\"/>\n",
       "<text font-family=\"Times,serif\" font-size=\"14.00\" text-anchor=\"middle\" x=\"189\" y=\"-185.8\">embedding_2: Embedding</text>\n",
       "<polyline fill=\"none\" points=\"269.5,-166.5 269.5,-212.5 \" stroke=\"black\"/>\n",
       "<text font-family=\"Times,serif\" font-size=\"14.00\" text-anchor=\"middle\" x=\"297\" y=\"-197.3\">input:</text>\n",
       "<polyline fill=\"none\" points=\"269.5,-189.5 324.5,-189.5 \" stroke=\"black\"/>\n",
       "<text font-family=\"Times,serif\" font-size=\"14.00\" text-anchor=\"middle\" x=\"297\" y=\"-174.3\">output:</text>\n",
       "<polyline fill=\"none\" points=\"324.5,-166.5 324.5,-212.5 \" stroke=\"black\"/>\n",
       "<text font-family=\"Times,serif\" font-size=\"14.00\" text-anchor=\"middle\" x=\"379.5\" y=\"-197.3\">(None, 300)</text>\n",
       "<polyline fill=\"none\" points=\"324.5,-189.5 434.5,-189.5 \" stroke=\"black\"/>\n",
       "<text font-family=\"Times,serif\" font-size=\"14.00\" text-anchor=\"middle\" x=\"379.5\" y=\"-174.3\">(None, 100, 300)</text>\n",
       "</g>\n",
       "<!-- 140699131458952&#45;&gt;140699131461416 -->\n",
       "<g class=\"edge\" id=\"edge1\"><title>140699131458952-&gt;140699131461416</title>\n",
       "<path d=\"M169.756,-249.366C186.578,-239.634 206.503,-228.106 224.242,-217.842\" fill=\"none\" stroke=\"black\"/>\n",
       "<polygon fill=\"black\" points=\"226.388,-220.644 233.291,-212.607 222.882,-214.585 226.388,-220.644\" stroke=\"black\"/>\n",
       "</g>\n",
       "<!-- 140699131525104 -->\n",
       "<g class=\"node\" id=\"node2\"><title>140699131525104</title>\n",
       "<polygon fill=\"none\" points=\"281,-249.5 281,-295.5 544,-295.5 544,-249.5 281,-249.5\" stroke=\"black\"/>\n",
       "<text font-family=\"Times,serif\" font-size=\"14.00\" text-anchor=\"middle\" x=\"343.5\" y=\"-268.8\">input_4: InputLayer</text>\n",
       "<polyline fill=\"none\" points=\"406,-249.5 406,-295.5 \" stroke=\"black\"/>\n",
       "<text font-family=\"Times,serif\" font-size=\"14.00\" text-anchor=\"middle\" x=\"433.5\" y=\"-280.3\">input:</text>\n",
       "<polyline fill=\"none\" points=\"406,-272.5 461,-272.5 \" stroke=\"black\"/>\n",
       "<text font-family=\"Times,serif\" font-size=\"14.00\" text-anchor=\"middle\" x=\"433.5\" y=\"-257.3\">output:</text>\n",
       "<polyline fill=\"none\" points=\"461,-249.5 461,-295.5 \" stroke=\"black\"/>\n",
       "<text font-family=\"Times,serif\" font-size=\"14.00\" text-anchor=\"middle\" x=\"502.5\" y=\"-280.3\">(None, 300)</text>\n",
       "<polyline fill=\"none\" points=\"461,-272.5 544,-272.5 \" stroke=\"black\"/>\n",
       "<text font-family=\"Times,serif\" font-size=\"14.00\" text-anchor=\"middle\" x=\"502.5\" y=\"-257.3\">(None, 300)</text>\n",
       "</g>\n",
       "<!-- 140699131525104&#45;&gt;140699131461416 -->\n",
       "<g class=\"edge\" id=\"edge2\"><title>140699131525104-&gt;140699131461416</title>\n",
       "<path d=\"M373.971,-249.366C357.029,-239.634 336.962,-228.106 319.096,-217.842\" fill=\"none\" stroke=\"black\"/>\n",
       "<polygon fill=\"black\" points=\"320.397,-214.553 309.982,-212.607 316.91,-220.623 320.397,-214.553\" stroke=\"black\"/>\n",
       "</g>\n",
       "<!-- 140699131459232 -->\n",
       "<g class=\"node\" id=\"node4\"><title>140699131459232</title>\n",
       "<polygon fill=\"none\" points=\"140,-83.5 140,-129.5 403,-129.5 403,-83.5 140,-83.5\" stroke=\"black\"/>\n",
       "<text font-family=\"Times,serif\" font-size=\"14.00\" text-anchor=\"middle\" x=\"189\" y=\"-102.8\">lstm_2: LSTM</text>\n",
       "<polyline fill=\"none\" points=\"238,-83.5 238,-129.5 \" stroke=\"black\"/>\n",
       "<text font-family=\"Times,serif\" font-size=\"14.00\" text-anchor=\"middle\" x=\"265.5\" y=\"-114.3\">input:</text>\n",
       "<polyline fill=\"none\" points=\"238,-106.5 293,-106.5 \" stroke=\"black\"/>\n",
       "<text font-family=\"Times,serif\" font-size=\"14.00\" text-anchor=\"middle\" x=\"265.5\" y=\"-91.3\">output:</text>\n",
       "<polyline fill=\"none\" points=\"293,-83.5 293,-129.5 \" stroke=\"black\"/>\n",
       "<text font-family=\"Times,serif\" font-size=\"14.00\" text-anchor=\"middle\" x=\"348\" y=\"-114.3\">(None, 100, 300)</text>\n",
       "<polyline fill=\"none\" points=\"293,-106.5 403,-106.5 \" stroke=\"black\"/>\n",
       "<text font-family=\"Times,serif\" font-size=\"14.00\" text-anchor=\"middle\" x=\"348\" y=\"-91.3\">(None, 128)</text>\n",
       "</g>\n",
       "<!-- 140699131461416&#45;&gt;140699131459232 -->\n",
       "<g class=\"edge\" id=\"edge3\"><title>140699131461416-&gt;140699131459232</title>\n",
       "<path d=\"M271.5,-166.366C271.5,-158.152 271.5,-148.658 271.5,-139.725\" fill=\"none\" stroke=\"black\"/>\n",
       "<polygon fill=\"black\" points=\"275,-139.607 271.5,-129.607 268,-139.607 275,-139.607\" stroke=\"black\"/>\n",
       "</g>\n",
       "<!-- 140699131281872 -->\n",
       "<g class=\"node\" id=\"node5\"><title>140699131281872</title>\n",
       "<polygon fill=\"none\" points=\"107.5,-0.5 107.5,-46.5 435.5,-46.5 435.5,-0.5 107.5,-0.5\" stroke=\"black\"/>\n",
       "<text font-family=\"Times,serif\" font-size=\"14.00\" text-anchor=\"middle\" x=\"161.5\" y=\"-19.8\">merge_2: Merge</text>\n",
       "<polyline fill=\"none\" points=\"215.5,-0.5 215.5,-46.5 \" stroke=\"black\"/>\n",
       "<text font-family=\"Times,serif\" font-size=\"14.00\" text-anchor=\"middle\" x=\"243\" y=\"-31.3\">input:</text>\n",
       "<polyline fill=\"none\" points=\"215.5,-23.5 270.5,-23.5 \" stroke=\"black\"/>\n",
       "<text font-family=\"Times,serif\" font-size=\"14.00\" text-anchor=\"middle\" x=\"243\" y=\"-8.3\">output:</text>\n",
       "<polyline fill=\"none\" points=\"270.5,-0.5 270.5,-46.5 \" stroke=\"black\"/>\n",
       "<text font-family=\"Times,serif\" font-size=\"14.00\" text-anchor=\"middle\" x=\"353\" y=\"-31.3\">[(None, 128), (None, 128)]</text>\n",
       "<polyline fill=\"none\" points=\"270.5,-23.5 435.5,-23.5 \" stroke=\"black\"/>\n",
       "<text font-family=\"Times,serif\" font-size=\"14.00\" text-anchor=\"middle\" x=\"353\" y=\"-8.3\">(None, 1)</text>\n",
       "</g>\n",
       "<!-- 140699131459232&#45;&gt;140699131281872 -->\n",
       "<g class=\"edge\" id=\"edge5\"><title>140699131459232-&gt;140699131281872</title>\n",
       "<path d=\"M271.5,-83.3664C271.5,-75.1516 271.5,-65.6579 271.5,-56.7252\" fill=\"none\" stroke=\"black\"/>\n",
       "<polygon fill=\"black\" points=\"275,-56.6068 271.5,-46.6068 268,-56.6069 275,-56.6068\" stroke=\"black\"/>\n",
       "</g>\n",
       "</g>\n",
       "</svg>"
      ],
      "text/plain": [
       "<IPython.core.display.SVG object>"
      ]
     },
     "execution_count": 12,
     "metadata": {},
     "output_type": "execute_result"
    }
   ],
   "source": [
    "def exponent_neg_manhattan_distance(left, right):\n",
    "    return K.exp(-K.sum(K.abs(left-right), axis=1, keepdims=True))\n",
    "\n",
    "shared_embedding = layers.Embedding(input_dim=len(word_index) + 1,\n",
    "                                    output_dim=300,\n",
    "                                    weights=[embedding_matrix],\n",
    "                                    input_length=100,\n",
    "                                    trainable=False)\n",
    "\n",
    "shared_lstm = layers.LSTM(128)\n",
    "\n",
    "x1a = layers.Input(shape=(300,), dtype='int32')\n",
    "h1a = shared_embedding(x1a)\n",
    "h1a = shared_lstm(h1a)\n",
    "\n",
    "x1b = layers.Input(shape=(300,), dtype='int32')\n",
    "h1b = shared_embedding(x1b)\n",
    "h1b = shared_lstm(h1b)\n",
    "\n",
    "malstm_distance = layers.merge(mode=lambda x: exponent_neg_manhattan_distance(x[0], x[1]),\n",
    "                               output_shape=lambda x: (x[0][0], 1),\n",
    "                               inputs=[h1a, h1b])\n",
    "\n",
    "model = models.Model(inputs=[x1a, x1b],\n",
    "                     outputs=[malstm_distance])\n",
    "\n",
    "model.compile(optimizer='adam',\n",
    "              loss='mean_squared_error',\n",
    "              metrics=['accuracy'])\n",
    "\n",
    "SVG(model_to_dot(model, show_shapes=True).create(prog='dot', format='svg'))"
   ]
  },
  {
   "cell_type": "code",
   "execution_count": 13,
   "metadata": {},
   "outputs": [],
   "source": [
    "x_train1 = pad_sequences(tokenizer.texts_to_sequences(df_train['question1']), 300)\n",
    "x_train2 = pad_sequences(tokenizer.texts_to_sequences(df_train['question2']), 300)\n",
    "\n",
    "x_val1 = pad_sequences(tokenizer.texts_to_sequences(df_val['question1']), 300)\n",
    "x_val2 = pad_sequences(tokenizer.texts_to_sequences(df_val['question2']), 300)"
   ]
  },
  {
   "cell_type": "code",
   "execution_count": 14,
   "metadata": {},
   "outputs": [
    {
     "name": "stdout",
     "output_type": "stream",
     "text": [
      "Train on 37500 samples, validate on 12500 samples\n",
      "Epoch 1/3\n",
      "37500/37500 [==============================] - 2510s 67ms/step - loss: 0.1918 - acc: 0.7194 - val_loss: 0.1799 - val_acc: 0.7262\n",
      "Epoch 2/3\n",
      "37500/37500 [==============================] - 1667s 44ms/step - loss: 0.1571 - acc: 0.7604 - val_loss: 0.1723 - val_acc: 0.7390\n",
      "Epoch 3/3\n",
      "37500/37500 [==============================] - 1514s 40ms/step - loss: 0.1454 - acc: 0.7839 - val_loss: 0.1660 - val_acc: 0.7533\n"
     ]
    },
    {
     "data": {
      "text/plain": [
       "<keras.callbacks.History at 0x7ff711c130b8>"
      ]
     },
     "execution_count": 14,
     "metadata": {},
     "output_type": "execute_result"
    }
   ],
   "source": [
    "model.fit(x=[x_train1, x_train2],\n",
    "          y=df_train['is_duplicate'].values,\n",
    "          validation_data=([x_val1, x_val2], df_val['is_duplicate'].values),\n",
    "          epochs=3)"
   ]
  },
  {
   "cell_type": "code",
   "execution_count": 15,
   "metadata": {},
   "outputs": [
    {
     "data": {
      "text/plain": [
       "0.7396766683312893"
      ]
     },
     "execution_count": 15,
     "metadata": {},
     "output_type": "execute_result"
    }
   ],
   "source": [
    "metrics.roc_auc_score(list(map(lambda r: 1 if r > 0.5 else 0, model.predict([x_val1, x_val2]))),\n",
    "                      df_val['is_duplicate'].values)"
   ]
  },
  {
   "cell_type": "code",
   "execution_count": null,
   "metadata": {},
   "outputs": [],
   "source": []
  }
 ],
 "metadata": {
  "kernelspec": {
   "display_name": "Python (data3)",
   "language": "python",
   "name": "data3"
  },
  "language_info": {
   "codemirror_mode": {
    "name": "ipython",
    "version": 3
   },
   "file_extension": ".py",
   "mimetype": "text/x-python",
   "name": "python",
   "nbconvert_exporter": "python",
   "pygments_lexer": "ipython3",
   "version": "3.5.2"
  }
 },
 "nbformat": 4,
 "nbformat_minor": 2
}
