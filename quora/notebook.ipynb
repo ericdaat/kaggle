{
 "cells": [
  {
   "cell_type": "code",
   "execution_count": 36,
   "metadata": {},
   "outputs": [],
   "source": [
    "import pandas as pd\n",
    "from IPython.display import SVG\n",
    "import numpy as np\n",
    "import os\n",
    "\n",
    "from sklearn import model_selection\n",
    "from sklearn import metrics\n",
    "\n",
    "from keras import layers\n",
    "from keras import models\n",
    "from keras.utils import plot_model\n",
    "from keras.preprocessing.text import one_hot\n",
    "from keras.preprocessing.sequence import pad_sequences\n",
    "from keras.utils.vis_utils import model_to_dot\n",
    "from keras.preprocessing.text import Tokenizer\n",
    "from keras import backend as K"
   ]
  },
  {
   "cell_type": "code",
   "execution_count": 2,
   "metadata": {},
   "outputs": [],
   "source": [
    "df = pd.read_csv('train.csv').sample(5000)\n"
   ]
  },
  {
   "cell_type": "code",
   "execution_count": 3,
   "metadata": {},
   "outputs": [
    {
     "data": {
      "text/html": [
       "<div>\n",
       "<style scoped>\n",
       "    .dataframe tbody tr th:only-of-type {\n",
       "        vertical-align: middle;\n",
       "    }\n",
       "\n",
       "    .dataframe tbody tr th {\n",
       "        vertical-align: top;\n",
       "    }\n",
       "\n",
       "    .dataframe thead th {\n",
       "        text-align: right;\n",
       "    }\n",
       "</style>\n",
       "<table border=\"1\" class=\"dataframe\">\n",
       "  <thead>\n",
       "    <tr style=\"text-align: right;\">\n",
       "      <th></th>\n",
       "      <th>id</th>\n",
       "      <th>qid1</th>\n",
       "      <th>qid2</th>\n",
       "      <th>question1</th>\n",
       "      <th>question2</th>\n",
       "      <th>is_duplicate</th>\n",
       "    </tr>\n",
       "  </thead>\n",
       "  <tbody>\n",
       "    <tr>\n",
       "      <th>155340</th>\n",
       "      <td>155340</td>\n",
       "      <td>243377</td>\n",
       "      <td>243378</td>\n",
       "      <td>What should I know about human behavior if I w...</td>\n",
       "      <td>What should I know about human behaviour if I ...</td>\n",
       "      <td>1</td>\n",
       "    </tr>\n",
       "    <tr>\n",
       "      <th>402882</th>\n",
       "      <td>402882</td>\n",
       "      <td>12957</td>\n",
       "      <td>46022</td>\n",
       "      <td>Has Ancient Mesopotamia been scientifically te...</td>\n",
       "      <td>Have Ancient Akkadians been scientifically tes...</td>\n",
       "      <td>1</td>\n",
       "    </tr>\n",
       "    <tr>\n",
       "      <th>263329</th>\n",
       "      <td>263329</td>\n",
       "      <td>293113</td>\n",
       "      <td>379856</td>\n",
       "      <td>What is the difference between group discussio...</td>\n",
       "      <td>What is the difference between a group discuss...</td>\n",
       "      <td>0</td>\n",
       "    </tr>\n",
       "    <tr>\n",
       "      <th>81819</th>\n",
       "      <td>81819</td>\n",
       "      <td>84569</td>\n",
       "      <td>138857</td>\n",
       "      <td>How many valence electrons does oxygen have?</td>\n",
       "      <td>What am I if I call myself an electron of vale...</td>\n",
       "      <td>0</td>\n",
       "    </tr>\n",
       "    <tr>\n",
       "      <th>85491</th>\n",
       "      <td>85491</td>\n",
       "      <td>144334</td>\n",
       "      <td>144335</td>\n",
       "      <td>Is Telugu older than Tamil?</td>\n",
       "      <td>Which language is older telugu or tamil?</td>\n",
       "      <td>1</td>\n",
       "    </tr>\n",
       "  </tbody>\n",
       "</table>\n",
       "</div>"
      ],
      "text/plain": [
       "            id    qid1    qid2  \\\n",
       "155340  155340  243377  243378   \n",
       "402882  402882   12957   46022   \n",
       "263329  263329  293113  379856   \n",
       "81819    81819   84569  138857   \n",
       "85491    85491  144334  144335   \n",
       "\n",
       "                                                question1  \\\n",
       "155340  What should I know about human behavior if I w...   \n",
       "402882  Has Ancient Mesopotamia been scientifically te...   \n",
       "263329  What is the difference between group discussio...   \n",
       "81819        How many valence electrons does oxygen have?   \n",
       "85491                         Is Telugu older than Tamil?   \n",
       "\n",
       "                                                question2  is_duplicate  \n",
       "155340  What should I know about human behaviour if I ...             1  \n",
       "402882  Have Ancient Akkadians been scientifically tes...             1  \n",
       "263329  What is the difference between a group discuss...             0  \n",
       "81819   What am I if I call myself an electron of vale...             0  \n",
       "85491            Which language is older telugu or tamil?             1  "
      ]
     },
     "execution_count": 3,
     "metadata": {},
     "output_type": "execute_result"
    }
   ],
   "source": [
    "df.head()"
   ]
  },
  {
   "cell_type": "code",
   "execution_count": 25,
   "metadata": {},
   "outputs": [],
   "source": [
    "df['question1'] = df['question1'].fillna('').str.lower().str.replace('[^A-Za-z0-9?!]+', ' ')\n",
    "df['question2'] = df['question2'].fillna('').str.lower().str.replace('[^A-Za-z0-9?!]+', ' ')"
   ]
  },
  {
   "cell_type": "code",
   "execution_count": 5,
   "metadata": {},
   "outputs": [],
   "source": [
    "df['question1_len'] = df['question1'].fillna('').apply(lambda r: len(r.split(' ')))\n",
    "df['question2_len'] = df['question2'].fillna('').apply(lambda r: len(r.split(' ')))"
   ]
  },
  {
   "cell_type": "code",
   "execution_count": 6,
   "metadata": {},
   "outputs": [],
   "source": [
    "df_train, df_val = model_selection.train_test_split(df)"
   ]
  },
  {
   "cell_type": "code",
   "execution_count": 7,
   "metadata": {},
   "outputs": [],
   "source": [
    "x1_train = pad_sequences(df_train['question1'].apply(lambda r: one_hot(r, 500000)), 100)\n",
    "x2_train = pad_sequences(df_train['question2'].apply(lambda r: one_hot(r, 500000)), 100)\n",
    "\n",
    "x1_val = pad_sequences(df_val['question1'].apply(lambda r: one_hot(r, 500000)), 100)\n",
    "x2_val = pad_sequences(df_val['question2'].apply(lambda r: one_hot(r, 500000)), 100)"
   ]
  },
  {
   "cell_type": "code",
   "execution_count": 33,
   "metadata": {},
   "outputs": [
    {
     "name": "stdout",
     "output_type": "stream",
     "text": [
      "Found 8837 unique tokens.\n"
     ]
    }
   ],
   "source": [
    "tokenizer = Tokenizer()\n",
    "tokenizer.fit_on_texts(pd.concat([df_train['question1'], df_train['question2']]))\n",
    "sequences1 = tokenizer.texts_to_sequences(df_train['question1'])\n",
    "sequences2 = tokenizer.texts_to_sequences(df_train['question2'])\n",
    "\n",
    "word_index = tokenizer.word_index\n",
    "print('Found {0} unique tokens.'.format(len(word_index)))"
   ]
  },
  {
   "cell_type": "code",
   "execution_count": null,
   "metadata": {},
   "outputs": [],
   "source": [
    "embeddings_index = {}\n",
    "\n",
    "f = open(os.path.join('/home/eric/data', 'glove.42B.300d.txt'))\n",
    "\n",
    "for line in f:\n",
    "    values = line.split()\n",
    "    word = values[0]\n",
    "    coefs = np.asarray(values[1:], dtype='float32')\n",
    "    if word in word_index:\n",
    "        embeddings_index[word] = coefs\n",
    "\n",
    "f.close()\n",
    "\n",
    "print('Found {0} word vectors.'.format(len(embeddings_index)))"
   ]
  },
  {
   "cell_type": "code",
   "execution_count": null,
   "metadata": {},
   "outputs": [],
   "source": [
    "embedding_matrix = np.zeros((len(word_index) + 1, 300))\n",
    "\n",
    "for word, i in word_index.items():\n",
    "    embedding_vector = embeddings_index.get(word)\n",
    "    if embedding_vector is not None:\n",
    "        # words not found in embedding index will be all-zeros.\n",
    "        embedding_matrix[i] = embedding_vector"
   ]
  },
  {
   "cell_type": "markdown",
   "metadata": {},
   "source": [
    "## Siamese MaLSTM\n",
    "\n",
    "Inspired from [How to predict Quora Question Pairs using Siamese Manhattan LSTM](https://medium.com/mlreview/implementing-malstm-on-kaggles-quora-question-pairs-competition-8b31b0b16a07)"
   ]
  },
  {
   "cell_type": "code",
   "execution_count": 19,
   "metadata": {},
   "outputs": [
    {
     "name": "stderr",
     "output_type": "stream",
     "text": [
      "/home/eric/code/venvs/data3/lib/python3.5/site-packages/ipykernel_launcher.py:19: UserWarning: The `merge` function is deprecated and will be removed after 08/2017. Use instead layers from `keras.layers.merge`, e.g. `add`, `concatenate`, etc.\n",
      "/home/eric/code/venvs/data3/lib/python3.5/site-packages/keras/legacy/layers.py:465: UserWarning: The `Merge` layer is deprecated and will be removed after 08/2017. Use instead layers from `keras.layers.merge`, e.g. `add`, `concatenate`, etc.\n",
      "  name=name)\n"
     ]
    },
    {
     "data": {
      "image/svg+xml": [
       "<svg height=\"304pt\" viewBox=\"0.00 0.00 566.00 304.00\" width=\"566pt\" xmlns=\"http://www.w3.org/2000/svg\" xmlns:xlink=\"http://www.w3.org/1999/xlink\">\n",
       "<g class=\"graph\" id=\"graph0\" transform=\"scale(1 1) rotate(0) translate(4 300)\">\n",
       "<title>G</title>\n",
       "<polygon fill=\"white\" points=\"-4,4 -4,-300 562,-300 562,4 -4,4\" stroke=\"none\"/>\n",
       "<!-- 140426799770312 -->\n",
       "<g class=\"node\" id=\"node1\"><title>140426799770312</title>\n",
       "<polygon fill=\"none\" points=\"0,-249.5 0,-295.5 270,-295.5 270,-249.5 0,-249.5\" stroke=\"black\"/>\n",
       "<text font-family=\"Times,serif\" font-size=\"14.00\" text-anchor=\"middle\" x=\"66\" y=\"-268.8\">input_19: InputLayer</text>\n",
       "<polyline fill=\"none\" points=\"132,-249.5 132,-295.5 \" stroke=\"black\"/>\n",
       "<text font-family=\"Times,serif\" font-size=\"14.00\" text-anchor=\"middle\" x=\"159.5\" y=\"-280.3\">input:</text>\n",
       "<polyline fill=\"none\" points=\"132,-272.5 187,-272.5 \" stroke=\"black\"/>\n",
       "<text font-family=\"Times,serif\" font-size=\"14.00\" text-anchor=\"middle\" x=\"159.5\" y=\"-257.3\">output:</text>\n",
       "<polyline fill=\"none\" points=\"187,-249.5 187,-295.5 \" stroke=\"black\"/>\n",
       "<text font-family=\"Times,serif\" font-size=\"14.00\" text-anchor=\"middle\" x=\"228.5\" y=\"-280.3\">(None, 100)</text>\n",
       "<polyline fill=\"none\" points=\"187,-272.5 270,-272.5 \" stroke=\"black\"/>\n",
       "<text font-family=\"Times,serif\" font-size=\"14.00\" text-anchor=\"middle\" x=\"228.5\" y=\"-257.3\">(None, 100)</text>\n",
       "</g>\n",
       "<!-- 140426799778560 -->\n",
       "<g class=\"node\" id=\"node3\"><title>140426799778560</title>\n",
       "<polygon fill=\"none\" points=\"119,-166.5 119,-212.5 439,-212.5 439,-166.5 119,-166.5\" stroke=\"black\"/>\n",
       "<text font-family=\"Times,serif\" font-size=\"14.00\" text-anchor=\"middle\" x=\"199.5\" y=\"-185.8\">embedding_9: Embedding</text>\n",
       "<polyline fill=\"none\" points=\"280,-166.5 280,-212.5 \" stroke=\"black\"/>\n",
       "<text font-family=\"Times,serif\" font-size=\"14.00\" text-anchor=\"middle\" x=\"307.5\" y=\"-197.3\">input:</text>\n",
       "<polyline fill=\"none\" points=\"280,-189.5 335,-189.5 \" stroke=\"black\"/>\n",
       "<text font-family=\"Times,serif\" font-size=\"14.00\" text-anchor=\"middle\" x=\"307.5\" y=\"-174.3\">output:</text>\n",
       "<polyline fill=\"none\" points=\"335,-166.5 335,-212.5 \" stroke=\"black\"/>\n",
       "<text font-family=\"Times,serif\" font-size=\"14.00\" text-anchor=\"middle\" x=\"387\" y=\"-197.3\">(None, 100)</text>\n",
       "<polyline fill=\"none\" points=\"335,-189.5 439,-189.5 \" stroke=\"black\"/>\n",
       "<text font-family=\"Times,serif\" font-size=\"14.00\" text-anchor=\"middle\" x=\"387\" y=\"-174.3\">(None, 100, 32)</text>\n",
       "</g>\n",
       "<!-- 140426799770312&#45;&gt;140426799778560 -->\n",
       "<g class=\"edge\" id=\"edge1\"><title>140426799770312-&gt;140426799778560</title>\n",
       "<path d=\"M174.349,-249.366C191.81,-239.544 212.522,-227.894 230.893,-217.56\" fill=\"none\" stroke=\"black\"/>\n",
       "<polygon fill=\"black\" points=\"232.699,-220.56 239.699,-212.607 229.267,-214.459 232.699,-220.56\" stroke=\"black\"/>\n",
       "</g>\n",
       "<!-- 140426799751008 -->\n",
       "<g class=\"node\" id=\"node2\"><title>140426799751008</title>\n",
       "<polygon fill=\"none\" points=\"288,-249.5 288,-295.5 558,-295.5 558,-249.5 288,-249.5\" stroke=\"black\"/>\n",
       "<text font-family=\"Times,serif\" font-size=\"14.00\" text-anchor=\"middle\" x=\"354\" y=\"-268.8\">input_20: InputLayer</text>\n",
       "<polyline fill=\"none\" points=\"420,-249.5 420,-295.5 \" stroke=\"black\"/>\n",
       "<text font-family=\"Times,serif\" font-size=\"14.00\" text-anchor=\"middle\" x=\"447.5\" y=\"-280.3\">input:</text>\n",
       "<polyline fill=\"none\" points=\"420,-272.5 475,-272.5 \" stroke=\"black\"/>\n",
       "<text font-family=\"Times,serif\" font-size=\"14.00\" text-anchor=\"middle\" x=\"447.5\" y=\"-257.3\">output:</text>\n",
       "<polyline fill=\"none\" points=\"475,-249.5 475,-295.5 \" stroke=\"black\"/>\n",
       "<text font-family=\"Times,serif\" font-size=\"14.00\" text-anchor=\"middle\" x=\"516.5\" y=\"-280.3\">(None, 100)</text>\n",
       "<polyline fill=\"none\" points=\"475,-272.5 558,-272.5 \" stroke=\"black\"/>\n",
       "<text font-family=\"Times,serif\" font-size=\"14.00\" text-anchor=\"middle\" x=\"516.5\" y=\"-257.3\">(None, 100)</text>\n",
       "</g>\n",
       "<!-- 140426799751008&#45;&gt;140426799778560 -->\n",
       "<g class=\"edge\" id=\"edge2\"><title>140426799751008-&gt;140426799778560</title>\n",
       "<path d=\"M383.651,-249.366C366.19,-239.544 345.478,-227.894 327.107,-217.56\" fill=\"none\" stroke=\"black\"/>\n",
       "<polygon fill=\"black\" points=\"328.733,-214.459 318.301,-212.607 325.301,-220.56 328.733,-214.459\" stroke=\"black\"/>\n",
       "</g>\n",
       "<!-- 140426887183384 -->\n",
       "<g class=\"node\" id=\"node4\"><title>140426887183384</title>\n",
       "<polygon fill=\"none\" points=\"150.5,-83.5 150.5,-129.5 407.5,-129.5 407.5,-83.5 150.5,-83.5\" stroke=\"black\"/>\n",
       "<text font-family=\"Times,serif\" font-size=\"14.00\" text-anchor=\"middle\" x=\"199.5\" y=\"-102.8\">lstm_9: LSTM</text>\n",
       "<polyline fill=\"none\" points=\"248.5,-83.5 248.5,-129.5 \" stroke=\"black\"/>\n",
       "<text font-family=\"Times,serif\" font-size=\"14.00\" text-anchor=\"middle\" x=\"276\" y=\"-114.3\">input:</text>\n",
       "<polyline fill=\"none\" points=\"248.5,-106.5 303.5,-106.5 \" stroke=\"black\"/>\n",
       "<text font-family=\"Times,serif\" font-size=\"14.00\" text-anchor=\"middle\" x=\"276\" y=\"-91.3\">output:</text>\n",
       "<polyline fill=\"none\" points=\"303.5,-83.5 303.5,-129.5 \" stroke=\"black\"/>\n",
       "<text font-family=\"Times,serif\" font-size=\"14.00\" text-anchor=\"middle\" x=\"355.5\" y=\"-114.3\">(None, 100, 32)</text>\n",
       "<polyline fill=\"none\" points=\"303.5,-106.5 407.5,-106.5 \" stroke=\"black\"/>\n",
       "<text font-family=\"Times,serif\" font-size=\"14.00\" text-anchor=\"middle\" x=\"355.5\" y=\"-91.3\">(None, 32)</text>\n",
       "</g>\n",
       "<!-- 140426799778560&#45;&gt;140426887183384 -->\n",
       "<g class=\"edge\" id=\"edge3\"><title>140426799778560-&gt;140426887183384</title>\n",
       "<path d=\"M279,-166.366C279,-158.152 279,-148.658 279,-139.725\" fill=\"none\" stroke=\"black\"/>\n",
       "<polygon fill=\"black\" points=\"282.5,-139.607 279,-129.607 275.5,-139.607 282.5,-139.607\" stroke=\"black\"/>\n",
       "</g>\n",
       "<!-- 140426799750896 -->\n",
       "<g class=\"node\" id=\"node5\"><title>140426799750896</title>\n",
       "<polygon fill=\"none\" points=\"121.5,-0.5 121.5,-46.5 436.5,-46.5 436.5,-0.5 121.5,-0.5\" stroke=\"black\"/>\n",
       "<text font-family=\"Times,serif\" font-size=\"14.00\" text-anchor=\"middle\" x=\"175.5\" y=\"-19.8\">merge_9: Merge</text>\n",
       "<polyline fill=\"none\" points=\"229.5,-0.5 229.5,-46.5 \" stroke=\"black\"/>\n",
       "<text font-family=\"Times,serif\" font-size=\"14.00\" text-anchor=\"middle\" x=\"257\" y=\"-31.3\">input:</text>\n",
       "<polyline fill=\"none\" points=\"229.5,-23.5 284.5,-23.5 \" stroke=\"black\"/>\n",
       "<text font-family=\"Times,serif\" font-size=\"14.00\" text-anchor=\"middle\" x=\"257\" y=\"-8.3\">output:</text>\n",
       "<polyline fill=\"none\" points=\"284.5,-0.5 284.5,-46.5 \" stroke=\"black\"/>\n",
       "<text font-family=\"Times,serif\" font-size=\"14.00\" text-anchor=\"middle\" x=\"360.5\" y=\"-31.3\">[(None, 32), (None, 32)]</text>\n",
       "<polyline fill=\"none\" points=\"284.5,-23.5 436.5,-23.5 \" stroke=\"black\"/>\n",
       "<text font-family=\"Times,serif\" font-size=\"14.00\" text-anchor=\"middle\" x=\"360.5\" y=\"-8.3\">(None, 1)</text>\n",
       "</g>\n",
       "<!-- 140426887183384&#45;&gt;140426799750896 -->\n",
       "<g class=\"edge\" id=\"edge5\"><title>140426887183384-&gt;140426799750896</title>\n",
       "<path d=\"M279,-83.3664C279,-75.1516 279,-65.6579 279,-56.7252\" fill=\"none\" stroke=\"black\"/>\n",
       "<polygon fill=\"black\" points=\"282.5,-56.6068 279,-46.6068 275.5,-56.6069 282.5,-56.6068\" stroke=\"black\"/>\n",
       "</g>\n",
       "</g>\n",
       "</svg>"
      ],
      "text/plain": [
       "<IPython.core.display.SVG object>"
      ]
     },
     "execution_count": 19,
     "metadata": {},
     "output_type": "execute_result"
    }
   ],
   "source": [
    "def exponent_neg_manhattan_distance(left, right):\n",
    "    return K.exp(-K.sum(K.abs(left-right), axis=1, keepdims=True))\n",
    "\n",
    "shared_embedding = Embedding(input_dim=len(word_index) + 1,\n",
    "                            output_dim=300,\n",
    "                            weights=[embedding_matrix],\n",
    "                            input_length=100,\n",
    "                            trainable=False)\n",
    "\n",
    "shared_lstm = layers.LSTM(32)\n",
    "\n",
    "x1a = layers.Input(shape=(100,), dtype='int32')\n",
    "h1a = shared_embedding(x1a)\n",
    "h1a = shared_lstm(h1a)\n",
    "\n",
    "x1b = layers.Input(shape=(100,), dtype='int32')\n",
    "h1b = shared_embedding(x1b)\n",
    "h1b = shared_lstm(h1b)\n",
    "\n",
    "malstm_distance = layers.merge(mode=lambda x: exponent_neg_manhattan_distance(x[0], x[1]),\n",
    "                               output_shape=lambda x: (x[0][0], 1),\n",
    "                               inputs=[h1a, h1b])\n",
    "\n",
    "model = models.Model(inputs=[x1a, x1b],\n",
    "                     outputs=[malstm_distance])\n",
    "\n",
    "model.compile(optimizer='adam',\n",
    "              loss='mean_squared_error',\n",
    "              metrics=['accuracy'])\n",
    "\n",
    "SVG(model_to_dot(model, show_shapes=True).create(prog='dot', format='svg'))"
   ]
  },
  {
   "cell_type": "code",
   "execution_count": 9,
   "metadata": {},
   "outputs": [
    {
     "name": "stdout",
     "output_type": "stream",
     "text": [
      "Train on 3750 samples, validate on 1250 samples\n",
      "Epoch 1/3\n",
      "3750/3750 [==============================] - 68s 18ms/step - loss: 0.2763 - acc: 0.5605 - val_loss: 0.2401 - val_acc: 0.5984\n",
      "Epoch 2/3\n",
      "3750/3750 [==============================] - 64s 17ms/step - loss: 0.1830 - acc: 0.7283 - val_loss: 0.2213 - val_acc: 0.6344\n",
      "Epoch 3/3\n",
      "3750/3750 [==============================] - 82s 22ms/step - loss: 0.1230 - acc: 0.8488 - val_loss: 0.2085 - val_acc: 0.6648\n"
     ]
    },
    {
     "data": {
      "text/plain": [
       "<keras.callbacks.History at 0x7fb8319787f0>"
      ]
     },
     "execution_count": 9,
     "metadata": {},
     "output_type": "execute_result"
    }
   ],
   "source": [
    "model.fit(x=[x1_train, x2_train],\n",
    "          y=df_train['is_duplicate'].values,\n",
    "          validation_data=([x1_val, x2_val], df_val['is_duplicate'].values),\n",
    "          epochs=3)"
   ]
  },
  {
   "cell_type": "code",
   "execution_count": null,
   "metadata": {},
   "outputs": [],
   "source": []
  },
  {
   "cell_type": "code",
   "execution_count": null,
   "metadata": {},
   "outputs": [],
   "source": []
  }
 ],
 "metadata": {
  "kernelspec": {
   "display_name": "Python (data3)",
   "language": "python",
   "name": "data3"
  },
  "language_info": {
   "codemirror_mode": {
    "name": "ipython",
    "version": 3
   },
   "file_extension": ".py",
   "mimetype": "text/x-python",
   "name": "python",
   "nbconvert_exporter": "python",
   "pygments_lexer": "ipython3",
   "version": "3.5.2"
  }
 },
 "nbformat": 4,
 "nbformat_minor": 2
}
