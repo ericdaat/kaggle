{
 "cells": [
  {
   "cell_type": "code",
   "execution_count": 30,
   "metadata": {},
   "outputs": [],
   "source": [
    "import pandas as pd\n",
    "from IPython.display import SVG\n",
    "import numpy as np\n",
    "\n",
    "from sklearn import model_selection\n",
    "from sklearn import metrics\n",
    "\n",
    "from keras import layers\n",
    "from keras import models\n",
    "from keras.utils import plot_model\n",
    "from keras.preprocessing.text import one_hot\n",
    "from keras.preprocessing.sequence import pad_sequences\n",
    "from keras.utils.vis_utils import model_to_dot\n",
    "from keras import backend as K"
   ]
  },
  {
   "cell_type": "code",
   "execution_count": 83,
   "metadata": {},
   "outputs": [],
   "source": [
    "df = pd.read_csv('train.csv').sample(10000)\n"
   ]
  },
  {
   "cell_type": "code",
   "execution_count": 84,
   "metadata": {},
   "outputs": [
    {
     "data": {
      "text/html": [
       "<div>\n",
       "<style scoped>\n",
       "    .dataframe tbody tr th:only-of-type {\n",
       "        vertical-align: middle;\n",
       "    }\n",
       "\n",
       "    .dataframe tbody tr th {\n",
       "        vertical-align: top;\n",
       "    }\n",
       "\n",
       "    .dataframe thead th {\n",
       "        text-align: right;\n",
       "    }\n",
       "</style>\n",
       "<table border=\"1\" class=\"dataframe\">\n",
       "  <thead>\n",
       "    <tr style=\"text-align: right;\">\n",
       "      <th></th>\n",
       "      <th>id</th>\n",
       "      <th>qid1</th>\n",
       "      <th>qid2</th>\n",
       "      <th>question1</th>\n",
       "      <th>question2</th>\n",
       "      <th>is_duplicate</th>\n",
       "    </tr>\n",
       "  </thead>\n",
       "  <tbody>\n",
       "    <tr>\n",
       "      <th>354784</th>\n",
       "      <td>354784</td>\n",
       "      <td>483945</td>\n",
       "      <td>129026</td>\n",
       "      <td>When you say I swear to god is it bad?</td>\n",
       "      <td>Religion: If you could ask God one question, w...</td>\n",
       "      <td>0</td>\n",
       "    </tr>\n",
       "    <tr>\n",
       "      <th>95296</th>\n",
       "      <td>95296</td>\n",
       "      <td>56771</td>\n",
       "      <td>2475</td>\n",
       "      <td>What is the best gift you are ever received?</td>\n",
       "      <td>Which is the best gift that you have ever rece...</td>\n",
       "      <td>1</td>\n",
       "    </tr>\n",
       "    <tr>\n",
       "      <th>48899</th>\n",
       "      <td>48899</td>\n",
       "      <td>87094</td>\n",
       "      <td>87095</td>\n",
       "      <td>What is the perfect country for me?</td>\n",
       "      <td>What would the perfect country be like?</td>\n",
       "      <td>0</td>\n",
       "    </tr>\n",
       "    <tr>\n",
       "      <th>300915</th>\n",
       "      <td>300915</td>\n",
       "      <td>9821</td>\n",
       "      <td>423760</td>\n",
       "      <td>What is the difference between monarch and mon...</td>\n",
       "      <td>What is the difference between monarchy and ar...</td>\n",
       "      <td>0</td>\n",
       "    </tr>\n",
       "    <tr>\n",
       "      <th>257273</th>\n",
       "      <td>257273</td>\n",
       "      <td>372546</td>\n",
       "      <td>372547</td>\n",
       "      <td>How do I run WhatsApp on a proxy server?</td>\n",
       "      <td>How do I create proxy server?</td>\n",
       "      <td>0</td>\n",
       "    </tr>\n",
       "  </tbody>\n",
       "</table>\n",
       "</div>"
      ],
      "text/plain": [
       "            id    qid1    qid2  \\\n",
       "354784  354784  483945  129026   \n",
       "95296    95296   56771    2475   \n",
       "48899    48899   87094   87095   \n",
       "300915  300915    9821  423760   \n",
       "257273  257273  372546  372547   \n",
       "\n",
       "                                                question1  \\\n",
       "354784             When you say I swear to god is it bad?   \n",
       "95296        What is the best gift you are ever received?   \n",
       "48899                 What is the perfect country for me?   \n",
       "300915  What is the difference between monarch and mon...   \n",
       "257273           How do I run WhatsApp on a proxy server?   \n",
       "\n",
       "                                                question2  is_duplicate  \n",
       "354784  Religion: If you could ask God one question, w...             0  \n",
       "95296   Which is the best gift that you have ever rece...             1  \n",
       "48899             What would the perfect country be like?             0  \n",
       "300915  What is the difference between monarchy and ar...             0  \n",
       "257273                      How do I create proxy server?             0  "
      ]
     },
     "execution_count": 84,
     "metadata": {},
     "output_type": "execute_result"
    }
   ],
   "source": [
    "df.head()"
   ]
  },
  {
   "cell_type": "code",
   "execution_count": 85,
   "metadata": {},
   "outputs": [],
   "source": [
    "df['question1'] = df['question1'].fillna('').str.lower().str.replace('[^A-Za-z0-9?!]+', ' ')\n",
    "df['question2'] = df['question2'].fillna('').str.lower().str.replace('[^A-Za-z0-9?!]+', ' ')"
   ]
  },
  {
   "cell_type": "code",
   "execution_count": 86,
   "metadata": {},
   "outputs": [],
   "source": [
    "df['question1_len'] = df['question1'].fillna('').apply(lambda r: len(r.split(' ')))\n",
    "df['question2_len'] = df['question2'].fillna('').apply(lambda r: len(r.split(' ')))"
   ]
  },
  {
   "cell_type": "code",
   "execution_count": 87,
   "metadata": {},
   "outputs": [],
   "source": [
    "df_train, df_val = model_selection.train_test_split(df)"
   ]
  },
  {
   "cell_type": "code",
   "execution_count": 94,
   "metadata": {},
   "outputs": [],
   "source": [
    "x1_train = pad_sequences(df_train['question1'].apply(lambda r: one_hot(r, 500000)), 100)\n",
    "x2_train = pad_sequences(df_train['question2'].apply(lambda r: one_hot(r, 500000)), 100)\n",
    "\n",
    "x1_val = pad_sequences(df_val['question1'].apply(lambda r: one_hot(r, 500000)), 100)\n",
    "x2_val = pad_sequences(df_val['question2'].apply(lambda r: one_hot(r, 500000)), 100)"
   ]
  },
  {
   "cell_type": "markdown",
   "metadata": {},
   "source": [
    "## Siamese MaLSTM\n",
    "\n",
    "Inspired from [How to predict Quora Question Pairs using Siamese Manhattan LSTM](https://medium.com/mlreview/implementing-malstm-on-kaggles-quora-question-pairs-competition-8b31b0b16a07)"
   ]
  },
  {
   "cell_type": "code",
   "execution_count": 96,
   "metadata": {},
   "outputs": [
    {
     "name": "stderr",
     "output_type": "stream",
     "text": [
      "/home/eric/code/venvs/data3/lib/python3.5/site-packages/ipykernel_launcher.py:18: UserWarning: The `Merge` layer is deprecated and will be removed after 08/2017. Use instead layers from `keras.layers.merge`, e.g. `add`, `concatenate`, etc.\n"
     ]
    },
    {
     "data": {
      "image/svg+xml": [
       "<svg height=\"304pt\" viewBox=\"0.00 0.00 566.00 304.00\" width=\"566pt\" xmlns=\"http://www.w3.org/2000/svg\" xmlns:xlink=\"http://www.w3.org/1999/xlink\">\n",
       "<g class=\"graph\" id=\"graph0\" transform=\"scale(1 1) rotate(0) translate(4 300)\">\n",
       "<title>G</title>\n",
       "<polygon fill=\"white\" points=\"-4,4 -4,-300 562,-300 562,4 -4,4\" stroke=\"none\"/>\n",
       "<!-- 140701325408520 -->\n",
       "<g class=\"node\" id=\"node1\"><title>140701325408520</title>\n",
       "<polygon fill=\"none\" points=\"0,-249.5 0,-295.5 270,-295.5 270,-249.5 0,-249.5\" stroke=\"black\"/>\n",
       "<text font-family=\"Times,serif\" font-size=\"14.00\" text-anchor=\"middle\" x=\"66\" y=\"-268.8\">input_41: InputLayer</text>\n",
       "<polyline fill=\"none\" points=\"132,-249.5 132,-295.5 \" stroke=\"black\"/>\n",
       "<text font-family=\"Times,serif\" font-size=\"14.00\" text-anchor=\"middle\" x=\"159.5\" y=\"-280.3\">input:</text>\n",
       "<polyline fill=\"none\" points=\"132,-272.5 187,-272.5 \" stroke=\"black\"/>\n",
       "<text font-family=\"Times,serif\" font-size=\"14.00\" text-anchor=\"middle\" x=\"159.5\" y=\"-257.3\">output:</text>\n",
       "<polyline fill=\"none\" points=\"187,-249.5 187,-295.5 \" stroke=\"black\"/>\n",
       "<text font-family=\"Times,serif\" font-size=\"14.00\" text-anchor=\"middle\" x=\"228.5\" y=\"-280.3\">(None, 100)</text>\n",
       "<polyline fill=\"none\" points=\"187,-272.5 270,-272.5 \" stroke=\"black\"/>\n",
       "<text font-family=\"Times,serif\" font-size=\"14.00\" text-anchor=\"middle\" x=\"228.5\" y=\"-257.3\">(None, 100)</text>\n",
       "</g>\n",
       "<!-- 140701325408408 -->\n",
       "<g class=\"node\" id=\"node3\"><title>140701325408408</title>\n",
       "<polygon fill=\"none\" points=\"115.5,-166.5 115.5,-212.5 442.5,-212.5 442.5,-166.5 115.5,-166.5\" stroke=\"black\"/>\n",
       "<text font-family=\"Times,serif\" font-size=\"14.00\" text-anchor=\"middle\" x=\"199.5\" y=\"-185.8\">embedding_22: Embedding</text>\n",
       "<polyline fill=\"none\" points=\"283.5,-166.5 283.5,-212.5 \" stroke=\"black\"/>\n",
       "<text font-family=\"Times,serif\" font-size=\"14.00\" text-anchor=\"middle\" x=\"311\" y=\"-197.3\">input:</text>\n",
       "<polyline fill=\"none\" points=\"283.5,-189.5 338.5,-189.5 \" stroke=\"black\"/>\n",
       "<text font-family=\"Times,serif\" font-size=\"14.00\" text-anchor=\"middle\" x=\"311\" y=\"-174.3\">output:</text>\n",
       "<polyline fill=\"none\" points=\"338.5,-166.5 338.5,-212.5 \" stroke=\"black\"/>\n",
       "<text font-family=\"Times,serif\" font-size=\"14.00\" text-anchor=\"middle\" x=\"390.5\" y=\"-197.3\">(None, 100)</text>\n",
       "<polyline fill=\"none\" points=\"338.5,-189.5 442.5,-189.5 \" stroke=\"black\"/>\n",
       "<text font-family=\"Times,serif\" font-size=\"14.00\" text-anchor=\"middle\" x=\"390.5\" y=\"-174.3\">(None, 100, 32)</text>\n",
       "</g>\n",
       "<!-- 140701325408520&#45;&gt;140701325408408 -->\n",
       "<g class=\"edge\" id=\"edge1\"><title>140701325408520-&gt;140701325408408</title>\n",
       "<path d=\"M174.349,-249.366C191.81,-239.544 212.522,-227.894 230.893,-217.56\" fill=\"none\" stroke=\"black\"/>\n",
       "<polygon fill=\"black\" points=\"232.699,-220.56 239.699,-212.607 229.267,-214.459 232.699,-220.56\" stroke=\"black\"/>\n",
       "</g>\n",
       "<!-- 140701325409360 -->\n",
       "<g class=\"node\" id=\"node2\"><title>140701325409360</title>\n",
       "<polygon fill=\"none\" points=\"288,-249.5 288,-295.5 558,-295.5 558,-249.5 288,-249.5\" stroke=\"black\"/>\n",
       "<text font-family=\"Times,serif\" font-size=\"14.00\" text-anchor=\"middle\" x=\"354\" y=\"-268.8\">input_42: InputLayer</text>\n",
       "<polyline fill=\"none\" points=\"420,-249.5 420,-295.5 \" stroke=\"black\"/>\n",
       "<text font-family=\"Times,serif\" font-size=\"14.00\" text-anchor=\"middle\" x=\"447.5\" y=\"-280.3\">input:</text>\n",
       "<polyline fill=\"none\" points=\"420,-272.5 475,-272.5 \" stroke=\"black\"/>\n",
       "<text font-family=\"Times,serif\" font-size=\"14.00\" text-anchor=\"middle\" x=\"447.5\" y=\"-257.3\">output:</text>\n",
       "<polyline fill=\"none\" points=\"475,-249.5 475,-295.5 \" stroke=\"black\"/>\n",
       "<text font-family=\"Times,serif\" font-size=\"14.00\" text-anchor=\"middle\" x=\"516.5\" y=\"-280.3\">(None, 100)</text>\n",
       "<polyline fill=\"none\" points=\"475,-272.5 558,-272.5 \" stroke=\"black\"/>\n",
       "<text font-family=\"Times,serif\" font-size=\"14.00\" text-anchor=\"middle\" x=\"516.5\" y=\"-257.3\">(None, 100)</text>\n",
       "</g>\n",
       "<!-- 140701325409360&#45;&gt;140701325408408 -->\n",
       "<g class=\"edge\" id=\"edge2\"><title>140701325409360-&gt;140701325408408</title>\n",
       "<path d=\"M383.651,-249.366C366.19,-239.544 345.478,-227.894 327.107,-217.56\" fill=\"none\" stroke=\"black\"/>\n",
       "<polygon fill=\"black\" points=\"328.733,-214.459 318.301,-212.607 325.301,-220.56 328.733,-214.459\" stroke=\"black\"/>\n",
       "</g>\n",
       "<!-- 140701325408352 -->\n",
       "<g class=\"node\" id=\"node4\"><title>140701325408352</title>\n",
       "<polygon fill=\"none\" points=\"147,-83.5 147,-129.5 411,-129.5 411,-83.5 147,-83.5\" stroke=\"black\"/>\n",
       "<text font-family=\"Times,serif\" font-size=\"14.00\" text-anchor=\"middle\" x=\"199.5\" y=\"-102.8\">lstm_22: LSTM</text>\n",
       "<polyline fill=\"none\" points=\"252,-83.5 252,-129.5 \" stroke=\"black\"/>\n",
       "<text font-family=\"Times,serif\" font-size=\"14.00\" text-anchor=\"middle\" x=\"279.5\" y=\"-114.3\">input:</text>\n",
       "<polyline fill=\"none\" points=\"252,-106.5 307,-106.5 \" stroke=\"black\"/>\n",
       "<text font-family=\"Times,serif\" font-size=\"14.00\" text-anchor=\"middle\" x=\"279.5\" y=\"-91.3\">output:</text>\n",
       "<polyline fill=\"none\" points=\"307,-83.5 307,-129.5 \" stroke=\"black\"/>\n",
       "<text font-family=\"Times,serif\" font-size=\"14.00\" text-anchor=\"middle\" x=\"359\" y=\"-114.3\">(None, 100, 32)</text>\n",
       "<polyline fill=\"none\" points=\"307,-106.5 411,-106.5 \" stroke=\"black\"/>\n",
       "<text font-family=\"Times,serif\" font-size=\"14.00\" text-anchor=\"middle\" x=\"359\" y=\"-91.3\">(None, 32)</text>\n",
       "</g>\n",
       "<!-- 140701325408408&#45;&gt;140701325408352 -->\n",
       "<g class=\"edge\" id=\"edge3\"><title>140701325408408-&gt;140701325408352</title>\n",
       "<path d=\"M279,-166.366C279,-158.152 279,-148.658 279,-139.725\" fill=\"none\" stroke=\"black\"/>\n",
       "<polygon fill=\"black\" points=\"282.5,-139.607 279,-129.607 275.5,-139.607 282.5,-139.607\" stroke=\"black\"/>\n",
       "</g>\n",
       "<!-- 140701323585576 -->\n",
       "<g class=\"node\" id=\"node5\"><title>140701323585576</title>\n",
       "<polygon fill=\"none\" points=\"118,-0.5 118,-46.5 440,-46.5 440,-0.5 118,-0.5\" stroke=\"black\"/>\n",
       "<text font-family=\"Times,serif\" font-size=\"14.00\" text-anchor=\"middle\" x=\"175.5\" y=\"-19.8\">merge_13: Merge</text>\n",
       "<polyline fill=\"none\" points=\"233,-0.5 233,-46.5 \" stroke=\"black\"/>\n",
       "<text font-family=\"Times,serif\" font-size=\"14.00\" text-anchor=\"middle\" x=\"260.5\" y=\"-31.3\">input:</text>\n",
       "<polyline fill=\"none\" points=\"233,-23.5 288,-23.5 \" stroke=\"black\"/>\n",
       "<text font-family=\"Times,serif\" font-size=\"14.00\" text-anchor=\"middle\" x=\"260.5\" y=\"-8.3\">output:</text>\n",
       "<polyline fill=\"none\" points=\"288,-0.5 288,-46.5 \" stroke=\"black\"/>\n",
       "<text font-family=\"Times,serif\" font-size=\"14.00\" text-anchor=\"middle\" x=\"364\" y=\"-31.3\">[(None, 32), (None, 32)]</text>\n",
       "<polyline fill=\"none\" points=\"288,-23.5 440,-23.5 \" stroke=\"black\"/>\n",
       "<text font-family=\"Times,serif\" font-size=\"14.00\" text-anchor=\"middle\" x=\"364\" y=\"-8.3\">(None, 1)</text>\n",
       "</g>\n",
       "<!-- 140701325408352&#45;&gt;140701323585576 -->\n",
       "<g class=\"edge\" id=\"edge5\"><title>140701325408352-&gt;140701323585576</title>\n",
       "<path d=\"M279,-83.3664C279,-75.1516 279,-65.6579 279,-56.7252\" fill=\"none\" stroke=\"black\"/>\n",
       "<polygon fill=\"black\" points=\"282.5,-56.6068 279,-46.6068 275.5,-56.6069 282.5,-56.6068\" stroke=\"black\"/>\n",
       "</g>\n",
       "</g>\n",
       "</svg>"
      ],
      "text/plain": [
       "<IPython.core.display.SVG object>"
      ]
     },
     "execution_count": 96,
     "metadata": {},
     "output_type": "execute_result"
    }
   ],
   "source": [
    "def exponent_neg_manhattan_distance(left, right):\n",
    "    return K.exp(-K.sum(K.abs(left-right), axis=1, keepdims=True))\n",
    "\n",
    "shared_embedding = layers.Embedding(output_dim=32,\n",
    "                                    input_dim=500000)\n",
    "\n",
    "shared_lstm = layers.LSTM(32)\n",
    "\n",
    "x1a = layers.Input(shape=(100,), dtype='int32')\n",
    "h1a = shared_embedding(x1a)\n",
    "h1a = shared_lstm(h1a)\n",
    "\n",
    "x1b = layers.Input(shape=(100,), dtype='int32')\n",
    "h1b = shared_embedding(x1b)\n",
    "h1b = shared_lstm(h1b)\n",
    "\n",
    "malstm_distance = layers.Merge(mode=lambda x: exponent_neg_manhattan_distance(x[0], x[1]),\n",
    "                               output_shape=lambda x: (x[0][0], 1))([h1a, h1b])\n",
    "\n",
    "model = models.Model(inputs=[x1a, x1b],\n",
    "                     outputs=[malstm_distance])\n",
    "\n",
    "model.compile(optimizer='adam',\n",
    "              loss='mean_squared_error',\n",
    "              metrics=['accuracy'])\n",
    "\n",
    "SVG(model_to_dot(model, show_shapes=True).create(prog='dot', format='svg'))"
   ]
  },
  {
   "cell_type": "code",
   "execution_count": null,
   "metadata": {},
   "outputs": [
    {
     "name": "stdout",
     "output_type": "stream",
     "text": [
      "Train on 7500 samples, validate on 2500 samples\n",
      "Epoch 1/3\n",
      "7500/7500 [==============================] - 51s 7ms/step - loss: 0.2568 - acc: 0.5892 - val_loss: 0.2217 - val_acc: 0.6384\n",
      "Epoch 2/3\n",
      "7500/7500 [==============================] - 50s 7ms/step - loss: 0.1689 - acc: 0.7525 - val_loss: 0.2068 - val_acc: 0.6796\n",
      "Epoch 3/3\n",
      "1120/7500 [===>..........................] - ETA: 1:17 - loss: 0.1159 - acc: 0.8848"
     ]
    }
   ],
   "source": [
    "model.fit(x=[x1_train, x2_train],\n",
    "          y=df_train['is_duplicate'].values,\n",
    "          validation_data=([x1_val, x2_val], df_val['is_duplicate'].values),\n",
    "          epochs=3)"
   ]
  },
  {
   "cell_type": "code",
   "execution_count": null,
   "metadata": {},
   "outputs": [],
   "source": []
  }
 ],
 "metadata": {
  "kernelspec": {
   "display_name": "Python (data3)",
   "language": "python",
   "name": "data3"
  },
  "language_info": {
   "codemirror_mode": {
    "name": "ipython",
    "version": 3
   },
   "file_extension": ".py",
   "mimetype": "text/x-python",
   "name": "python",
   "nbconvert_exporter": "python",
   "pygments_lexer": "ipython3",
   "version": "3.5.2"
  }
 },
 "nbformat": 4,
 "nbformat_minor": 2
}
