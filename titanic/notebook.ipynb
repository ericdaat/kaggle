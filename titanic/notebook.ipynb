{
 "cells": [
  {
   "cell_type": "code",
   "execution_count": 310,
   "metadata": {},
   "outputs": [],
   "source": [
    "import pandas as pd\n",
    "import numpy as np\n",
    "from sklearn import metrics\n",
    "from sklearn.model_selection import cross_val_score\n",
    "from sklearn.preprocessing import StandardScaler\n",
    "from sklearn import linear_model\n",
    "from sklearn import ensemble\n",
    "from sklearn.feature_extraction.text import CountVectorizer\n",
    "from scipy.sparse import hstack, csr_matrix\n",
    "\n",
    "from keras import layers, models"
   ]
  },
  {
   "cell_type": "code",
   "execution_count": 311,
   "metadata": {},
   "outputs": [],
   "source": [
    "df_train = pd.read_csv('data/train.csv')\n",
    "df_test = pd.read_csv('data/test.csv')"
   ]
  },
  {
   "cell_type": "markdown",
   "metadata": {},
   "source": [
    "## Exploratory Data Analysis"
   ]
  },
  {
   "cell_type": "code",
   "execution_count": 312,
   "metadata": {},
   "outputs": [
    {
     "data": {
      "text/html": [
       "<div>\n",
       "<style scoped>\n",
       "    .dataframe tbody tr th:only-of-type {\n",
       "        vertical-align: middle;\n",
       "    }\n",
       "\n",
       "    .dataframe tbody tr th {\n",
       "        vertical-align: top;\n",
       "    }\n",
       "\n",
       "    .dataframe thead th {\n",
       "        text-align: right;\n",
       "    }\n",
       "</style>\n",
       "<table border=\"1\" class=\"dataframe\">\n",
       "  <thead>\n",
       "    <tr style=\"text-align: right;\">\n",
       "      <th></th>\n",
       "      <th>PassengerId</th>\n",
       "      <th>Survived</th>\n",
       "      <th>Pclass</th>\n",
       "      <th>Name</th>\n",
       "      <th>Sex</th>\n",
       "      <th>Age</th>\n",
       "      <th>SibSp</th>\n",
       "      <th>Parch</th>\n",
       "      <th>Ticket</th>\n",
       "      <th>Fare</th>\n",
       "      <th>Cabin</th>\n",
       "      <th>Embarked</th>\n",
       "    </tr>\n",
       "  </thead>\n",
       "  <tbody>\n",
       "    <tr>\n",
       "      <th>0</th>\n",
       "      <td>1</td>\n",
       "      <td>0</td>\n",
       "      <td>3</td>\n",
       "      <td>Braund, Mr. Owen Harris</td>\n",
       "      <td>male</td>\n",
       "      <td>22.0</td>\n",
       "      <td>1</td>\n",
       "      <td>0</td>\n",
       "      <td>A/5 21171</td>\n",
       "      <td>7.2500</td>\n",
       "      <td>NaN</td>\n",
       "      <td>S</td>\n",
       "    </tr>\n",
       "    <tr>\n",
       "      <th>1</th>\n",
       "      <td>2</td>\n",
       "      <td>1</td>\n",
       "      <td>1</td>\n",
       "      <td>Cumings, Mrs. John Bradley (Florence Briggs Th...</td>\n",
       "      <td>female</td>\n",
       "      <td>38.0</td>\n",
       "      <td>1</td>\n",
       "      <td>0</td>\n",
       "      <td>PC 17599</td>\n",
       "      <td>71.2833</td>\n",
       "      <td>C85</td>\n",
       "      <td>C</td>\n",
       "    </tr>\n",
       "    <tr>\n",
       "      <th>2</th>\n",
       "      <td>3</td>\n",
       "      <td>1</td>\n",
       "      <td>3</td>\n",
       "      <td>Heikkinen, Miss. Laina</td>\n",
       "      <td>female</td>\n",
       "      <td>26.0</td>\n",
       "      <td>0</td>\n",
       "      <td>0</td>\n",
       "      <td>STON/O2. 3101282</td>\n",
       "      <td>7.9250</td>\n",
       "      <td>NaN</td>\n",
       "      <td>S</td>\n",
       "    </tr>\n",
       "    <tr>\n",
       "      <th>3</th>\n",
       "      <td>4</td>\n",
       "      <td>1</td>\n",
       "      <td>1</td>\n",
       "      <td>Futrelle, Mrs. Jacques Heath (Lily May Peel)</td>\n",
       "      <td>female</td>\n",
       "      <td>35.0</td>\n",
       "      <td>1</td>\n",
       "      <td>0</td>\n",
       "      <td>113803</td>\n",
       "      <td>53.1000</td>\n",
       "      <td>C123</td>\n",
       "      <td>S</td>\n",
       "    </tr>\n",
       "    <tr>\n",
       "      <th>4</th>\n",
       "      <td>5</td>\n",
       "      <td>0</td>\n",
       "      <td>3</td>\n",
       "      <td>Allen, Mr. William Henry</td>\n",
       "      <td>male</td>\n",
       "      <td>35.0</td>\n",
       "      <td>0</td>\n",
       "      <td>0</td>\n",
       "      <td>373450</td>\n",
       "      <td>8.0500</td>\n",
       "      <td>NaN</td>\n",
       "      <td>S</td>\n",
       "    </tr>\n",
       "  </tbody>\n",
       "</table>\n",
       "</div>"
      ],
      "text/plain": [
       "   PassengerId  Survived  Pclass  \\\n",
       "0            1         0       3   \n",
       "1            2         1       1   \n",
       "2            3         1       3   \n",
       "3            4         1       1   \n",
       "4            5         0       3   \n",
       "\n",
       "                                                Name     Sex   Age  SibSp  \\\n",
       "0                            Braund, Mr. Owen Harris    male  22.0      1   \n",
       "1  Cumings, Mrs. John Bradley (Florence Briggs Th...  female  38.0      1   \n",
       "2                             Heikkinen, Miss. Laina  female  26.0      0   \n",
       "3       Futrelle, Mrs. Jacques Heath (Lily May Peel)  female  35.0      1   \n",
       "4                           Allen, Mr. William Henry    male  35.0      0   \n",
       "\n",
       "   Parch            Ticket     Fare Cabin Embarked  \n",
       "0      0         A/5 21171   7.2500   NaN        S  \n",
       "1      0          PC 17599  71.2833   C85        C  \n",
       "2      0  STON/O2. 3101282   7.9250   NaN        S  \n",
       "3      0            113803  53.1000  C123        S  \n",
       "4      0            373450   8.0500   NaN        S  "
      ]
     },
     "execution_count": 312,
     "metadata": {},
     "output_type": "execute_result"
    }
   ],
   "source": [
    "df_train.head()"
   ]
  },
  {
   "cell_type": "code",
   "execution_count": 313,
   "metadata": {},
   "outputs": [
    {
     "data": {
      "text/html": [
       "<div>\n",
       "<style scoped>\n",
       "    .dataframe tbody tr th:only-of-type {\n",
       "        vertical-align: middle;\n",
       "    }\n",
       "\n",
       "    .dataframe tbody tr th {\n",
       "        vertical-align: top;\n",
       "    }\n",
       "\n",
       "    .dataframe thead th {\n",
       "        text-align: right;\n",
       "    }\n",
       "</style>\n",
       "<table border=\"1\" class=\"dataframe\">\n",
       "  <thead>\n",
       "    <tr style=\"text-align: right;\">\n",
       "      <th></th>\n",
       "      <th>0</th>\n",
       "      <th>1</th>\n",
       "      <th>2</th>\n",
       "    </tr>\n",
       "  </thead>\n",
       "  <tbody>\n",
       "    <tr>\n",
       "      <th>Age</th>\n",
       "      <td>88</td>\n",
       "      <td>177</td>\n",
       "      <td>29.699118</td>\n",
       "    </tr>\n",
       "    <tr>\n",
       "      <th>Cabin</th>\n",
       "      <td>147</td>\n",
       "      <td>687</td>\n",
       "      <td>NaN</td>\n",
       "    </tr>\n",
       "    <tr>\n",
       "      <th>Embarked</th>\n",
       "      <td>3</td>\n",
       "      <td>2</td>\n",
       "      <td>NaN</td>\n",
       "    </tr>\n",
       "    <tr>\n",
       "      <th>Fare</th>\n",
       "      <td>248</td>\n",
       "      <td>0</td>\n",
       "      <td>32.204208</td>\n",
       "    </tr>\n",
       "    <tr>\n",
       "      <th>Name</th>\n",
       "      <td>891</td>\n",
       "      <td>0</td>\n",
       "      <td>NaN</td>\n",
       "    </tr>\n",
       "    <tr>\n",
       "      <th>Parch</th>\n",
       "      <td>7</td>\n",
       "      <td>0</td>\n",
       "      <td>0.381594</td>\n",
       "    </tr>\n",
       "    <tr>\n",
       "      <th>PassengerId</th>\n",
       "      <td>891</td>\n",
       "      <td>0</td>\n",
       "      <td>446.000000</td>\n",
       "    </tr>\n",
       "    <tr>\n",
       "      <th>Pclass</th>\n",
       "      <td>3</td>\n",
       "      <td>0</td>\n",
       "      <td>2.308642</td>\n",
       "    </tr>\n",
       "    <tr>\n",
       "      <th>Sex</th>\n",
       "      <td>2</td>\n",
       "      <td>0</td>\n",
       "      <td>NaN</td>\n",
       "    </tr>\n",
       "    <tr>\n",
       "      <th>SibSp</th>\n",
       "      <td>7</td>\n",
       "      <td>0</td>\n",
       "      <td>0.523008</td>\n",
       "    </tr>\n",
       "    <tr>\n",
       "      <th>Survived</th>\n",
       "      <td>2</td>\n",
       "      <td>0</td>\n",
       "      <td>0.383838</td>\n",
       "    </tr>\n",
       "    <tr>\n",
       "      <th>Ticket</th>\n",
       "      <td>681</td>\n",
       "      <td>0</td>\n",
       "      <td>NaN</td>\n",
       "    </tr>\n",
       "  </tbody>\n",
       "</table>\n",
       "</div>"
      ],
      "text/plain": [
       "               0    1           2\n",
       "Age           88  177   29.699118\n",
       "Cabin        147  687         NaN\n",
       "Embarked       3    2         NaN\n",
       "Fare         248    0   32.204208\n",
       "Name         891    0         NaN\n",
       "Parch          7    0    0.381594\n",
       "PassengerId  891    0  446.000000\n",
       "Pclass         3    0    2.308642\n",
       "Sex            2    0         NaN\n",
       "SibSp          7    0    0.523008\n",
       "Survived       2    0    0.383838\n",
       "Ticket       681    0         NaN"
      ]
     },
     "execution_count": 313,
     "metadata": {},
     "output_type": "execute_result"
    }
   ],
   "source": [
    "pd.concat([pd.DataFrame(df_train.nunique()),\n",
    "           pd.DataFrame(df_train.isnull().sum()),\n",
    "           pd.DataFrame(df_train.mean())],\n",
    "          axis=1,\n",
    "          ignore_index=True)"
   ]
  },
  {
   "cell_type": "code",
   "execution_count": 314,
   "metadata": {},
   "outputs": [],
   "source": [
    "def make_score(clf, X, y):\n",
    "    return np.mean(cross_val_score(clf, X, y, scoring='accuracy'))"
   ]
  },
  {
   "cell_type": "markdown",
   "metadata": {},
   "source": [
    "## Models"
   ]
  },
  {
   "cell_type": "code",
   "execution_count": 318,
   "metadata": {},
   "outputs": [
    {
     "data": {
      "text/plain": [
       "0.6734006734006734"
      ]
     },
     "execution_count": 318,
     "metadata": {},
     "output_type": "execute_result"
    }
   ],
   "source": [
    "def parse_0(df):\n",
    "    x = df[['Fare', 'SibSp', 'Parch']].values\n",
    "    y = df['Survived'].values\n",
    "    \n",
    "    return x, y\n",
    "\n",
    "X, y = parse_0(df_train.copy())\n",
    "clf = linear_model.LogisticRegression()\n",
    "make_score(clf, X, y)"
   ]
  },
  {
   "cell_type": "code",
   "execution_count": 319,
   "metadata": {},
   "outputs": [
    {
     "data": {
      "text/plain": [
       "0.7890011223344556"
      ]
     },
     "execution_count": 319,
     "metadata": {},
     "output_type": "execute_result"
    }
   ],
   "source": [
    "def parse_1(df):\n",
    "    df = pd.concat([df_train,\n",
    "                    pd.get_dummies(df['Sex'])],\n",
    "                   axis=1)\n",
    "    \n",
    "    x = df[['Fare', 'SibSp', 'Parch', 'male', 'female']].values\n",
    "    y = df['Survived'].values\n",
    "    \n",
    "    return x, y\n",
    "\n",
    "X, y = parse_1(df_train.copy())\n",
    "clf = linear_model.LogisticRegression()\n",
    "make_score(clf, X, y)"
   ]
  },
  {
   "cell_type": "code",
   "execution_count": 320,
   "metadata": {},
   "outputs": [
    {
     "data": {
      "text/plain": [
       "0.8013468013468014"
      ]
     },
     "execution_count": 320,
     "metadata": {},
     "output_type": "execute_result"
    }
   ],
   "source": [
    "def parse_2(df):\n",
    "    df = pd.concat([df,\n",
    "                    pd.get_dummies(df['Sex']),\n",
    "                    pd.get_dummies(df['Embarked'])],\n",
    "                   axis=1)\n",
    "    \n",
    "    df['Age'] = df['Age'].fillna(df['Age'].mean())\n",
    "    df['is_child'] = df['Age'].apply(lambda r: 1 if r < 8 else 0)\n",
    "    \n",
    "    x = df[['Fare', 'SibSp', 'Parch', 'Age',\n",
    "            'male', 'female', 'is_child']].values\n",
    "    y = df['Survived'].values\n",
    "    \n",
    "    return x, y\n",
    "\n",
    "X, y = parse_2(df_train.copy())\n",
    "clf = linear_model.LogisticRegression()\n",
    "make_score(clf, X, y)"
   ]
  },
  {
   "cell_type": "code",
   "execution_count": 321,
   "metadata": {},
   "outputs": [
    {
     "data": {
      "text/plain": [
       "0.8204264870931537"
      ]
     },
     "execution_count": 321,
     "metadata": {},
     "output_type": "execute_result"
    }
   ],
   "source": [
    "def parse_3(df):\n",
    "    df['Bridge'] = df['Cabin'].apply(lambda r: r[0] if not pd.isnull(r) else -1)\n",
    "    \n",
    "    df = pd.concat([df,\n",
    "                    pd.get_dummies(df['Sex']),\n",
    "                    pd.get_dummies(df['Embarked'], prefix='embarked'),\n",
    "                    pd.get_dummies(df['Bridge'], prefix='bridge'),\n",
    "                    pd.get_dummies(df['Name'].str.extract('[A-Za-z]*,\\s([A-Z][a-z]*).', expand=False).str.strip())],\n",
    "                   axis=1)\n",
    "    \n",
    "    df['Age'] = df['Age'].fillna(df['Age'].mean())\n",
    "    df['is_child'] = df['Age'].apply(lambda r: 1 if r < 8 else 0)\n",
    "    df['family_size'] = df['Parch'] + df['SibSp']\n",
    "    df['is_alone'] = df['family_size'].apply(lambda r: 0 if r > 0 else 1)\n",
    "    \n",
    "    x = df.drop(['PassengerId', 'Survived', 'Embarked',\n",
    "                 'Sex', 'Name', 'Cabin', 'Ticket', 'Bridge'],\n",
    "                axis=1).values\n",
    "    \n",
    "    return x, y\n",
    "\n",
    "X, y = parse_3(df_train.copy())\n",
    "clf = linear_model.LogisticRegression()\n",
    "make_score(clf, X, y)"
   ]
  },
  {
   "cell_type": "code",
   "execution_count": 322,
   "metadata": {},
   "outputs": [
    {
     "data": {
      "text/plain": [
       "0.8338945005611672"
      ]
     },
     "execution_count": 322,
     "metadata": {},
     "output_type": "execute_result"
    }
   ],
   "source": [
    "X, y = parse_3(df_train.copy())\n",
    "clf = ensemble.GradientBoostingClassifier(learning_rate=0.01,\n",
    "                                          n_estimators=100,\n",
    "                                          max_depth=3)\n",
    "make_score(clf, X, y)"
   ]
  },
  {
   "cell_type": "code",
   "execution_count": 323,
   "metadata": {},
   "outputs": [
    {
     "data": {
      "text/plain": [
       "0.8316498316498318"
      ]
     },
     "execution_count": 323,
     "metadata": {},
     "output_type": "execute_result"
    }
   ],
   "source": [
    "def parse_4(df):\n",
    "    df['Bridge'] = df['Cabin'].apply(lambda r: r[0] if not pd.isnull(r) else -1)\n",
    "    df['Title'] = df['Name'].str.extract('[A-Za-z]*,\\s([A-Z][a-z]*).', expand=False).str.strip()          \n",
    "    \n",
    "    df['Age'] = df['Age'].fillna(df['Age'].mean())\n",
    "    df['family_size'] = df['Parch'] + df['SibSp']\n",
    "    df['is_child'] = df['Age'].apply(lambda r: 1 if r < 8 else 0)\n",
    "    df['is_alone'] = df['family_size'].apply(lambda r: 0 if r > 0 else 1)\n",
    "    \n",
    "    x = hstack([\n",
    "        CountVectorizer(token_pattern='[A-Z]*').fit_transform(df['Bridge'].astype(str)),\n",
    "        CountVectorizer().fit_transform(df['Title'].astype(str)),\n",
    "        CountVectorizer().fit_transform(df['Sex']),\n",
    "        CountVectorizer(token_pattern='[A-Z]*').fit_transform(df['Embarked'].fillna('')),\n",
    "        df['Age'].values.reshape(-1, 1),\n",
    "        df['family_size'].values.reshape(-1, 1),\n",
    "        df['is_child'].values.reshape(-1, 1),\n",
    "        df['is_alone'].values.reshape(-1, 1)\n",
    "    ])\n",
    "    \n",
    "    y = df['Survived']\n",
    "    \n",
    "    return x, y\n",
    "\n",
    "X, y = parse_4(df_train.copy())\n",
    "\n",
    "clf = ensemble.GradientBoostingClassifier(learning_rate=0.01,\n",
    "                                          n_estimators=100,\n",
    "                                          max_depth=3)\n",
    "make_score(clf, X, y)"
   ]
  },
  {
   "cell_type": "markdown",
   "metadata": {},
   "source": [
    "## Final Model and submission"
   ]
  },
  {
   "cell_type": "code",
   "execution_count": 336,
   "metadata": {},
   "outputs": [],
   "source": [
    "def preprocess_df(df):\n",
    "    df['Bridge'] = df['Cabin'].apply(lambda r: r[0] if not pd.isnull(r) else -1)\n",
    "    df['Title'] = df['Name'].str.extract('[A-Za-z]*,\\s([A-Z][a-z]*).', expand=False).str.strip()          \n",
    "\n",
    "    df['Age'] = df['Age'].fillna(df['Age'].mean())\n",
    "    df['family_size'] = df['Parch'] + df['SibSp']\n",
    "    df['is_child'] = df['Age'].apply(lambda r: 1 if r < 8 else 0)\n",
    "    df['is_alone'] = df['family_size'].apply(lambda r: 0 if r > 0 else 1)\n",
    "    \n",
    "    return df\n",
    "\n",
    "df_train = preprocess_df(df_train)\n",
    "\n",
    "bridge_cv = CountVectorizer(token_pattern='[A-Z]*')\n",
    "title_cv = CountVectorizer()\n",
    "sex_cv = CountVectorizer()\n",
    "embarked_cv = CountVectorizer(token_pattern='[A-Z]*')\n",
    "\n",
    "x_train = hstack([\n",
    "    bridge_cv.fit_transform(df_train['Bridge'].astype(str)),\n",
    "    title_cv.fit_transform(df_train['Title'].astype(str)),\n",
    "    sex_cv.fit_transform(df_train['Sex']),\n",
    "    embarked_cv.fit_transform(df_train['Embarked'].fillna('')),\n",
    "    df_train['Age'].values.reshape(-1, 1),\n",
    "    df_train['family_size'].values.reshape(-1, 1),\n",
    "    df_train['is_child'].values.reshape(-1, 1),\n",
    "    df_train['is_alone'].values.reshape(-1, 1)\n",
    "])\n",
    "\n",
    "y_train = df_train['Survived']\n",
    "\n",
    "clf = ensemble.GradientBoostingClassifier(learning_rate=0.01,\n",
    "                                          n_estimators=100,\n",
    "                                          max_depth=3)\n",
    "\n",
    "clf.fit(x_train, y_train)\n",
    "\n",
    "df_test = preprocess_df(df_test)\n",
    "\n",
    "x_test = hstack([\n",
    "    bridge_cv.transform(df_test['Bridge'].astype(str)),\n",
    "    title_cv.transform(df_test['Title'].astype(str)),\n",
    "    sex_cv.transform(df_test['Sex']),\n",
    "    embarked_cv.transform(df_test['Embarked'].fillna('')),\n",
    "    df_test['Age'].values.reshape(-1, 1),\n",
    "    df_test['family_size'].values.reshape(-1, 1),\n",
    "    df_test['is_child'].values.reshape(-1, 1),\n",
    "    df_test['is_alone'].values.reshape(-1, 1)\n",
    "])\n",
    "\n",
    "df_test['Survived'] = clf.predict(x_test)"
   ]
  },
  {
   "cell_type": "code",
   "execution_count": 338,
   "metadata": {},
   "outputs": [],
   "source": [
    "df_test[['PassengerId', 'Survived']].to_csv('./data/submission.csv', index=False)"
   ]
  }
 ],
 "metadata": {
  "kernelspec": {
   "display_name": "data3",
   "language": "python",
   "name": "data3"
  },
  "language_info": {
   "codemirror_mode": {
    "name": "ipython",
    "version": 3
   },
   "file_extension": ".py",
   "mimetype": "text/x-python",
   "name": "python",
   "nbconvert_exporter": "python",
   "pygments_lexer": "ipython3",
   "version": "3.6.4"
  }
 },
 "nbformat": 4,
 "nbformat_minor": 2
}
