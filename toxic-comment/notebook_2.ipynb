{
 "cells": [
  {
   "cell_type": "code",
   "execution_count": 177,
   "metadata": {},
   "outputs": [],
   "source": [
    "import os\n",
    "os.environ[\"CUDA_DEVICE_ORDER\"] = \"PCI_BUS_ID\"   # see issue #152\n",
    "os.environ[\"CUDA_VISIBLE_DEVICES\"] = \"\"\n",
    "\n",
    "import pandas as pd\n",
    "import numpy as np\n",
    "import re\n",
    "from scipy import sparse\n",
    "\n",
    "from sklearn.feature_extraction.text import CountVectorizer, TfidfVectorizer\n",
    "from keras.preprocessing.sequence import pad_sequences\n",
    "from keras.preprocessing.text import one_hot\n",
    "from keras import models\n",
    "from keras import layers\n",
    "from keras.utils.vis_utils import model_to_dot\n",
    "\n",
    "from sklearn import linear_model\n",
    "from sklearn.model_selection import cross_val_score, train_test_split\n",
    "from sklearn.metrics import roc_auc_score\n",
    "from sklearn.preprocessing import StandardScaler\n",
    "from sklearn import ensemble\n",
    "\n",
    "from IPython.display import SVG"
   ]
  },
  {
   "cell_type": "code",
   "execution_count": 139,
   "metadata": {},
   "outputs": [],
   "source": [
    "df_train = pd.read_csv('train.csv', encoding='utf8')\n",
    "df_test = pd.read_csv('test.csv', encoding='utf8')"
   ]
  },
  {
   "cell_type": "code",
   "execution_count": 172,
   "metadata": {},
   "outputs": [],
   "source": [
    "def parse_df(df):\n",
    "    match_numbers = re.compile(r'[0-9]+', flags=re.IGNORECASE)\n",
    "    df['comment_text'] = df.comment_text.str.replace(match_numbers, 'num')\n",
    "    df['comment_text'] = df.comment_text.str.replace('[\\n\"]', ' ')\n",
    "    \n",
    "    df['comment_length'] = df['comment_text'].apply(lambda r: len(r.split(' ')))\n",
    "    df['nb_unique_words'] = df['comment_text'].apply(lambda r: len(set(r.split(' '))))\n",
    "    df['unique_words_ratio'] = df['nb_unique_words'] / df['comment_length'].astype(float)\n",
    "    \n",
    "    df['nb_!'] = df['comment_text'].apply(lambda r: r.count('!'))\n",
    "    df['nb_uppercase'] = df['comment_text'].apply(lambda r: len(re.findall('[A-Z\\d]+', r)))\n",
    "    \n",
    "    return df"
   ]
  },
  {
   "cell_type": "code",
   "execution_count": 145,
   "metadata": {},
   "outputs": [
    {
     "name": "stderr",
     "output_type": "stream",
     "text": [
      "/home/eric/code/venvs/data3/lib/python3.5/site-packages/sklearn/utils/validation.py:475: DataConversionWarning: Data with input dtype int64 was converted to float64 by StandardScaler.\n",
      "  warnings.warn(msg, DataConversionWarning)\n"
     ]
    }
   ],
   "source": [
    "df_train = parse_df(df_train)"
   ]
  },
  {
   "cell_type": "markdown",
   "metadata": {},
   "source": [
    "## Linear Model"
   ]
  },
  {
   "cell_type": "code",
   "execution_count": 173,
   "metadata": {},
   "outputs": [
    {
     "name": "stderr",
     "output_type": "stream",
     "text": [
      "/home/eric/code/venvs/data3/lib/python3.5/site-packages/sklearn/utils/validation.py:475: DataConversionWarning: Data with input dtype int64 was converted to float64 by StandardScaler.\n",
      "  warnings.warn(msg, DataConversionWarning)\n"
     ]
    },
    {
     "data": {
      "text/plain": [
       "0.9689131599600443"
      ]
     },
     "execution_count": 173,
     "metadata": {},
     "output_type": "execute_result"
    }
   ],
   "source": [
    "v = TfidfVectorizer(ngram_range=(1, 2),\n",
    "                    max_features=100000,\n",
    "                    stop_words='english')\n",
    "\n",
    "X = sparse.hstack([v.fit_transform(df_train['comment_text']),\n",
    "                   StandardScaler().fit_transform(df_train['nb_unique_words'].values.reshape(-1, 1)),\n",
    "                   StandardScaler().fit_transform(df_train['nb_!'].values.reshape(-1, 1)),\n",
    "                   StandardScaler().fit_transform(df_train['unique_words_ratio'].values.reshape(-1, 1)),\n",
    "                   StandardScaler().fit_transform(df_train['nb_uppercase'].values.reshape(-1, 1)),\n",
    "                   StandardScaler().fit_transform(df_train['comment_length'].values.reshape(-1, 1)),\n",
    "                  ])\n",
    "y = df_train['toxic']\n",
    "\n",
    "clf = linear_model.LogisticRegression()\n",
    "\n",
    "np.mean(cross_val_score(clf, X, y, scoring='roc_auc'))"
   ]
  },
  {
   "cell_type": "markdown",
   "metadata": {},
   "source": [
    "## Gradient Boosting"
   ]
  },
  {
   "cell_type": "code",
   "execution_count": 168,
   "metadata": {},
   "outputs": [
    {
     "data": {
      "text/plain": [
       "0.911372003836853"
      ]
     },
     "execution_count": 168,
     "metadata": {},
     "output_type": "execute_result"
    }
   ],
   "source": [
    "v = TfidfVectorizer(ngram_range=(1, 1),\n",
    "                    max_features=10000,\n",
    "                    stop_words='english')\n",
    "\n",
    "X = sparse.hstack([v.fit_transform(df_train['comment_text']),\n",
    "                   # df_train['nb_unique_words'].values.reshape(-1, 1),\n",
    "                   df_train['nb_!'].values.reshape(-1, 1),\n",
    "                   df_train['unique_words_ratio'].values.reshape(-1, 1),\n",
    "                   df_train['nb_uppercase'].values.reshape(-1, 1),\n",
    "                   df_train['comment_length'].values.reshape(-1, 1),\n",
    "                  ])\n",
    "y = df_train['toxic']\n",
    "\n",
    "\n",
    "clf = ensemble.GradientBoostingClassifier()\n",
    "\n",
    "np.mean(cross_val_score(clf, X, y, scoring='roc_auc'))"
   ]
  },
  {
   "cell_type": "markdown",
   "metadata": {},
   "source": [
    "## GRU"
   ]
  },
  {
   "cell_type": "code",
   "execution_count": 38,
   "metadata": {},
   "outputs": [],
   "source": [
    "X = pad_sequences(df_train['comment_text'].head(10000).map(lambda r: one_hot(r, 100000)), maxlen=300)\n",
    "y = df_train['toxic'].head(10000)\n",
    "\n",
    "X_train, X_val, y_train, y_val = train_test_split(X, y)"
   ]
  },
  {
   "cell_type": "code",
   "execution_count": 39,
   "metadata": {},
   "outputs": [],
   "source": [
    "model = Sequential()\n",
    "model.add(Embedding(input_dim=100000,\n",
    "                    output_dim=128,\n",
    "                    input_shape=(300,)))\n",
    "model.add(GRU(128))\n",
    "model.add(Dropout(0.4))\n",
    "model.add(Dense(units=1, activation='sigmoid'))\n",
    "\n",
    "model.compile(optimizer='adam',\n",
    "              loss='binary_crossentropy',\n",
    "              metrics=['accuracy'])"
   ]
  },
  {
   "cell_type": "code",
   "execution_count": 40,
   "metadata": {},
   "outputs": [
    {
     "name": "stdout",
     "output_type": "stream",
     "text": [
      "Train on 7500 samples, validate on 2500 samples\n",
      "Epoch 1/2\n",
      "7500/7500 [==============================] - 60s 8ms/step - loss: 0.2558 - acc: 0.9187 - val_loss: 0.1761 - val_acc: 0.9392\n",
      "Epoch 2/2\n",
      "7500/7500 [==============================] - 59s 8ms/step - loss: 0.0984 - acc: 0.9641 - val_loss: 0.2142 - val_acc: 0.9280\n"
     ]
    },
    {
     "data": {
      "text/plain": [
       "<keras.callbacks.History at 0x7f908de95ef0>"
      ]
     },
     "execution_count": 40,
     "metadata": {},
     "output_type": "execute_result"
    }
   ],
   "source": [
    "model.fit(X_train, y_train,\n",
    "          validation_data=(X_val, y_val),\n",
    "          epochs=2)"
   ]
  },
  {
   "cell_type": "code",
   "execution_count": 41,
   "metadata": {},
   "outputs": [
    {
     "data": {
      "text/plain": [
       "0.8142222222222223"
      ]
     },
     "execution_count": 41,
     "metadata": {},
     "output_type": "execute_result"
    }
   ],
   "source": [
    "roc_auc_score(model.predict_classes(X_val), y_val)"
   ]
  },
  {
   "cell_type": "markdown",
   "metadata": {},
   "source": [
    "## Mixing Inputs"
   ]
  },
  {
   "cell_type": "code",
   "execution_count": 202,
   "metadata": {},
   "outputs": [
    {
     "data": {
      "image/svg+xml": [
       "<svg height=\"636pt\" viewBox=\"0.00 0.00 576.50 636.00\" width=\"577pt\" xmlns=\"http://www.w3.org/2000/svg\" xmlns:xlink=\"http://www.w3.org/1999/xlink\">\n",
       "<g class=\"graph\" id=\"graph0\" transform=\"scale(1 1) rotate(0) translate(4 632)\">\n",
       "<title>G</title>\n",
       "<polygon fill=\"white\" points=\"-4,4 -4,-632 572.5,-632 572.5,4 -4,4\" stroke=\"none\"/>\n",
       "<!-- 140257928138088 -->\n",
       "<g class=\"node\" id=\"node1\"><title>140257928138088</title>\n",
       "<polygon fill=\"none\" points=\"31.5,-581.5 31.5,-627.5 301.5,-627.5 301.5,-581.5 31.5,-581.5\" stroke=\"black\"/>\n",
       "<text font-family=\"Times,serif\" font-size=\"14.00\" text-anchor=\"middle\" x=\"97.5\" y=\"-600.8\">input_13: InputLayer</text>\n",
       "<polyline fill=\"none\" points=\"163.5,-581.5 163.5,-627.5 \" stroke=\"black\"/>\n",
       "<text font-family=\"Times,serif\" font-size=\"14.00\" text-anchor=\"middle\" x=\"191\" y=\"-612.3\">input:</text>\n",
       "<polyline fill=\"none\" points=\"163.5,-604.5 218.5,-604.5 \" stroke=\"black\"/>\n",
       "<text font-family=\"Times,serif\" font-size=\"14.00\" text-anchor=\"middle\" x=\"191\" y=\"-589.3\">output:</text>\n",
       "<polyline fill=\"none\" points=\"218.5,-581.5 218.5,-627.5 \" stroke=\"black\"/>\n",
       "<text font-family=\"Times,serif\" font-size=\"14.00\" text-anchor=\"middle\" x=\"260\" y=\"-612.3\">(None, 150)</text>\n",
       "<polyline fill=\"none\" points=\"218.5,-604.5 301.5,-604.5 \" stroke=\"black\"/>\n",
       "<text font-family=\"Times,serif\" font-size=\"14.00\" text-anchor=\"middle\" x=\"260\" y=\"-589.3\">(None, 150)</text>\n",
       "</g>\n",
       "<!-- 140257928137976 -->\n",
       "<g class=\"node\" id=\"node2\"><title>140257928137976</title>\n",
       "<polygon fill=\"none\" points=\"0,-498.5 0,-544.5 333,-544.5 333,-498.5 0,-498.5\" stroke=\"black\"/>\n",
       "<text font-family=\"Times,serif\" font-size=\"14.00\" text-anchor=\"middle\" x=\"84\" y=\"-517.8\">embedding_14: Embedding</text>\n",
       "<polyline fill=\"none\" points=\"168,-498.5 168,-544.5 \" stroke=\"black\"/>\n",
       "<text font-family=\"Times,serif\" font-size=\"14.00\" text-anchor=\"middle\" x=\"195.5\" y=\"-529.3\">input:</text>\n",
       "<polyline fill=\"none\" points=\"168,-521.5 223,-521.5 \" stroke=\"black\"/>\n",
       "<text font-family=\"Times,serif\" font-size=\"14.00\" text-anchor=\"middle\" x=\"195.5\" y=\"-506.3\">output:</text>\n",
       "<polyline fill=\"none\" points=\"223,-498.5 223,-544.5 \" stroke=\"black\"/>\n",
       "<text font-family=\"Times,serif\" font-size=\"14.00\" text-anchor=\"middle\" x=\"278\" y=\"-529.3\">(None, 150)</text>\n",
       "<polyline fill=\"none\" points=\"223,-521.5 333,-521.5 \" stroke=\"black\"/>\n",
       "<text font-family=\"Times,serif\" font-size=\"14.00\" text-anchor=\"middle\" x=\"278\" y=\"-506.3\">(None, 150, 128)</text>\n",
       "</g>\n",
       "<!-- 140257928138088&#45;&gt;140257928137976 -->\n",
       "<g class=\"edge\" id=\"edge1\"><title>140257928138088-&gt;140257928137976</title>\n",
       "<path d=\"M166.5,-581.366C166.5,-573.152 166.5,-563.658 166.5,-554.725\" fill=\"none\" stroke=\"black\"/>\n",
       "<polygon fill=\"black\" points=\"170,-554.607 166.5,-544.607 163,-554.607 170,-554.607\" stroke=\"black\"/>\n",
       "</g>\n",
       "<!-- 140257928137808 -->\n",
       "<g class=\"node\" id=\"node3\"><title>140257928137808</title>\n",
       "<polygon fill=\"none\" points=\"38.5,-415.5 38.5,-461.5 294.5,-461.5 294.5,-415.5 38.5,-415.5\" stroke=\"black\"/>\n",
       "<text font-family=\"Times,serif\" font-size=\"14.00\" text-anchor=\"middle\" x=\"84\" y=\"-434.8\">gru_14: GRU</text>\n",
       "<polyline fill=\"none\" points=\"129.5,-415.5 129.5,-461.5 \" stroke=\"black\"/>\n",
       "<text font-family=\"Times,serif\" font-size=\"14.00\" text-anchor=\"middle\" x=\"157\" y=\"-446.3\">input:</text>\n",
       "<polyline fill=\"none\" points=\"129.5,-438.5 184.5,-438.5 \" stroke=\"black\"/>\n",
       "<text font-family=\"Times,serif\" font-size=\"14.00\" text-anchor=\"middle\" x=\"157\" y=\"-423.3\">output:</text>\n",
       "<polyline fill=\"none\" points=\"184.5,-415.5 184.5,-461.5 \" stroke=\"black\"/>\n",
       "<text font-family=\"Times,serif\" font-size=\"14.00\" text-anchor=\"middle\" x=\"239.5\" y=\"-446.3\">(None, 150, 128)</text>\n",
       "<polyline fill=\"none\" points=\"184.5,-438.5 294.5,-438.5 \" stroke=\"black\"/>\n",
       "<text font-family=\"Times,serif\" font-size=\"14.00\" text-anchor=\"middle\" x=\"239.5\" y=\"-423.3\">(None, 128)</text>\n",
       "</g>\n",
       "<!-- 140257928137976&#45;&gt;140257928137808 -->\n",
       "<g class=\"edge\" id=\"edge2\"><title>140257928137976-&gt;140257928137808</title>\n",
       "<path d=\"M166.5,-498.366C166.5,-490.152 166.5,-480.658 166.5,-471.725\" fill=\"none\" stroke=\"black\"/>\n",
       "<polygon fill=\"black\" points=\"170,-471.607 166.5,-461.607 163,-471.607 170,-471.607\" stroke=\"black\"/>\n",
       "</g>\n",
       "<!-- 140258081392568 -->\n",
       "<g class=\"node\" id=\"node5\"><title>140258081392568</title>\n",
       "<polygon fill=\"none\" points=\"116,-332.5 116,-378.5 491,-378.5 491,-332.5 116,-332.5\" stroke=\"black\"/>\n",
       "<text font-family=\"Times,serif\" font-size=\"14.00\" text-anchor=\"middle\" x=\"200\" y=\"-351.8\">concatenate_7: Concatenate</text>\n",
       "<polyline fill=\"none\" points=\"284,-332.5 284,-378.5 \" stroke=\"black\"/>\n",
       "<text font-family=\"Times,serif\" font-size=\"14.00\" text-anchor=\"middle\" x=\"311.5\" y=\"-363.3\">input:</text>\n",
       "<polyline fill=\"none\" points=\"284,-355.5 339,-355.5 \" stroke=\"black\"/>\n",
       "<text font-family=\"Times,serif\" font-size=\"14.00\" text-anchor=\"middle\" x=\"311.5\" y=\"-340.3\">output:</text>\n",
       "<polyline fill=\"none\" points=\"339,-332.5 339,-378.5 \" stroke=\"black\"/>\n",
       "<text font-family=\"Times,serif\" font-size=\"14.00\" text-anchor=\"middle\" x=\"415\" y=\"-363.3\">[(None, 128), (None, 5)]</text>\n",
       "<polyline fill=\"none\" points=\"339,-355.5 491,-355.5 \" stroke=\"black\"/>\n",
       "<text font-family=\"Times,serif\" font-size=\"14.00\" text-anchor=\"middle\" x=\"415\" y=\"-340.3\">(None, 133)</text>\n",
       "</g>\n",
       "<!-- 140257928137808&#45;&gt;140258081392568 -->\n",
       "<g class=\"edge\" id=\"edge3\"><title>140257928137808-&gt;140258081392568</title>\n",
       "<path d=\"M203.936,-415.366C220.397,-405.634 239.895,-394.106 257.254,-383.842\" fill=\"none\" stroke=\"black\"/>\n",
       "<polygon fill=\"black\" points=\"259.283,-386.709 266.109,-378.607 255.72,-380.683 259.283,-386.709\" stroke=\"black\"/>\n",
       "</g>\n",
       "<!-- 140257928138144 -->\n",
       "<g class=\"node\" id=\"node4\"><title>140257928138144</title>\n",
       "<polygon fill=\"none\" points=\"312.5,-415.5 312.5,-461.5 568.5,-461.5 568.5,-415.5 312.5,-415.5\" stroke=\"black\"/>\n",
       "<text font-family=\"Times,serif\" font-size=\"14.00\" text-anchor=\"middle\" x=\"378.5\" y=\"-434.8\">input_14: InputLayer</text>\n",
       "<polyline fill=\"none\" points=\"444.5,-415.5 444.5,-461.5 \" stroke=\"black\"/>\n",
       "<text font-family=\"Times,serif\" font-size=\"14.00\" text-anchor=\"middle\" x=\"472\" y=\"-446.3\">input:</text>\n",
       "<polyline fill=\"none\" points=\"444.5,-438.5 499.5,-438.5 \" stroke=\"black\"/>\n",
       "<text font-family=\"Times,serif\" font-size=\"14.00\" text-anchor=\"middle\" x=\"472\" y=\"-423.3\">output:</text>\n",
       "<polyline fill=\"none\" points=\"499.5,-415.5 499.5,-461.5 \" stroke=\"black\"/>\n",
       "<text font-family=\"Times,serif\" font-size=\"14.00\" text-anchor=\"middle\" x=\"534\" y=\"-446.3\">(None, 5)</text>\n",
       "<polyline fill=\"none\" points=\"499.5,-438.5 568.5,-438.5 \" stroke=\"black\"/>\n",
       "<text font-family=\"Times,serif\" font-size=\"14.00\" text-anchor=\"middle\" x=\"534\" y=\"-423.3\">(None, 5)</text>\n",
       "</g>\n",
       "<!-- 140257928138144&#45;&gt;140258081392568 -->\n",
       "<g class=\"edge\" id=\"edge4\"><title>140257928138144-&gt;140258081392568</title>\n",
       "<path d=\"M403.064,-415.366C386.603,-405.634 367.105,-394.106 349.746,-383.842\" fill=\"none\" stroke=\"black\"/>\n",
       "<polygon fill=\"black\" points=\"351.28,-380.683 340.891,-378.607 347.717,-386.709 351.28,-380.683\" stroke=\"black\"/>\n",
       "</g>\n",
       "<!-- 140258081393352 -->\n",
       "<g class=\"node\" id=\"node6\"><title>140258081393352</title>\n",
       "<polygon fill=\"none\" points=\"180,-249.5 180,-295.5 427,-295.5 427,-249.5 180,-249.5\" stroke=\"black\"/>\n",
       "<text font-family=\"Times,serif\" font-size=\"14.00\" text-anchor=\"middle\" x=\"234.5\" y=\"-268.8\">dense_25: Dense</text>\n",
       "<polyline fill=\"none\" points=\"289,-249.5 289,-295.5 \" stroke=\"black\"/>\n",
       "<text font-family=\"Times,serif\" font-size=\"14.00\" text-anchor=\"middle\" x=\"316.5\" y=\"-280.3\">input:</text>\n",
       "<polyline fill=\"none\" points=\"289,-272.5 344,-272.5 \" stroke=\"black\"/>\n",
       "<text font-family=\"Times,serif\" font-size=\"14.00\" text-anchor=\"middle\" x=\"316.5\" y=\"-257.3\">output:</text>\n",
       "<polyline fill=\"none\" points=\"344,-249.5 344,-295.5 \" stroke=\"black\"/>\n",
       "<text font-family=\"Times,serif\" font-size=\"14.00\" text-anchor=\"middle\" x=\"385.5\" y=\"-280.3\">(None, 133)</text>\n",
       "<polyline fill=\"none\" points=\"344,-272.5 427,-272.5 \" stroke=\"black\"/>\n",
       "<text font-family=\"Times,serif\" font-size=\"14.00\" text-anchor=\"middle\" x=\"385.5\" y=\"-257.3\">(None, 32)</text>\n",
       "</g>\n",
       "<!-- 140258081392568&#45;&gt;140258081393352 -->\n",
       "<g class=\"edge\" id=\"edge5\"><title>140258081392568-&gt;140258081393352</title>\n",
       "<path d=\"M303.5,-332.366C303.5,-324.152 303.5,-314.658 303.5,-305.725\" fill=\"none\" stroke=\"black\"/>\n",
       "<polygon fill=\"black\" points=\"307,-305.607 303.5,-295.607 300,-305.607 307,-305.607\" stroke=\"black\"/>\n",
       "</g>\n",
       "<!-- 140258081391168 -->\n",
       "<g class=\"node\" id=\"node7\"><title>140258081391168</title>\n",
       "<polygon fill=\"none\" points=\"175.5,-166.5 175.5,-212.5 431.5,-212.5 431.5,-166.5 175.5,-166.5\" stroke=\"black\"/>\n",
       "<text font-family=\"Times,serif\" font-size=\"14.00\" text-anchor=\"middle\" x=\"238\" y=\"-185.8\">dropout_9: Dropout</text>\n",
       "<polyline fill=\"none\" points=\"300.5,-166.5 300.5,-212.5 \" stroke=\"black\"/>\n",
       "<text font-family=\"Times,serif\" font-size=\"14.00\" text-anchor=\"middle\" x=\"328\" y=\"-197.3\">input:</text>\n",
       "<polyline fill=\"none\" points=\"300.5,-189.5 355.5,-189.5 \" stroke=\"black\"/>\n",
       "<text font-family=\"Times,serif\" font-size=\"14.00\" text-anchor=\"middle\" x=\"328\" y=\"-174.3\">output:</text>\n",
       "<polyline fill=\"none\" points=\"355.5,-166.5 355.5,-212.5 \" stroke=\"black\"/>\n",
       "<text font-family=\"Times,serif\" font-size=\"14.00\" text-anchor=\"middle\" x=\"393.5\" y=\"-197.3\">(None, 32)</text>\n",
       "<polyline fill=\"none\" points=\"355.5,-189.5 431.5,-189.5 \" stroke=\"black\"/>\n",
       "<text font-family=\"Times,serif\" font-size=\"14.00\" text-anchor=\"middle\" x=\"393.5\" y=\"-174.3\">(None, 32)</text>\n",
       "</g>\n",
       "<!-- 140258081393352&#45;&gt;140258081391168 -->\n",
       "<g class=\"edge\" id=\"edge6\"><title>140258081393352-&gt;140258081391168</title>\n",
       "<path d=\"M303.5,-249.366C303.5,-241.152 303.5,-231.658 303.5,-222.725\" fill=\"none\" stroke=\"black\"/>\n",
       "<polygon fill=\"black\" points=\"307,-222.607 303.5,-212.607 300,-222.607 307,-222.607\" stroke=\"black\"/>\n",
       "</g>\n",
       "<!-- 140258142110328 -->\n",
       "<g class=\"node\" id=\"node8\"><title>140258142110328</title>\n",
       "<polygon fill=\"none\" points=\"183.5,-83.5 183.5,-129.5 423.5,-129.5 423.5,-83.5 183.5,-83.5\" stroke=\"black\"/>\n",
       "<text font-family=\"Times,serif\" font-size=\"14.00\" text-anchor=\"middle\" x=\"238\" y=\"-102.8\">dense_26: Dense</text>\n",
       "<polyline fill=\"none\" points=\"292.5,-83.5 292.5,-129.5 \" stroke=\"black\"/>\n",
       "<text font-family=\"Times,serif\" font-size=\"14.00\" text-anchor=\"middle\" x=\"320\" y=\"-114.3\">input:</text>\n",
       "<polyline fill=\"none\" points=\"292.5,-106.5 347.5,-106.5 \" stroke=\"black\"/>\n",
       "<text font-family=\"Times,serif\" font-size=\"14.00\" text-anchor=\"middle\" x=\"320\" y=\"-91.3\">output:</text>\n",
       "<polyline fill=\"none\" points=\"347.5,-83.5 347.5,-129.5 \" stroke=\"black\"/>\n",
       "<text font-family=\"Times,serif\" font-size=\"14.00\" text-anchor=\"middle\" x=\"385.5\" y=\"-114.3\">(None, 32)</text>\n",
       "<polyline fill=\"none\" points=\"347.5,-106.5 423.5,-106.5 \" stroke=\"black\"/>\n",
       "<text font-family=\"Times,serif\" font-size=\"14.00\" text-anchor=\"middle\" x=\"385.5\" y=\"-91.3\">(None, 32)</text>\n",
       "</g>\n",
       "<!-- 140258081391168&#45;&gt;140258142110328 -->\n",
       "<g class=\"edge\" id=\"edge7\"><title>140258081391168-&gt;140258142110328</title>\n",
       "<path d=\"M303.5,-166.366C303.5,-158.152 303.5,-148.658 303.5,-139.725\" fill=\"none\" stroke=\"black\"/>\n",
       "<polygon fill=\"black\" points=\"307,-139.607 303.5,-129.607 300,-139.607 307,-139.607\" stroke=\"black\"/>\n",
       "</g>\n",
       "<!-- 140258142111840 -->\n",
       "<g class=\"node\" id=\"node9\"><title>140258142111840</title>\n",
       "<polygon fill=\"none\" points=\"183.5,-0.5 183.5,-46.5 423.5,-46.5 423.5,-0.5 183.5,-0.5\" stroke=\"black\"/>\n",
       "<text font-family=\"Times,serif\" font-size=\"14.00\" text-anchor=\"middle\" x=\"238\" y=\"-19.8\">dense_27: Dense</text>\n",
       "<polyline fill=\"none\" points=\"292.5,-0.5 292.5,-46.5 \" stroke=\"black\"/>\n",
       "<text font-family=\"Times,serif\" font-size=\"14.00\" text-anchor=\"middle\" x=\"320\" y=\"-31.3\">input:</text>\n",
       "<polyline fill=\"none\" points=\"292.5,-23.5 347.5,-23.5 \" stroke=\"black\"/>\n",
       "<text font-family=\"Times,serif\" font-size=\"14.00\" text-anchor=\"middle\" x=\"320\" y=\"-8.3\">output:</text>\n",
       "<polyline fill=\"none\" points=\"347.5,-0.5 347.5,-46.5 \" stroke=\"black\"/>\n",
       "<text font-family=\"Times,serif\" font-size=\"14.00\" text-anchor=\"middle\" x=\"385.5\" y=\"-31.3\">(None, 32)</text>\n",
       "<polyline fill=\"none\" points=\"347.5,-23.5 423.5,-23.5 \" stroke=\"black\"/>\n",
       "<text font-family=\"Times,serif\" font-size=\"14.00\" text-anchor=\"middle\" x=\"385.5\" y=\"-8.3\">(None, 1)</text>\n",
       "</g>\n",
       "<!-- 140258142110328&#45;&gt;140258142111840 -->\n",
       "<g class=\"edge\" id=\"edge8\"><title>140258142110328-&gt;140258142111840</title>\n",
       "<path d=\"M303.5,-83.3664C303.5,-75.1516 303.5,-65.6579 303.5,-56.7252\" fill=\"none\" stroke=\"black\"/>\n",
       "<polygon fill=\"black\" points=\"307,-56.6068 303.5,-46.6068 300,-56.6069 307,-56.6068\" stroke=\"black\"/>\n",
       "</g>\n",
       "</g>\n",
       "</svg>"
      ],
      "text/plain": [
       "<IPython.core.display.SVG object>"
      ]
     },
     "execution_count": 202,
     "metadata": {},
     "output_type": "execute_result"
    }
   ],
   "source": [
    "i_text = layers.Input(shape=(150,), dtype='int32')\n",
    "\n",
    "e_text = layers.Embedding(input_dim=100000,\n",
    "                          output_dim=128,\n",
    "                          input_shape=(150,))(i_text)\n",
    "\n",
    "gru_text = layers.GRU(128)(e_text)\n",
    "\n",
    "i_numerical = layers.Input(shape=(5,), dtype='float32')\n",
    "\n",
    "c = layers.concatenate([gru_text, i_numerical])\n",
    "h = layers.Dense(32, activation='relu')(c)\n",
    "h = layers.Dropout(0.3)(h)\n",
    "h = layers.Dense(32, activation='relu')(h)\n",
    "o = layers.Dense(1, activation='sigmoid')(h)\n",
    "\n",
    "model = models.Model(inputs=[i_text, i_numerical],\n",
    "                     outputs=[o])\n",
    "\n",
    "model.compile(loss='binary_crossentropy',\n",
    "              metrics=['accuracy'],\n",
    "              optimizer='adam')\n",
    "\n",
    "SVG(model_to_dot(model, show_shapes=True).create(prog='dot', format='svg'))"
   ]
  },
  {
   "cell_type": "code",
   "execution_count": 204,
   "metadata": {},
   "outputs": [
    {
     "name": "stdout",
     "output_type": "stream",
     "text": [
      "159571\n",
      "Epoch 1/2\n",
      "119678/119678 [==============================] - 719s 6ms/step - loss: 0.1690 - acc: 0.9459\n",
      "Epoch 2/2\n",
      "119678/119678 [==============================] - 668s 6ms/step - loss: 0.1041 - acc: 0.9640\n"
     ]
    },
    {
     "data": {
      "text/plain": [
       "<keras.callbacks.History at 0x7f903e7d0908>"
      ]
     },
     "execution_count": 204,
     "metadata": {},
     "output_type": "execute_result"
    }
   ],
   "source": [
    "df = df_train.sample(frac=1)\n",
    "print(len(df))\n",
    "train, val = train_test_split(df)\n",
    "\n",
    "def parse_df_2(df):\n",
    "    x_text = pad_sequences(df['comment_text'].map(lambda r: one_hot(r, 100000)), maxlen=150)\n",
    "\n",
    "    x_numerical = np.hstack([df['nb_unique_words'].values.reshape(-1, 1),\n",
    "                             df['nb_!'].values.reshape(-1, 1),\n",
    "                             df['unique_words_ratio'].values.reshape(-1, 1),\n",
    "                             df['nb_uppercase'].values.reshape(-1, 1),\n",
    "                             df['comment_length'].values.reshape(-1, 1),])\n",
    "    \n",
    "    return [x_text, x_numerical]\n",
    "\n",
    "model.fit(parse_df_2(train),\n",
    "          train['toxic'],\n",
    "          epochs=2)"
   ]
  },
  {
   "cell_type": "code",
   "execution_count": 205,
   "metadata": {},
   "outputs": [
    {
     "data": {
      "text/plain": [
       "0.9175305551898955"
      ]
     },
     "execution_count": 205,
     "metadata": {},
     "output_type": "execute_result"
    }
   ],
   "source": [
    "roc_auc_score(list(map(lambda r: 1 if r > 0.5 else 0, model.predict(parse_df_2(val)))),\n",
    "              val['toxic'])"
   ]
  },
  {
   "cell_type": "markdown",
   "metadata": {},
   "source": [
    "## Pre trained embeddings"
   ]
  },
  {
   "cell_type": "code",
   "execution_count": 207,
   "metadata": {},
   "outputs": [
    {
     "name": "stderr",
     "output_type": "stream",
     "text": [
      "/home/eric/code/venvs/data3/lib/python3.5/site-packages/keras/preprocessing/text.py:157: UserWarning: The `nb_words` argument in `Tokenizer` has been renamed `num_words`.\n",
      "  warnings.warn('The `nb_words` argument in `Tokenizer` '\n"
     ]
    },
    {
     "name": "stdout",
     "output_type": "stream",
     "text": [
      "Found 167461 unique tokens.\n"
     ]
    }
   ],
   "source": [
    "from keras.preprocessing.text import Tokenizer\n",
    "from keras.preprocessing.sequence import pad_sequences\n",
    "\n",
    "tokenizer = Tokenizer(nb_words=50000)\n",
    "tokenizer.fit_on_texts(train['comment_text'])\n",
    "sequences = tokenizer.texts_to_sequences(train['comment_text'])\n",
    "\n",
    "word_index = tokenizer.word_index\n",
    "print('Found {0} unique tokens.'.format(len(word_index)))\n",
    "\n",
    "data = pad_sequences(sequences, maxlen=150)"
   ]
  },
  {
   "cell_type": "code",
   "execution_count": 222,
   "metadata": {},
   "outputs": [
    {
     "name": "stdout",
     "output_type": "stream",
     "text": [
      "Found 104419 word vectors.\n"
     ]
    }
   ],
   "source": [
    "embeddings_index = {}\n",
    "\n",
    "f = open(os.path.join('/home/eric/data', 'glove.42B.300d.txt'))\n",
    "for line in f:\n",
    "    values = line.split()\n",
    "    word = values[0]\n",
    "    coefs = np.asarray(values[1:], dtype='float32')\n",
    "    if word in word_index:\n",
    "        embeddings_index[word] = coefs\n",
    "\n",
    "f.close()\n",
    "\n",
    "print('Found {0} word vectors.'.format(len(embeddings_index)))"
   ]
  },
  {
   "cell_type": "code",
   "execution_count": 235,
   "metadata": {},
   "outputs": [],
   "source": [
    "embedding_matrix = np.zeros((len(word_index) + 1, 300))\n",
    "\n",
    "for word, i in word_index.items():\n",
    "    embedding_vector = embeddings_index.get(word)\n",
    "    if embedding_vector is not None:\n",
    "        # words not found in embedding index will be all-zeros.\n",
    "        embedding_matrix[i] = embedding_vector"
   ]
  },
  {
   "cell_type": "code",
   "execution_count": 239,
   "metadata": {},
   "outputs": [],
   "source": [
    "from keras.layers import Embedding\n",
    "\n",
    "embedding_layer = Embedding(input_dim=len(word_index) + 1,\n",
    "                            output_dim=300,\n",
    "                            weights=[embedding_matrix],\n",
    "                            input_length=150,\n",
    "                            trainable=False)"
   ]
  },
  {
   "cell_type": "code",
   "execution_count": 260,
   "metadata": {},
   "outputs": [
    {
     "name": "stdout",
     "output_type": "stream",
     "text": [
      "(89758, 150) (29920, 150) (89758,) (29920,)\n"
     ]
    }
   ],
   "source": [
    "x_train, x_val, y_train, y_val = train_test_split(np.asarray(data), train['toxic'])\n",
    "\n",
    "print(x_train.shape,\n",
    "      x_val.shape,\n",
    "      y_train.shape,\n",
    "      y_val.shape)"
   ]
  },
  {
   "cell_type": "code",
   "execution_count": 264,
   "metadata": {},
   "outputs": [
    {
     "data": {
      "image/svg+xml": [
       "<svg height=\"553pt\" viewBox=\"0.00 0.00 341.00 553.00\" width=\"341pt\" xmlns=\"http://www.w3.org/2000/svg\" xmlns:xlink=\"http://www.w3.org/1999/xlink\">\n",
       "<g class=\"graph\" id=\"graph0\" transform=\"scale(1 1) rotate(0) translate(4 549)\">\n",
       "<title>G</title>\n",
       "<polygon fill=\"white\" points=\"-4,4 -4,-549 337,-549 337,4 -4,4\" stroke=\"none\"/>\n",
       "<!-- 140266869773312 -->\n",
       "<g class=\"node\" id=\"node1\"><title>140266869773312</title>\n",
       "<polygon fill=\"none\" points=\"31.5,-498.5 31.5,-544.5 301.5,-544.5 301.5,-498.5 31.5,-498.5\" stroke=\"black\"/>\n",
       "<text font-family=\"Times,serif\" font-size=\"14.00\" text-anchor=\"middle\" x=\"97.5\" y=\"-517.8\">input_36: InputLayer</text>\n",
       "<polyline fill=\"none\" points=\"163.5,-498.5 163.5,-544.5 \" stroke=\"black\"/>\n",
       "<text font-family=\"Times,serif\" font-size=\"14.00\" text-anchor=\"middle\" x=\"191\" y=\"-529.3\">input:</text>\n",
       "<polyline fill=\"none\" points=\"163.5,-521.5 218.5,-521.5 \" stroke=\"black\"/>\n",
       "<text font-family=\"Times,serif\" font-size=\"14.00\" text-anchor=\"middle\" x=\"191\" y=\"-506.3\">output:</text>\n",
       "<polyline fill=\"none\" points=\"218.5,-498.5 218.5,-544.5 \" stroke=\"black\"/>\n",
       "<text font-family=\"Times,serif\" font-size=\"14.00\" text-anchor=\"middle\" x=\"260\" y=\"-529.3\">(None, 150)</text>\n",
       "<polyline fill=\"none\" points=\"218.5,-521.5 301.5,-521.5 \" stroke=\"black\"/>\n",
       "<text font-family=\"Times,serif\" font-size=\"14.00\" text-anchor=\"middle\" x=\"260\" y=\"-506.3\">(None, 150)</text>\n",
       "</g>\n",
       "<!-- 140266859062440 -->\n",
       "<g class=\"node\" id=\"node2\"><title>140266859062440</title>\n",
       "<polygon fill=\"none\" points=\"0,-415.5 0,-461.5 333,-461.5 333,-415.5 0,-415.5\" stroke=\"black\"/>\n",
       "<text font-family=\"Times,serif\" font-size=\"14.00\" text-anchor=\"middle\" x=\"84\" y=\"-434.8\">embedding_15: Embedding</text>\n",
       "<polyline fill=\"none\" points=\"168,-415.5 168,-461.5 \" stroke=\"black\"/>\n",
       "<text font-family=\"Times,serif\" font-size=\"14.00\" text-anchor=\"middle\" x=\"195.5\" y=\"-446.3\">input:</text>\n",
       "<polyline fill=\"none\" points=\"168,-438.5 223,-438.5 \" stroke=\"black\"/>\n",
       "<text font-family=\"Times,serif\" font-size=\"14.00\" text-anchor=\"middle\" x=\"195.5\" y=\"-423.3\">output:</text>\n",
       "<polyline fill=\"none\" points=\"223,-415.5 223,-461.5 \" stroke=\"black\"/>\n",
       "<text font-family=\"Times,serif\" font-size=\"14.00\" text-anchor=\"middle\" x=\"278\" y=\"-446.3\">(None, 150)</text>\n",
       "<polyline fill=\"none\" points=\"223,-438.5 333,-438.5 \" stroke=\"black\"/>\n",
       "<text font-family=\"Times,serif\" font-size=\"14.00\" text-anchor=\"middle\" x=\"278\" y=\"-423.3\">(None, 150, 300)</text>\n",
       "</g>\n",
       "<!-- 140266869773312&#45;&gt;140266859062440 -->\n",
       "<g class=\"edge\" id=\"edge1\"><title>140266869773312-&gt;140266859062440</title>\n",
       "<path d=\"M166.5,-498.366C166.5,-490.152 166.5,-480.658 166.5,-471.725\" fill=\"none\" stroke=\"black\"/>\n",
       "<polygon fill=\"black\" points=\"170,-471.607 166.5,-461.607 163,-471.607 170,-471.607\" stroke=\"black\"/>\n",
       "</g>\n",
       "<!-- 140264793437520 -->\n",
       "<g class=\"node\" id=\"node3\"><title>140264793437520</title>\n",
       "<polygon fill=\"none\" points=\"38.5,-332.5 38.5,-378.5 294.5,-378.5 294.5,-332.5 38.5,-332.5\" stroke=\"black\"/>\n",
       "<text font-family=\"Times,serif\" font-size=\"14.00\" text-anchor=\"middle\" x=\"84\" y=\"-351.8\">gru_19: GRU</text>\n",
       "<polyline fill=\"none\" points=\"129.5,-332.5 129.5,-378.5 \" stroke=\"black\"/>\n",
       "<text font-family=\"Times,serif\" font-size=\"14.00\" text-anchor=\"middle\" x=\"157\" y=\"-363.3\">input:</text>\n",
       "<polyline fill=\"none\" points=\"129.5,-355.5 184.5,-355.5 \" stroke=\"black\"/>\n",
       "<text font-family=\"Times,serif\" font-size=\"14.00\" text-anchor=\"middle\" x=\"157\" y=\"-340.3\">output:</text>\n",
       "<polyline fill=\"none\" points=\"184.5,-332.5 184.5,-378.5 \" stroke=\"black\"/>\n",
       "<text font-family=\"Times,serif\" font-size=\"14.00\" text-anchor=\"middle\" x=\"239.5\" y=\"-363.3\">(None, 150, 300)</text>\n",
       "<polyline fill=\"none\" points=\"184.5,-355.5 294.5,-355.5 \" stroke=\"black\"/>\n",
       "<text font-family=\"Times,serif\" font-size=\"14.00\" text-anchor=\"middle\" x=\"239.5\" y=\"-340.3\">(None, 128)</text>\n",
       "</g>\n",
       "<!-- 140266859062440&#45;&gt;140264793437520 -->\n",
       "<g class=\"edge\" id=\"edge2\"><title>140266859062440-&gt;140264793437520</title>\n",
       "<path d=\"M166.5,-415.366C166.5,-407.152 166.5,-397.658 166.5,-388.725\" fill=\"none\" stroke=\"black\"/>\n",
       "<polygon fill=\"black\" points=\"170,-388.607 166.5,-378.607 163,-388.607 170,-388.607\" stroke=\"black\"/>\n",
       "</g>\n",
       "<!-- 140264793437744 -->\n",
       "<g class=\"node\" id=\"node4\"><title>140264793437744</title>\n",
       "<polygon fill=\"none\" points=\"43,-249.5 43,-295.5 290,-295.5 290,-249.5 43,-249.5\" stroke=\"black\"/>\n",
       "<text font-family=\"Times,serif\" font-size=\"14.00\" text-anchor=\"middle\" x=\"97.5\" y=\"-268.8\">dense_37: Dense</text>\n",
       "<polyline fill=\"none\" points=\"152,-249.5 152,-295.5 \" stroke=\"black\"/>\n",
       "<text font-family=\"Times,serif\" font-size=\"14.00\" text-anchor=\"middle\" x=\"179.5\" y=\"-280.3\">input:</text>\n",
       "<polyline fill=\"none\" points=\"152,-272.5 207,-272.5 \" stroke=\"black\"/>\n",
       "<text font-family=\"Times,serif\" font-size=\"14.00\" text-anchor=\"middle\" x=\"179.5\" y=\"-257.3\">output:</text>\n",
       "<polyline fill=\"none\" points=\"207,-249.5 207,-295.5 \" stroke=\"black\"/>\n",
       "<text font-family=\"Times,serif\" font-size=\"14.00\" text-anchor=\"middle\" x=\"248.5\" y=\"-280.3\">(None, 128)</text>\n",
       "<polyline fill=\"none\" points=\"207,-272.5 290,-272.5 \" stroke=\"black\"/>\n",
       "<text font-family=\"Times,serif\" font-size=\"14.00\" text-anchor=\"middle\" x=\"248.5\" y=\"-257.3\">(None, 32)</text>\n",
       "</g>\n",
       "<!-- 140264793437520&#45;&gt;140264793437744 -->\n",
       "<g class=\"edge\" id=\"edge3\"><title>140264793437520-&gt;140264793437744</title>\n",
       "<path d=\"M166.5,-332.366C166.5,-324.152 166.5,-314.658 166.5,-305.725\" fill=\"none\" stroke=\"black\"/>\n",
       "<polygon fill=\"black\" points=\"170,-305.607 166.5,-295.607 163,-305.607 170,-305.607\" stroke=\"black\"/>\n",
       "</g>\n",
       "<!-- 140264793438192 -->\n",
       "<g class=\"node\" id=\"node5\"><title>140264793438192</title>\n",
       "<polygon fill=\"none\" points=\"35.5,-166.5 35.5,-212.5 297.5,-212.5 297.5,-166.5 35.5,-166.5\" stroke=\"black\"/>\n",
       "<text font-family=\"Times,serif\" font-size=\"14.00\" text-anchor=\"middle\" x=\"101\" y=\"-185.8\">dropout_13: Dropout</text>\n",
       "<polyline fill=\"none\" points=\"166.5,-166.5 166.5,-212.5 \" stroke=\"black\"/>\n",
       "<text font-family=\"Times,serif\" font-size=\"14.00\" text-anchor=\"middle\" x=\"194\" y=\"-197.3\">input:</text>\n",
       "<polyline fill=\"none\" points=\"166.5,-189.5 221.5,-189.5 \" stroke=\"black\"/>\n",
       "<text font-family=\"Times,serif\" font-size=\"14.00\" text-anchor=\"middle\" x=\"194\" y=\"-174.3\">output:</text>\n",
       "<polyline fill=\"none\" points=\"221.5,-166.5 221.5,-212.5 \" stroke=\"black\"/>\n",
       "<text font-family=\"Times,serif\" font-size=\"14.00\" text-anchor=\"middle\" x=\"259.5\" y=\"-197.3\">(None, 32)</text>\n",
       "<polyline fill=\"none\" points=\"221.5,-189.5 297.5,-189.5 \" stroke=\"black\"/>\n",
       "<text font-family=\"Times,serif\" font-size=\"14.00\" text-anchor=\"middle\" x=\"259.5\" y=\"-174.3\">(None, 32)</text>\n",
       "</g>\n",
       "<!-- 140264793437744&#45;&gt;140264793438192 -->\n",
       "<g class=\"edge\" id=\"edge4\"><title>140264793437744-&gt;140264793438192</title>\n",
       "<path d=\"M166.5,-249.366C166.5,-241.152 166.5,-231.658 166.5,-222.725\" fill=\"none\" stroke=\"black\"/>\n",
       "<polygon fill=\"black\" points=\"170,-222.607 166.5,-212.607 163,-222.607 170,-222.607\" stroke=\"black\"/>\n",
       "</g>\n",
       "<!-- 140264792100200 -->\n",
       "<g class=\"node\" id=\"node6\"><title>140264792100200</title>\n",
       "<polygon fill=\"none\" points=\"46.5,-83.5 46.5,-129.5 286.5,-129.5 286.5,-83.5 46.5,-83.5\" stroke=\"black\"/>\n",
       "<text font-family=\"Times,serif\" font-size=\"14.00\" text-anchor=\"middle\" x=\"101\" y=\"-102.8\">dense_38: Dense</text>\n",
       "<polyline fill=\"none\" points=\"155.5,-83.5 155.5,-129.5 \" stroke=\"black\"/>\n",
       "<text font-family=\"Times,serif\" font-size=\"14.00\" text-anchor=\"middle\" x=\"183\" y=\"-114.3\">input:</text>\n",
       "<polyline fill=\"none\" points=\"155.5,-106.5 210.5,-106.5 \" stroke=\"black\"/>\n",
       "<text font-family=\"Times,serif\" font-size=\"14.00\" text-anchor=\"middle\" x=\"183\" y=\"-91.3\">output:</text>\n",
       "<polyline fill=\"none\" points=\"210.5,-83.5 210.5,-129.5 \" stroke=\"black\"/>\n",
       "<text font-family=\"Times,serif\" font-size=\"14.00\" text-anchor=\"middle\" x=\"248.5\" y=\"-114.3\">(None, 32)</text>\n",
       "<polyline fill=\"none\" points=\"210.5,-106.5 286.5,-106.5 \" stroke=\"black\"/>\n",
       "<text font-family=\"Times,serif\" font-size=\"14.00\" text-anchor=\"middle\" x=\"248.5\" y=\"-91.3\">(None, 32)</text>\n",
       "</g>\n",
       "<!-- 140264793438192&#45;&gt;140264792100200 -->\n",
       "<g class=\"edge\" id=\"edge5\"><title>140264793438192-&gt;140264792100200</title>\n",
       "<path d=\"M166.5,-166.366C166.5,-158.152 166.5,-148.658 166.5,-139.725\" fill=\"none\" stroke=\"black\"/>\n",
       "<polygon fill=\"black\" points=\"170,-139.607 166.5,-129.607 163,-139.607 170,-139.607\" stroke=\"black\"/>\n",
       "</g>\n",
       "<!-- 140264792099696 -->\n",
       "<g class=\"node\" id=\"node7\"><title>140264792099696</title>\n",
       "<polygon fill=\"none\" points=\"46.5,-0.5 46.5,-46.5 286.5,-46.5 286.5,-0.5 46.5,-0.5\" stroke=\"black\"/>\n",
       "<text font-family=\"Times,serif\" font-size=\"14.00\" text-anchor=\"middle\" x=\"101\" y=\"-19.8\">dense_39: Dense</text>\n",
       "<polyline fill=\"none\" points=\"155.5,-0.5 155.5,-46.5 \" stroke=\"black\"/>\n",
       "<text font-family=\"Times,serif\" font-size=\"14.00\" text-anchor=\"middle\" x=\"183\" y=\"-31.3\">input:</text>\n",
       "<polyline fill=\"none\" points=\"155.5,-23.5 210.5,-23.5 \" stroke=\"black\"/>\n",
       "<text font-family=\"Times,serif\" font-size=\"14.00\" text-anchor=\"middle\" x=\"183\" y=\"-8.3\">output:</text>\n",
       "<polyline fill=\"none\" points=\"210.5,-0.5 210.5,-46.5 \" stroke=\"black\"/>\n",
       "<text font-family=\"Times,serif\" font-size=\"14.00\" text-anchor=\"middle\" x=\"248.5\" y=\"-31.3\">(None, 32)</text>\n",
       "<polyline fill=\"none\" points=\"210.5,-23.5 286.5,-23.5 \" stroke=\"black\"/>\n",
       "<text font-family=\"Times,serif\" font-size=\"14.00\" text-anchor=\"middle\" x=\"248.5\" y=\"-8.3\">(None, 1)</text>\n",
       "</g>\n",
       "<!-- 140264792100200&#45;&gt;140264792099696 -->\n",
       "<g class=\"edge\" id=\"edge6\"><title>140264792100200-&gt;140264792099696</title>\n",
       "<path d=\"M166.5,-83.3664C166.5,-75.1516 166.5,-65.6579 166.5,-56.7252\" fill=\"none\" stroke=\"black\"/>\n",
       "<polygon fill=\"black\" points=\"170,-56.6068 166.5,-46.6068 163,-56.6069 170,-56.6068\" stroke=\"black\"/>\n",
       "</g>\n",
       "</g>\n",
       "</svg>"
      ],
      "text/plain": [
       "<IPython.core.display.SVG object>"
      ]
     },
     "execution_count": 264,
     "metadata": {},
     "output_type": "execute_result"
    }
   ],
   "source": [
    "sequence_input = layers.Input(shape=(150,), dtype='int32')\n",
    "embedded_sequences = embedding_layer(sequence_input)\n",
    "gru_sequences = layers.GRU(128)(embedded_sequences)\n",
    "\n",
    "numerical_input = layers.Input(shape=(5,), dtype='float32')\n",
    "\n",
    "h = layers.Dense(32, activation='relu')(gru_sequences)\n",
    "h = layers.Dropout(0.3)(h)\n",
    "h = layers.Dense(32, activation='relu')(h)\n",
    "preds = layers.Dense(1, activation='sigmoid')(h)\n",
    "\n",
    "model = models.Model(inputs=[sequence_input],\n",
    "                     outputs=[preds])\n",
    "\n",
    "model.compile(loss='binary_crossentropy',\n",
    "              optimizer='adam',\n",
    "              metrics=['acc'])\n",
    "\n",
    "SVG(model_to_dot(model, show_shapes=True).create(prog='dot', format='svg'))"
   ]
  },
  {
   "cell_type": "code",
   "execution_count": null,
   "metadata": {},
   "outputs": [
    {
     "name": "stdout",
     "output_type": "stream",
     "text": [
      "Train on 89758 samples, validate on 29920 samples\n",
      "Epoch 1/2\n",
      " 8320/89758 [=>............................] - ETA: 2:27 - loss: 0.2858 - acc: 0.9023"
     ]
    }
   ],
   "source": [
    "model.fit(x_train,\n",
    "          y_train,\n",
    "          validation_data=(x_val, y_val),\n",
    "          epochs=2,\n",
    "          batch_size=128)"
   ]
  },
  {
   "cell_type": "code",
   "execution_count": null,
   "metadata": {},
   "outputs": [],
   "source": []
  }
 ],
 "metadata": {
  "kernelspec": {
   "display_name": "Python (data3)",
   "language": "python",
   "name": "data3"
  },
  "language_info": {
   "codemirror_mode": {
    "name": "ipython",
    "version": 3
   },
   "file_extension": ".py",
   "mimetype": "text/x-python",
   "name": "python",
   "nbconvert_exporter": "python",
   "pygments_lexer": "ipython3",
   "version": "3.5.2"
  }
 },
 "nbformat": 4,
 "nbformat_minor": 2
}
