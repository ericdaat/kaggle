{
 "cells": [
  {
   "cell_type": "code",
   "execution_count": 1,
   "metadata": {},
   "outputs": [
    {
     "name": "stderr",
     "output_type": "stream",
     "text": [
      "/home/eric/code/venvs/data/local/lib/python2.7/site-packages/sklearn/cross_validation.py:41: DeprecationWarning: This module was deprecated in version 0.18 in favor of the model_selection module into which all the refactored classes and functions are moved. Also note that the interface of the new CV iterators are different from that of this module. This module will be removed in 0.20.\n",
      "  \"This module will be removed in 0.20.\", DeprecationWarning)\n",
      "/home/eric/code/venvs/data/local/lib/python2.7/site-packages/h5py/__init__.py:34: FutureWarning: Conversion of the second argument of issubdtype from `float` to `np.floating` is deprecated. In future, it will be treated as `np.float64 == np.dtype(float).type`.\n",
      "  from ._conv import register_converters as _register_converters\n",
      "Using TensorFlow backend.\n"
     ]
    }
   ],
   "source": [
    "import pandas as pd\n",
    "import numpy as np\n",
    "\n",
    "from sklearn.feature_extraction.text import TfidfVectorizer\n",
    "from sklearn.model_selection import train_test_split\n",
    "from sklearn.metrics import roc_auc_score\n",
    "from sklearn.cross_validation import cross_val_score\n",
    "from sklearn.linear_model import SGDClassifier\n",
    "from sklearn.pipeline import Pipeline\n",
    "from sklearn.decomposition import NMF, TruncatedSVD, LatentDirichletAllocation\n",
    "\n",
    "from keras.models import Sequential\n",
    "from keras.layers import Dense, Dropout"
   ]
  },
  {
   "cell_type": "markdown",
   "metadata": {},
   "source": [
    "## Data Analysis"
   ]
  },
  {
   "cell_type": "code",
   "execution_count": 3,
   "metadata": {},
   "outputs": [],
   "source": [
    "df_train = pd.read_csv('train.csv')"
   ]
  },
  {
   "cell_type": "markdown",
   "metadata": {},
   "source": [
    "## Training"
   ]
  },
  {
   "cell_type": "code",
   "execution_count": 29,
   "metadata": {},
   "outputs": [],
   "source": [
    "p = Pipeline(steps=[('tfidf', TfidfVectorizer(ngram_range=(1, 3),\n",
    "                                              stop_words='english',\n",
    "                                              max_features=80000,\n",
    "                                              min_df=10,\n",
    "                                              max_df=0.5,\n",
    "                                              lowercase=True)),\n",
    "                    # ('dim-reduc', TruncatedSVD(n_components=256))\n",
    "                   ])"
   ]
  },
  {
   "cell_type": "code",
   "execution_count": 30,
   "metadata": {},
   "outputs": [],
   "source": [
    "X_train = p.fit_transform(df_train['comment_text'])\n",
    "y_train = df_train.iloc[:,2:].values"
   ]
  },
  {
   "cell_type": "code",
   "execution_count": 31,
   "metadata": {
    "scrolled": true
   },
   "outputs": [
    {
     "name": "stdout",
     "output_type": "stream",
     "text": [
      "(159571, 65665) (159571, 6)\n"
     ]
    }
   ],
   "source": [
    "print X_train.shape, y_train.shape"
   ]
  },
  {
   "cell_type": "markdown",
   "metadata": {},
   "source": [
    "### Sklearn multi model"
   ]
  },
  {
   "cell_type": "code",
   "execution_count": 32,
   "metadata": {
    "scrolled": false
   },
   "outputs": [
    {
     "name": "stdout",
     "output_type": "stream",
     "text": [
      "\"toxic\" classifier has 0.956 roc_auc\n",
      "\"severe_toxic\" classifier has 0.984 roc_auc\n",
      "\"obscene\" classifier has 0.980 roc_auc\n",
      "\"threat\" classifier has 0.974 roc_auc\n",
      "\"insult\" classifier has 0.969 roc_auc\n",
      "\"identity_hate\" classifier has 0.966 roc_auc\n"
     ]
    }
   ],
   "source": [
    "class_names = ['toxic', 'severe_toxic', 'obscene',\n",
    "               'threat', 'insult', 'identity_hate']\n",
    "\n",
    "clfs = {}\n",
    "roc_aucs = []\n",
    "\n",
    "for i, class_name in enumerate(class_names):\n",
    "    p_ = Pipeline(steps=[('clf', SGDClassifier(loss='log',\n",
    "                                               n_jobs=4,\n",
    "                                               max_iter=5))])\n",
    "    \n",
    "    score =  np.mean(cross_val_score(p_,\n",
    "                                     X_train,\n",
    "                                     y_train[:,i],\n",
    "                                     cv=3,\n",
    "                                     scoring='roc_auc'))\n",
    "    \n",
    "    print '\"{0}\" classifier has {1:.3f} roc_auc'.format(class_names[i], score)\n",
    "\n",
    "    p_.fit(X_train, y_train[:, i])\n",
    "    clfs[class_names[i]] = p_\n",
    "    roc_aucs.append(score)\n",
    "    "
   ]
  },
  {
   "cell_type": "code",
   "execution_count": 33,
   "metadata": {},
   "outputs": [
    {
     "data": {
      "text/plain": [
       "0.9714445837070133"
      ]
     },
     "execution_count": 33,
     "metadata": {},
     "output_type": "execute_result"
    }
   ],
   "source": [
    "np.mean(roc_aucs)"
   ]
  },
  {
   "cell_type": "markdown",
   "metadata": {},
   "source": [
    "## Test"
   ]
  },
  {
   "cell_type": "code",
   "execution_count": 35,
   "metadata": {},
   "outputs": [],
   "source": [
    "df_test = pd.read_csv('test.csv')\n",
    "X_test = p.transform(df_test['comment_text'])"
   ]
  },
  {
   "cell_type": "code",
   "execution_count": 36,
   "metadata": {},
   "outputs": [],
   "source": [
    "submission_df = pd.read_csv('sample_submission.csv')\n",
    "\n",
    "for class_name, model in clfs.items():\n",
    "    submission_df[class_name] = model.predict_proba(X_test)[:,1]\n",
    "    "
   ]
  },
  {
   "cell_type": "code",
   "execution_count": 37,
   "metadata": {},
   "outputs": [
    {
     "data": {
      "text/html": [
       "<div>\n",
       "<style>\n",
       "    .dataframe thead tr:only-child th {\n",
       "        text-align: right;\n",
       "    }\n",
       "\n",
       "    .dataframe thead th {\n",
       "        text-align: left;\n",
       "    }\n",
       "\n",
       "    .dataframe tbody tr th {\n",
       "        vertical-align: top;\n",
       "    }\n",
       "</style>\n",
       "<table border=\"1\" class=\"dataframe\">\n",
       "  <thead>\n",
       "    <tr style=\"text-align: right;\">\n",
       "      <th></th>\n",
       "      <th>id</th>\n",
       "      <th>toxic</th>\n",
       "      <th>severe_toxic</th>\n",
       "      <th>obscene</th>\n",
       "      <th>threat</th>\n",
       "      <th>insult</th>\n",
       "      <th>identity_hate</th>\n",
       "    </tr>\n",
       "  </thead>\n",
       "  <tbody>\n",
       "    <tr>\n",
       "      <th>0</th>\n",
       "      <td>00001cee341fdb12</td>\n",
       "      <td>0.750307</td>\n",
       "      <td>0.041616</td>\n",
       "      <td>0.591710</td>\n",
       "      <td>0.006073</td>\n",
       "      <td>0.467185</td>\n",
       "      <td>0.028495</td>\n",
       "    </tr>\n",
       "    <tr>\n",
       "      <th>1</th>\n",
       "      <td>0000247867823ef7</td>\n",
       "      <td>0.054610</td>\n",
       "      <td>0.008343</td>\n",
       "      <td>0.032223</td>\n",
       "      <td>0.003980</td>\n",
       "      <td>0.032362</td>\n",
       "      <td>0.008575</td>\n",
       "    </tr>\n",
       "    <tr>\n",
       "      <th>2</th>\n",
       "      <td>00013b17ad220c46</td>\n",
       "      <td>0.031342</td>\n",
       "      <td>0.006900</td>\n",
       "      <td>0.020768</td>\n",
       "      <td>0.003526</td>\n",
       "      <td>0.020999</td>\n",
       "      <td>0.007206</td>\n",
       "    </tr>\n",
       "    <tr>\n",
       "      <th>3</th>\n",
       "      <td>00017563c3f7919a</td>\n",
       "      <td>0.036287</td>\n",
       "      <td>0.007284</td>\n",
       "      <td>0.023750</td>\n",
       "      <td>0.003625</td>\n",
       "      <td>0.023833</td>\n",
       "      <td>0.007089</td>\n",
       "    </tr>\n",
       "    <tr>\n",
       "      <th>4</th>\n",
       "      <td>00017695ad8997eb</td>\n",
       "      <td>0.080010</td>\n",
       "      <td>0.007515</td>\n",
       "      <td>0.036924</td>\n",
       "      <td>0.003798</td>\n",
       "      <td>0.035283</td>\n",
       "      <td>0.007561</td>\n",
       "    </tr>\n",
       "  </tbody>\n",
       "</table>\n",
       "</div>"
      ],
      "text/plain": [
       "                 id     toxic  severe_toxic   obscene    threat    insult  \\\n",
       "0  00001cee341fdb12  0.750307      0.041616  0.591710  0.006073  0.467185   \n",
       "1  0000247867823ef7  0.054610      0.008343  0.032223  0.003980  0.032362   \n",
       "2  00013b17ad220c46  0.031342      0.006900  0.020768  0.003526  0.020999   \n",
       "3  00017563c3f7919a  0.036287      0.007284  0.023750  0.003625  0.023833   \n",
       "4  00017695ad8997eb  0.080010      0.007515  0.036924  0.003798  0.035283   \n",
       "\n",
       "   identity_hate  \n",
       "0       0.028495  \n",
       "1       0.008575  \n",
       "2       0.007206  \n",
       "3       0.007089  \n",
       "4       0.007561  "
      ]
     },
     "execution_count": 37,
     "metadata": {},
     "output_type": "execute_result"
    }
   ],
   "source": [
    "submission_df.head()"
   ]
  },
  {
   "cell_type": "code",
   "execution_count": 38,
   "metadata": {
    "collapsed": true
   },
   "outputs": [],
   "source": [
    "submission_df.to_csv('submission_sklearn_multi_sgd.csv',\n",
    "                     index=False)"
   ]
  },
  {
   "cell_type": "code",
   "execution_count": null,
   "metadata": {
    "collapsed": true
   },
   "outputs": [],
   "source": []
  }
 ],
 "metadata": {
  "kernelspec": {
   "display_name": "Python 2",
   "language": "python",
   "name": "python2"
  },
  "language_info": {
   "codemirror_mode": {
    "name": "ipython",
    "version": 2
   },
   "file_extension": ".py",
   "mimetype": "text/x-python",
   "name": "python",
   "nbconvert_exporter": "python",
   "pygments_lexer": "ipython2",
   "version": "2.7.13"
  }
 },
 "nbformat": 4,
 "nbformat_minor": 2
}
