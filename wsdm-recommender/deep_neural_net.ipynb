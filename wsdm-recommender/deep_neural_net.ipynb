{
 "cells": [
  {
   "cell_type": "code",
   "execution_count": null,
   "metadata": {},
   "outputs": [],
   "source": [
    "import pandas as pd\n",
    "import numpy as np\n",
    "from keras.preprocessing.text import one_hot\n",
    "from keras.preprocessing.sequence import pad_sequences\n",
    "from keras.models import Model\n",
    "from keras.layers import Input, Embedding, Flatten, Lambda, concatenate, Dense, Dropout, dot\n",
    "from keras.backend import mean\n",
    "from keras.utils import to_categorical, plot_model\n",
    "from IPython.display import SVG\n",
    "from keras.utils.vis_utils import model_to_dot\n",
    "\n",
    "import os\n",
    "os.environ[\"CUDA_DEVICE_ORDER\"] = \"PCI_BUS_ID\"   # see issue #152\n",
    "os.environ[\"CUDA_VISIBLE_DEVICES\"] = \"\""
   ]
  },
  {
   "cell_type": "markdown",
   "metadata": {},
   "source": [
    "# Data"
   ]
  },
  {
   "cell_type": "code",
   "execution_count": null,
   "metadata": {
    "collapsed": true
   },
   "outputs": [],
   "source": [
    "songs = pd.merge(pd.read_csv('data/songs.csv'),\n",
    "                 pd.read_csv('data/song_extra_info.csv'),\n",
    "                 on = 'song_id',\n",
    "                 how='inner')\\\n",
    "          .set_index('song_id', drop=True)\\\n",
    "          .sample(500000)"
   ]
  },
  {
   "cell_type": "code",
   "execution_count": null,
   "metadata": {
    "collapsed": true
   },
   "outputs": [],
   "source": [
    "members = pd.read_csv('data/members.csv')\\\n",
    "            .set_index('msno', drop=True)"
   ]
  },
  {
   "cell_type": "code",
   "execution_count": null,
   "metadata": {
    "collapsed": true
   },
   "outputs": [],
   "source": [
    "train = pd.read_csv('data/train.csv').sample(200000)\n",
    "\n",
    "nb_users = members.index.nunique()\n",
    "nb_songs = songs.index.nunique()\n",
    "nb_genres = songs.genre_ids.nunique() # rough approximation, as this often has several values\n",
    "nb_artists = songs.artist_name.nunique()\n",
    "nb_composers = songs.composer.nunique()\n",
    "nb_languages = songs.language.nunique()\n",
    "nb_cities = members.city.nunique()"
   ]
  },
  {
   "cell_type": "markdown",
   "metadata": {},
   "source": [
    "# Neural Net"
   ]
  },
  {
   "cell_type": "code",
   "execution_count": null,
   "metadata": {},
   "outputs": [],
   "source": [
    "# embedding on user\n",
    "x1 = Input(shape=(1,), dtype='int32')\n",
    "e1 = Embedding(output_dim=128, input_dim=nb_users)(x1)\n",
    "e1 = Flatten()(e1)\n",
    "\n",
    "# embedding on song\n",
    "x2 = Input(shape=(1,), dtype='int32')\n",
    "e2 = Embedding(output_dim=128, input_dim=nb_songs)(x2)\n",
    "e2 = Flatten()(e2)\n",
    "\n",
    "# song length\n",
    "x3 = Input(shape=(1,), dtype='float32')\n",
    "\n",
    "# embedding on genres\n",
    "x4 = Input(shape=(5,), dtype='int32')\n",
    "e4 = Embedding(output_dim=128, input_dim=nb_genres)(x4)\n",
    "e4 = Lambda(lambda x: mean(x, axis=1))(e4)\n",
    "\n",
    "# embedding on artists\n",
    "x5 = Input(shape=(5,), dtype='int32')\n",
    "e5 = Embedding(output_dim=128, input_dim=nb_artists)(x5)\n",
    "e5 = Lambda(lambda x: mean(x, axis=1))(e5)\n",
    "\n",
    "# embedding on composers\n",
    "x6 = Input(shape=(5,), dtype='int32')\n",
    "e6 = Embedding(output_dim=128, input_dim=nb_composers)(x6)\n",
    "e6 = Lambda(lambda x: mean(x, axis=1))(e6)\n",
    "\n",
    "# language\n",
    "x7 = Input(shape=(nb_languages,), dtype='float32')\n",
    "\n",
    "# embedding on cities\n",
    "x8 = Input(shape=(1,), dtype='int32')\n",
    "e8 = Embedding(output_dim=32, input_dim=nb_cities)(x8)\n",
    "e8 = Flatten()(e8)\n",
    "\n",
    "x = concatenate([e1, e2, x3, e4, e5, e6, x7, e8])\n",
    "h = Dense(128, activation='relu')(x)\n",
    "h = Dropout(0.2)(h)\n",
    "o = Dense(1, activation='sigmoid')(h)\n",
    "\n",
    "model = Model(inputs=[x1, x2, x3, x4, x5, x6, x7, x8],\n",
    "              outputs=[o])"
   ]
  },
  {
   "cell_type": "code",
   "execution_count": null,
   "metadata": {
    "scrolled": true
   },
   "outputs": [],
   "source": [
    "SVG(model_to_dot(model, show_shapes=True).create(prog='dot', format='svg'))"
   ]
  },
  {
   "cell_type": "markdown",
   "metadata": {},
   "source": [
    "![](model.png)"
   ]
  },
  {
   "cell_type": "code",
   "execution_count": null,
   "metadata": {
    "collapsed": true,
    "scrolled": false
   },
   "outputs": [],
   "source": [
    "def make_inputs_and_target_from_df(df):\n",
    "    df = df.merge(songs, left_on='song_id', right_index=True)\\\n",
    "           .merge(members, left_on='msno', right_index=True)\\\n",
    "\n",
    "    x1 = df['msno'].apply(lambda r: one_hot(r,\n",
    "                                            nb_users,\n",
    "                                            filters='',\n",
    "                                            split=' ')).tolist()\n",
    "    x1 = np.asarray(x1).reshape(-1, 1)\n",
    "    x2 = df['song_id'].apply(lambda r: one_hot(r,\n",
    "                                               nb_songs,\n",
    "                                               filters='',\n",
    "                                               split=' ')).tolist()\n",
    "    x2 = np.asarray(x2).reshape(-1, 1)\n",
    "    x3 = df['song_length'].tolist()\n",
    "    x3 = np.asarray(x3).reshape(-1, 1)\n",
    "    x4 = df['genre_ids'].astype(str)\\\n",
    "                        .apply(lambda r: one_hot(r, nb_genres)).tolist()\n",
    "    x4 = pad_sequences(x4, maxlen=5, padding='post')\n",
    "    x5 = df['artist_name'].apply(lambda r: one_hot(r.replace(' ', '_'),\n",
    "                                                   nb_artists,\n",
    "                                                   filters='',\n",
    "                                                   split=' ')).tolist()\n",
    "    x5 = pad_sequences(x5, maxlen=5, padding='post')\n",
    "    x6 = df['composer'].fillna('').apply(lambda r: one_hot(r.replace(' ', '_'),\n",
    "                                                   nb_composers,\n",
    "                                                   filters='',\n",
    "                                                   split=' ')).tolist()\n",
    "    x6 = pad_sequences(x6, maxlen=5, padding='post')\n",
    "    x7 = df['language'].fillna(-1)\\\n",
    "                       .astype(int)\\\n",
    "                       .astype(str)\\\n",
    "                       .apply(lambda r: one_hot(r, nb_languages)).tolist()\n",
    "    x7 = to_categorical(x7, nb_languages)\n",
    "    x8 = df['city'].fillna(-1)\\\n",
    "                   .astype(str)\\\n",
    "                   .apply(lambda r: one_hot(r, nb_cities)).tolist()\n",
    "    x8 = np.asarray(x8).reshape(-1, 1)\n",
    "    y = df['target'].values\n",
    "    \n",
    "    return ([x1, x2, x3, x4, x5, x6, x7, x8], y)"
   ]
  },
  {
   "cell_type": "code",
   "execution_count": null,
   "metadata": {
    "collapsed": true
   },
   "outputs": [],
   "source": [
    "model.compile(loss='binary_crossentropy',\n",
    "              optimizer='adam',\n",
    "              metrics=['accuracy'])"
   ]
  },
  {
   "cell_type": "code",
   "execution_count": null,
   "metadata": {},
   "outputs": [],
   "source": [
    "train_data = make_inputs_and_target_from_df(train.head(10000))\n",
    "eval_data = make_inputs_and_target_from_df(train.tail(5000))"
   ]
  },
  {
   "cell_type": "code",
   "execution_count": null,
   "metadata": {},
   "outputs": [],
   "source": [
    "model.fit(x=train_data[0],\n",
    "          y=train_data[1],\n",
    "          epochs=5,\n",
    "          validation_data=(eval_data[0], eval_data[1]))"
   ]
  },
  {
   "cell_type": "code",
   "execution_count": null,
   "metadata": {},
   "outputs": [],
   "source": [
    "model.predict(train_data[0])"
   ]
  },
  {
   "cell_type": "code",
   "execution_count": null,
   "metadata": {
    "collapsed": true
   },
   "outputs": [],
   "source": []
  }
 ],
 "metadata": {
  "kernelspec": {
   "display_name": "Python 2",
   "language": "python",
   "name": "python2"
  },
  "language_info": {
   "codemirror_mode": {
    "name": "ipython",
    "version": 2
   },
   "file_extension": ".py",
   "mimetype": "text/x-python",
   "name": "python",
   "nbconvert_exporter": "python",
   "pygments_lexer": "ipython2",
   "version": "2.7.12"
  }
 },
 "nbformat": 4,
 "nbformat_minor": 2
}
