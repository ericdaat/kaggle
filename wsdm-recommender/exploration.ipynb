{
 "cells": [
  {
   "cell_type": "code",
   "execution_count": 1,
   "metadata": {
    "collapsed": true
   },
   "outputs": [],
   "source": [
    "import pandas as pd\n",
    "import numpy as np\n",
    "from scipy.sparse import hstack\n",
    "from sklearn.feature_extraction.text import CountVectorizer, TfidfVectorizer, HashingVectorizer\n",
    "from sklearn.model_selection import train_test_split\n",
    "from sklearn.metrics import accuracy_score"
   ]
  },
  {
   "cell_type": "markdown",
   "metadata": {},
   "source": [
    "# Dataset"
   ]
  },
  {
   "cell_type": "code",
   "execution_count": 4,
   "metadata": {
    "collapsed": true
   },
   "outputs": [],
   "source": [
    "members = pd.read_csv('data/members.csv')\n",
    "songs = pd.read_csv('data/songs.csv')"
   ]
  },
  {
   "cell_type": "code",
   "execution_count": 5,
   "metadata": {
    "collapsed": true
   },
   "outputs": [],
   "source": [
    "train = pd.read_csv('data/train.csv').sample(5000)"
   ]
  },
  {
   "cell_type": "code",
   "execution_count": 6,
   "metadata": {
    "collapsed": true
   },
   "outputs": [],
   "source": [
    "def clean_df(df):\n",
    "    df = df.merge(songs, on='song_id')\n",
    "    df['song_length'] = pd.cut(df['song_length'],\n",
    "                               3,\n",
    "                               labels=['short', 'regular', 'long'])\n",
    "\n",
    "    for col in ['source_system_tab','source_screen_name','source_type',\n",
    "                'artist_name','composer','lyricist', 'genre_ids']:\n",
    "        df[col].fillna('', inplace=True)\n",
    "        \n",
    "    return df"
   ]
  },
  {
   "cell_type": "code",
   "execution_count": 7,
   "metadata": {
    "collapsed": true
   },
   "outputs": [],
   "source": [
    "train = clean_df(train)"
   ]
  },
  {
   "cell_type": "code",
   "execution_count": 8,
   "metadata": {
    "collapsed": true
   },
   "outputs": [],
   "source": [
    "train_df, test_df = train_test_split(train)"
   ]
  },
  {
   "cell_type": "code",
   "execution_count": 9,
   "metadata": {},
   "outputs": [
    {
     "data": {
      "text/html": [
       "<div>\n",
       "<table border=\"1\" class=\"dataframe\">\n",
       "  <thead>\n",
       "    <tr style=\"text-align: right;\">\n",
       "      <th></th>\n",
       "      <th>msno</th>\n",
       "      <th>song_id</th>\n",
       "      <th>source_system_tab</th>\n",
       "      <th>source_screen_name</th>\n",
       "      <th>source_type</th>\n",
       "      <th>target</th>\n",
       "      <th>song_length</th>\n",
       "      <th>genre_ids</th>\n",
       "      <th>artist_name</th>\n",
       "      <th>composer</th>\n",
       "      <th>lyricist</th>\n",
       "      <th>language</th>\n",
       "    </tr>\n",
       "  </thead>\n",
       "  <tbody>\n",
       "    <tr>\n",
       "      <th>4414</th>\n",
       "      <td>w1ZqQL8G5SGzk0njrRc2J/eO15ZTkZrFXw6nKcS3Qq4=</td>\n",
       "      <td>fBayxIefRsoVZlB29G6vjIHa5h1B1qJyaGI0kwrVERc=</td>\n",
       "      <td>my library</td>\n",
       "      <td>Local playlist more</td>\n",
       "      <td>local-playlist</td>\n",
       "      <td>0</td>\n",
       "      <td>short</td>\n",
       "      <td>465</td>\n",
       "      <td>陳零九 (Nine Chen)</td>\n",
       "      <td>陳零九</td>\n",
       "      <td>陳零九</td>\n",
       "      <td>3.0</td>\n",
       "    </tr>\n",
       "    <tr>\n",
       "      <th>4173</th>\n",
       "      <td>saSeBaJPCD8I/jKIWru5oSyqgHIPw1Lizc3blZKOANM=</td>\n",
       "      <td>caXQoad48M9jS7s0V227KI5i0HnARffYKOxe0fYVtrM=</td>\n",
       "      <td>my library</td>\n",
       "      <td>Local playlist more</td>\n",
       "      <td>local-library</td>\n",
       "      <td>1</td>\n",
       "      <td>short</td>\n",
       "      <td>359</td>\n",
       "      <td>Coldplay</td>\n",
       "      <td>Steven Tyler| Joseph Perry| Desmond Child</td>\n",
       "      <td></td>\n",
       "      <td>52.0</td>\n",
       "    </tr>\n",
       "    <tr>\n",
       "      <th>4696</th>\n",
       "      <td>Ue5tWTU5pxrj7IwOcs7d88M6ICnUdSpFSr7FtUlcyrc=</td>\n",
       "      <td>uuv/oI/dfOrHOHwDN9co6xyS484UCmel5TPfqOWCiU8=</td>\n",
       "      <td>my library</td>\n",
       "      <td>Local playlist more</td>\n",
       "      <td>local-library</td>\n",
       "      <td>0</td>\n",
       "      <td>short</td>\n",
       "      <td>465</td>\n",
       "      <td>Rihanna</td>\n",
       "      <td>Alexander Grant| Skylar Grey| Marshall Mathers</td>\n",
       "      <td></td>\n",
       "      <td>52.0</td>\n",
       "    </tr>\n",
       "    <tr>\n",
       "      <th>3031</th>\n",
       "      <td>OBhCuGr9/Vif35ztzJ8XD0oJhZP1tFxBhmGfsvlZcEc=</td>\n",
       "      <td>MbUrDuSZUHl97oQwk/GxAC+AIOxQd0wMpeBI4BU4PT8=</td>\n",
       "      <td>my library</td>\n",
       "      <td>Local playlist more</td>\n",
       "      <td>local-library</td>\n",
       "      <td>1</td>\n",
       "      <td>short</td>\n",
       "      <td>465</td>\n",
       "      <td>那英</td>\n",
       "      <td>Hsu Kuang-Yi</td>\n",
       "      <td>Hsu Kuang-Yi</td>\n",
       "      <td>3.0</td>\n",
       "    </tr>\n",
       "    <tr>\n",
       "      <th>934</th>\n",
       "      <td>xk73CNHhT4j+oE8yxR438NApz29Rxl9MVWnapgjqQ+M=</td>\n",
       "      <td>A81HcHeN2CTw6r/4lTdcjY3hBU6Tg3ZKKBs0D1C79cQ=</td>\n",
       "      <td>discover</td>\n",
       "      <td>Discover Genre</td>\n",
       "      <td>online-playlist</td>\n",
       "      <td>0</td>\n",
       "      <td>short</td>\n",
       "      <td>2122</td>\n",
       "      <td>Lisa Ono (小野リサ)</td>\n",
       "      <td>Gonzalo Curiel</td>\n",
       "      <td></td>\n",
       "      <td>-1.0</td>\n",
       "    </tr>\n",
       "  </tbody>\n",
       "</table>\n",
       "</div>"
      ],
      "text/plain": [
       "                                              msno  \\\n",
       "4414  w1ZqQL8G5SGzk0njrRc2J/eO15ZTkZrFXw6nKcS3Qq4=   \n",
       "4173  saSeBaJPCD8I/jKIWru5oSyqgHIPw1Lizc3blZKOANM=   \n",
       "4696  Ue5tWTU5pxrj7IwOcs7d88M6ICnUdSpFSr7FtUlcyrc=   \n",
       "3031  OBhCuGr9/Vif35ztzJ8XD0oJhZP1tFxBhmGfsvlZcEc=   \n",
       "934   xk73CNHhT4j+oE8yxR438NApz29Rxl9MVWnapgjqQ+M=   \n",
       "\n",
       "                                           song_id source_system_tab  \\\n",
       "4414  fBayxIefRsoVZlB29G6vjIHa5h1B1qJyaGI0kwrVERc=        my library   \n",
       "4173  caXQoad48M9jS7s0V227KI5i0HnARffYKOxe0fYVtrM=        my library   \n",
       "4696  uuv/oI/dfOrHOHwDN9co6xyS484UCmel5TPfqOWCiU8=        my library   \n",
       "3031  MbUrDuSZUHl97oQwk/GxAC+AIOxQd0wMpeBI4BU4PT8=        my library   \n",
       "934   A81HcHeN2CTw6r/4lTdcjY3hBU6Tg3ZKKBs0D1C79cQ=          discover   \n",
       "\n",
       "       source_screen_name      source_type  target song_length genre_ids  \\\n",
       "4414  Local playlist more   local-playlist       0       short       465   \n",
       "4173  Local playlist more    local-library       1       short       359   \n",
       "4696  Local playlist more    local-library       0       short       465   \n",
       "3031  Local playlist more    local-library       1       short       465   \n",
       "934        Discover Genre  online-playlist       0       short      2122   \n",
       "\n",
       "          artist_name                                        composer  \\\n",
       "4414  陳零九 (Nine Chen)                                             陳零九   \n",
       "4173         Coldplay       Steven Tyler| Joseph Perry| Desmond Child   \n",
       "4696          Rihanna  Alexander Grant| Skylar Grey| Marshall Mathers   \n",
       "3031               那英                                    Hsu Kuang-Yi   \n",
       "934   Lisa Ono (小野リサ)                                  Gonzalo Curiel   \n",
       "\n",
       "          lyricist  language  \n",
       "4414           陳零九       3.0  \n",
       "4173                    52.0  \n",
       "4696                    52.0  \n",
       "3031  Hsu Kuang-Yi       3.0  \n",
       "934                     -1.0  "
      ]
     },
     "execution_count": 9,
     "metadata": {},
     "output_type": "execute_result"
    }
   ],
   "source": [
    "train_df.head()"
   ]
  },
  {
   "cell_type": "code",
   "execution_count": 10,
   "metadata": {
    "collapsed": true
   },
   "outputs": [],
   "source": [
    "msno_vectorizer = CountVectorizer()\n",
    "song_id_vectorizer = CountVectorizer()\n",
    "source_system_tab_vectorizer = CountVectorizer()\n",
    "source_screen_name_vectorizer = CountVectorizer()\n",
    "source_type_vectorizer = CountVectorizer()\n",
    "song_length_vectorizer = CountVectorizer()\n",
    "genre_ids_vectorizer = CountVectorizer()\n",
    "artist_name_vectorizer = CountVectorizer()\n",
    "composer_vectorizer = CountVectorizer()\n",
    "lyricist_vectorizer = CountVectorizer()\n",
    "language_vectorizer = CountVectorizer()"
   ]
  },
  {
   "cell_type": "code",
   "execution_count": 13,
   "metadata": {},
   "outputs": [
    {
     "data": {
      "text/plain": [
       "CountVectorizer(analyzer=u'word', binary=False, decode_error=u'strict',\n",
       "        dtype=<type 'numpy.int64'>, encoding=u'utf-8', input=u'content',\n",
       "        lowercase=True, max_df=1.0, max_features=None, min_df=1,\n",
       "        ngram_range=(1, 1), preprocessor=None, stop_words=None,\n",
       "        strip_accents=None, token_pattern=u'(?u)\\\\b\\\\w\\\\w+\\\\b',\n",
       "        tokenizer=None, vocabulary=None)"
      ]
     },
     "execution_count": 13,
     "metadata": {},
     "output_type": "execute_result"
    }
   ],
   "source": [
    "msno_vectorizer.fit(train_df['msno'])\n",
    "song_id_vectorizer.fit(train_df['song_id'])\n",
    "source_system_tab_vectorizer.fit(train_df['source_system_tab'])\n",
    "source_screen_name_vectorizer.fit(train_df['source_screen_name'])\n",
    "source_type_vectorizer.fit(train_df['source_type'])\n",
    "song_length_vectorizer.fit(train_df['song_length'])\n",
    "genre_ids_vectorizer.fit(train_df['genre_ids'].astype(str))\n",
    "artist_name_vectorizer.fit(train_df['artist_name'])\n",
    "composer_vectorizer.fit(train_df['composer'])\n",
    "lyricist_vectorizer.fit(train_df['lyricist'])\n",
    "language_vectorizer.fit(train_df['language'].astype(str))"
   ]
  },
  {
   "cell_type": "code",
   "execution_count": 14,
   "metadata": {
    "collapsed": true
   },
   "outputs": [],
   "source": [
    "def make_X_and_y(df):\n",
    "    X = hstack([msno_vectorizer.transform(df['msno']),\n",
    "                song_id_vectorizer.transform(df['song_id']),\n",
    "                source_system_tab_vectorizer.transform(df['source_system_tab']),\n",
    "                source_screen_name_vectorizer.transform(df['source_screen_name']),\n",
    "                source_type_vectorizer.transform(df['source_type']),\n",
    "                song_length_vectorizer.transform(df['song_length']),\n",
    "                genre_ids_vectorizer.transform(df['genre_ids'].astype(str)),\n",
    "                artist_name_vectorizer.transform(df['artist_name']),\n",
    "                composer_vectorizer.transform(df['composer']),\n",
    "                lyricist_vectorizer.transform(df['lyricist']),\n",
    "                language_vectorizer.transform(df['language'].astype(str)),])\n",
    "    y = df['target'].values\n",
    "    \n",
    "    return X,y"
   ]
  },
  {
   "cell_type": "code",
   "execution_count": 15,
   "metadata": {
    "collapsed": true
   },
   "outputs": [],
   "source": [
    "X_train, y_train = make_X_and_y(train_df)\n",
    "X_test, y_test = make_X_and_y(test_df)"
   ]
  },
  {
   "cell_type": "code",
   "execution_count": 16,
   "metadata": {},
   "outputs": [
    {
     "data": {
      "text/plain": [
       "((3750, 20190), (3750,), (1250, 20190), (1250,))"
      ]
     },
     "execution_count": 16,
     "metadata": {},
     "output_type": "execute_result"
    }
   ],
   "source": [
    "X_train.shape, y_train.shape, X_test.shape, y_test.shape"
   ]
  },
  {
   "cell_type": "markdown",
   "metadata": {},
   "source": [
    "# Models"
   ]
  },
  {
   "cell_type": "markdown",
   "metadata": {},
   "source": [
    "## Logistic Regression"
   ]
  },
  {
   "cell_type": "code",
   "execution_count": 17,
   "metadata": {
    "collapsed": true
   },
   "outputs": [],
   "source": [
    "from sklearn.linear_model import LogisticRegression"
   ]
  },
  {
   "cell_type": "code",
   "execution_count": 18,
   "metadata": {
    "collapsed": true
   },
   "outputs": [],
   "source": [
    "lr = LogisticRegression(C=10)"
   ]
  },
  {
   "cell_type": "code",
   "execution_count": 19,
   "metadata": {},
   "outputs": [
    {
     "data": {
      "text/plain": [
       "LogisticRegression(C=10, class_weight=None, dual=False, fit_intercept=True,\n",
       "          intercept_scaling=1, max_iter=100, multi_class='ovr', n_jobs=1,\n",
       "          penalty='l2', random_state=None, solver='liblinear', tol=0.0001,\n",
       "          verbose=0, warm_start=False)"
      ]
     },
     "execution_count": 19,
     "metadata": {},
     "output_type": "execute_result"
    }
   ],
   "source": [
    "lr.fit(X_train, y_train)"
   ]
  },
  {
   "cell_type": "code",
   "execution_count": 20,
   "metadata": {},
   "outputs": [
    {
     "data": {
      "text/plain": [
       "0.59360000000000002"
      ]
     },
     "execution_count": 20,
     "metadata": {},
     "output_type": "execute_result"
    }
   ],
   "source": [
    "accuracy_score(y_pred=lr.predict(X_test),\n",
    "               y_true=y_test)"
   ]
  },
  {
   "cell_type": "markdown",
   "metadata": {},
   "source": [
    "## Neural Network"
   ]
  },
  {
   "cell_type": "code",
   "execution_count": 21,
   "metadata": {},
   "outputs": [
    {
     "name": "stderr",
     "output_type": "stream",
     "text": [
      "Using TensorFlow backend.\n"
     ]
    }
   ],
   "source": [
    "from keras.models import Sequential\n",
    "from keras.layers import Dense, Dropout"
   ]
  },
  {
   "cell_type": "code",
   "execution_count": 24,
   "metadata": {
    "collapsed": true
   },
   "outputs": [],
   "source": [
    "model = Sequential()\n",
    "model.add(Dense(64,\n",
    "                activation='sigmoid',\n",
    "                input_dim=X_train.shape[1]))\n",
    "model.add(Dropout(0.4))\n",
    "model.add(Dense(64, activation='sigmoid'))\n",
    "model.add(Dropout(0.4))\n",
    "model.add(Dense(1, activation='sigmoid'))\n",
    "\n",
    "model.compile(loss='binary_crossentropy',\n",
    "              optimizer='adam',\n",
    "              metrics=['accuracy'])"
   ]
  },
  {
   "cell_type": "code",
   "execution_count": 25,
   "metadata": {},
   "outputs": [
    {
     "name": "stdout",
     "output_type": "stream",
     "text": [
      "Train on 3750 samples, validate on 1250 samples\n",
      "Epoch 1/5\n",
      "3750/3750 [==============================] - 7s - loss: 0.7252 - acc: 0.5099 - val_loss: 0.6827 - val_acc: 0.6184\n",
      "Epoch 2/5\n",
      "3750/3750 [==============================] - 6s - loss: 0.6898 - acc: 0.5523 - val_loss: 0.6682 - val_acc: 0.6296\n",
      "Epoch 3/5\n",
      "3750/3750 [==============================] - 5s - loss: 0.6601 - acc: 0.6077 - val_loss: 0.6587 - val_acc: 0.6240\n",
      "Epoch 4/5\n",
      "3750/3750 [==============================] - 5s - loss: 0.6240 - acc: 0.6496 - val_loss: 0.6604 - val_acc: 0.6312\n",
      "Epoch 5/5\n",
      "3750/3750 [==============================] - 5s - loss: 0.5827 - acc: 0.6899 - val_loss: 0.6587 - val_acc: 0.6320\n"
     ]
    },
    {
     "data": {
      "text/plain": [
       "<keras.callbacks.History at 0x11f04f790>"
      ]
     },
     "execution_count": 25,
     "metadata": {},
     "output_type": "execute_result"
    }
   ],
   "source": [
    "model.fit(X_train.todense(),\n",
    "          y_train,\n",
    "          epochs=5,\n",
    "          validation_data=(X_test.todense(),y_test))"
   ]
  }
 ],
 "metadata": {
  "kernelspec": {
   "display_name": "Python 2",
   "language": "python",
   "name": "python2"
  },
  "language_info": {
   "codemirror_mode": {
    "name": "ipython",
    "version": 2
   },
   "file_extension": ".py",
   "mimetype": "text/x-python",
   "name": "python",
   "nbconvert_exporter": "python",
   "pygments_lexer": "ipython2",
   "version": "2.7.12"
  }
 },
 "nbformat": 4,
 "nbformat_minor": 2
}
