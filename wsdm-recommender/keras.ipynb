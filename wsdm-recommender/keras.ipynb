{
 "cells": [
  {
   "cell_type": "code",
   "execution_count": 8,
   "metadata": {},
   "outputs": [],
   "source": [
    "import pandas as pd\n",
    "from keras.preprocessing.text import one_hot"
   ]
  },
  {
   "cell_type": "code",
   "execution_count": 7,
   "metadata": {},
   "outputs": [],
   "source": [
    "songs = pd.merge(pd.read_csv('data/songs.csv'),\n",
    "                 pd.read_csv('data/song_extra_info.csv'),\n",
    "                 on = 'song_id',\n",
    "                 how='inner')\\\n",
    "          .set_index('song_id', drop=True)\\\n",
    "          .sample(500000)\n",
    "\n",
    "members = pd.read_csv('data/members.csv')\\\n",
    "            .set_index('msno', drop=True)\n",
    "\n",
    "train = pd.read_csv('data/train.csv').sample(200000)\n",
    "\n",
    "train = train.merge(songs, left_on='song_id', right_index=True)\\\n",
    "             .merge(members, left_on='msno', right_index=True)"
   ]
  },
  {
   "cell_type": "markdown",
   "metadata": {},
   "source": [
    "### Matrix Factorization"
   ]
  },
  {
   "cell_type": "code",
   "execution_count": 17,
   "metadata": {},
   "outputs": [],
   "source": [
    "from keras import layers\n",
    "from keras import models\n",
    "from IPython.display import SVG\n",
    "from keras.utils.vis_utils import model_to_dot"
   ]
  },
  {
   "cell_type": "code",
   "execution_count": 31,
   "metadata": {},
   "outputs": [],
   "source": [
    "i_user = layers.Input(shape=(1,), dtype='int32', name='user')\n",
    "i_song = layers.Input(shape=(1,), dtype='int32', name='song')\n",
    "\n",
    "embedding_user = layers.Embedding(input_dim=500000, output_dim=64, name='embedding_user')\n",
    "embedding_user = embedding_user(i_user)\n",
    "embedding_user = layers.Flatten()(embedding_user)\n",
    "\n",
    "embedding_song = layers.Embedding(input_dim=500000, output_dim=64, name='embedding_song')\n",
    "embedding_song = embedding_song(i_song)\n",
    "embedding_song = layers.Flatten()(embedding_song)\n",
    "\n",
    "h1 = layers.dot([embedding_user, embedding_song], axes=1)\n",
    "o = layers.Dense(1, activation='sigmoid')(h1)\n",
    "\n",
    "model = models.Model(inputs=[i_user, i_song],\n",
    "                     outputs=o)\n",
    "\n",
    "model.compile(loss='binary_crossentropy',\n",
    "              optimizer='adam',\n",
    "              metrics=['accuracy'])"
   ]
  },
  {
   "cell_type": "code",
   "execution_count": 32,
   "metadata": {},
   "outputs": [
    {
     "data": {
      "image/svg+xml": [
       "<svg height=\"387pt\" viewBox=\"0.00 0.00 673.50 387.00\" width=\"674pt\" xmlns=\"http://www.w3.org/2000/svg\" xmlns:xlink=\"http://www.w3.org/1999/xlink\">\n",
       "<g class=\"graph\" id=\"graph0\" transform=\"scale(1 1) rotate(0) translate(4 383)\">\n",
       "<title>G</title>\n",
       "<polygon fill=\"white\" points=\"-4,4 -4,-383 669.5,-383 669.5,4 -4,4\" stroke=\"none\"/>\n",
       "<!-- 140255865606608 -->\n",
       "<g class=\"node\" id=\"node1\"><title>140255865606608</title>\n",
       "<polygon fill=\"none\" points=\"45.5,-332.5 45.5,-378.5 276.5,-378.5 276.5,-332.5 45.5,-332.5\" stroke=\"black\"/>\n",
       "<text font-family=\"Times,serif\" font-size=\"14.00\" text-anchor=\"middle\" x=\"99\" y=\"-351.8\">user: InputLayer</text>\n",
       "<polyline fill=\"none\" points=\"152.5,-332.5 152.5,-378.5 \" stroke=\"black\"/>\n",
       "<text font-family=\"Times,serif\" font-size=\"14.00\" text-anchor=\"middle\" x=\"180\" y=\"-363.3\">input:</text>\n",
       "<polyline fill=\"none\" points=\"152.5,-355.5 207.5,-355.5 \" stroke=\"black\"/>\n",
       "<text font-family=\"Times,serif\" font-size=\"14.00\" text-anchor=\"middle\" x=\"180\" y=\"-340.3\">output:</text>\n",
       "<polyline fill=\"none\" points=\"207.5,-332.5 207.5,-378.5 \" stroke=\"black\"/>\n",
       "<text font-family=\"Times,serif\" font-size=\"14.00\" text-anchor=\"middle\" x=\"242\" y=\"-363.3\">(None, 1)</text>\n",
       "<polyline fill=\"none\" points=\"207.5,-355.5 276.5,-355.5 \" stroke=\"black\"/>\n",
       "<text font-family=\"Times,serif\" font-size=\"14.00\" text-anchor=\"middle\" x=\"242\" y=\"-340.3\">(None, 1)</text>\n",
       "</g>\n",
       "<!-- 140256360119208 -->\n",
       "<g class=\"node\" id=\"node3\"><title>140256360119208</title>\n",
       "<polygon fill=\"none\" points=\"0,-249.5 0,-295.5 322,-295.5 322,-249.5 0,-249.5\" stroke=\"black\"/>\n",
       "<text font-family=\"Times,serif\" font-size=\"14.00\" text-anchor=\"middle\" x=\"88.5\" y=\"-268.8\">embedding_user: Embedding</text>\n",
       "<polyline fill=\"none\" points=\"177,-249.5 177,-295.5 \" stroke=\"black\"/>\n",
       "<text font-family=\"Times,serif\" font-size=\"14.00\" text-anchor=\"middle\" x=\"204.5\" y=\"-280.3\">input:</text>\n",
       "<polyline fill=\"none\" points=\"177,-272.5 232,-272.5 \" stroke=\"black\"/>\n",
       "<text font-family=\"Times,serif\" font-size=\"14.00\" text-anchor=\"middle\" x=\"204.5\" y=\"-257.3\">output:</text>\n",
       "<polyline fill=\"none\" points=\"232,-249.5 232,-295.5 \" stroke=\"black\"/>\n",
       "<text font-family=\"Times,serif\" font-size=\"14.00\" text-anchor=\"middle\" x=\"277\" y=\"-280.3\">(None, 1)</text>\n",
       "<polyline fill=\"none\" points=\"232,-272.5 322,-272.5 \" stroke=\"black\"/>\n",
       "<text font-family=\"Times,serif\" font-size=\"14.00\" text-anchor=\"middle\" x=\"277\" y=\"-257.3\">(None, 1, 64)</text>\n",
       "</g>\n",
       "<!-- 140255865606608&#45;&gt;140256360119208 -->\n",
       "<g class=\"edge\" id=\"edge1\"><title>140255865606608-&gt;140256360119208</title>\n",
       "<path d=\"M161,-332.366C161,-324.152 161,-314.658 161,-305.725\" fill=\"none\" stroke=\"black\"/>\n",
       "<polygon fill=\"black\" points=\"164.5,-305.607 161,-295.607 157.5,-305.607 164.5,-305.607\" stroke=\"black\"/>\n",
       "</g>\n",
       "<!-- 140255865608904 -->\n",
       "<g class=\"node\" id=\"node2\"><title>140255865608904</title>\n",
       "<polygon fill=\"none\" points=\"386,-332.5 386,-378.5 620,-378.5 620,-332.5 386,-332.5\" stroke=\"black\"/>\n",
       "<text font-family=\"Times,serif\" font-size=\"14.00\" text-anchor=\"middle\" x=\"441\" y=\"-351.8\">song: InputLayer</text>\n",
       "<polyline fill=\"none\" points=\"496,-332.5 496,-378.5 \" stroke=\"black\"/>\n",
       "<text font-family=\"Times,serif\" font-size=\"14.00\" text-anchor=\"middle\" x=\"523.5\" y=\"-363.3\">input:</text>\n",
       "<polyline fill=\"none\" points=\"496,-355.5 551,-355.5 \" stroke=\"black\"/>\n",
       "<text font-family=\"Times,serif\" font-size=\"14.00\" text-anchor=\"middle\" x=\"523.5\" y=\"-340.3\">output:</text>\n",
       "<polyline fill=\"none\" points=\"551,-332.5 551,-378.5 \" stroke=\"black\"/>\n",
       "<text font-family=\"Times,serif\" font-size=\"14.00\" text-anchor=\"middle\" x=\"585.5\" y=\"-363.3\">(None, 1)</text>\n",
       "<polyline fill=\"none\" points=\"551,-355.5 620,-355.5 \" stroke=\"black\"/>\n",
       "<text font-family=\"Times,serif\" font-size=\"14.00\" text-anchor=\"middle\" x=\"585.5\" y=\"-340.3\">(None, 1)</text>\n",
       "</g>\n",
       "<!-- 140255734489888 -->\n",
       "<g class=\"node\" id=\"node4\"><title>140255734489888</title>\n",
       "<polygon fill=\"none\" points=\"340.5,-249.5 340.5,-295.5 665.5,-295.5 665.5,-249.5 340.5,-249.5\" stroke=\"black\"/>\n",
       "<text font-family=\"Times,serif\" font-size=\"14.00\" text-anchor=\"middle\" x=\"430.5\" y=\"-268.8\">embedding_song: Embedding</text>\n",
       "<polyline fill=\"none\" points=\"520.5,-249.5 520.5,-295.5 \" stroke=\"black\"/>\n",
       "<text font-family=\"Times,serif\" font-size=\"14.00\" text-anchor=\"middle\" x=\"548\" y=\"-280.3\">input:</text>\n",
       "<polyline fill=\"none\" points=\"520.5,-272.5 575.5,-272.5 \" stroke=\"black\"/>\n",
       "<text font-family=\"Times,serif\" font-size=\"14.00\" text-anchor=\"middle\" x=\"548\" y=\"-257.3\">output:</text>\n",
       "<polyline fill=\"none\" points=\"575.5,-249.5 575.5,-295.5 \" stroke=\"black\"/>\n",
       "<text font-family=\"Times,serif\" font-size=\"14.00\" text-anchor=\"middle\" x=\"620.5\" y=\"-280.3\">(None, 1)</text>\n",
       "<polyline fill=\"none\" points=\"575.5,-272.5 665.5,-272.5 \" stroke=\"black\"/>\n",
       "<text font-family=\"Times,serif\" font-size=\"14.00\" text-anchor=\"middle\" x=\"620.5\" y=\"-257.3\">(None, 1, 64)</text>\n",
       "</g>\n",
       "<!-- 140255865608904&#45;&gt;140255734489888 -->\n",
       "<g class=\"edge\" id=\"edge2\"><title>140255865608904-&gt;140255734489888</title>\n",
       "<path d=\"M503,-332.366C503,-324.152 503,-314.658 503,-305.725\" fill=\"none\" stroke=\"black\"/>\n",
       "<polygon fill=\"black\" points=\"506.5,-305.607 503,-295.607 499.5,-305.607 506.5,-305.607\" stroke=\"black\"/>\n",
       "</g>\n",
       "<!-- 140255865607000 -->\n",
       "<g class=\"node\" id=\"node5\"><title>140255865607000</title>\n",
       "<polygon fill=\"none\" points=\"61.5,-166.5 61.5,-212.5 322.5,-212.5 322.5,-166.5 61.5,-166.5\" stroke=\"black\"/>\n",
       "<text font-family=\"Times,serif\" font-size=\"14.00\" text-anchor=\"middle\" x=\"119.5\" y=\"-185.8\">flatten_11: Flatten</text>\n",
       "<polyline fill=\"none\" points=\"177.5,-166.5 177.5,-212.5 \" stroke=\"black\"/>\n",
       "<text font-family=\"Times,serif\" font-size=\"14.00\" text-anchor=\"middle\" x=\"205\" y=\"-197.3\">input:</text>\n",
       "<polyline fill=\"none\" points=\"177.5,-189.5 232.5,-189.5 \" stroke=\"black\"/>\n",
       "<text font-family=\"Times,serif\" font-size=\"14.00\" text-anchor=\"middle\" x=\"205\" y=\"-174.3\">output:</text>\n",
       "<polyline fill=\"none\" points=\"232.5,-166.5 232.5,-212.5 \" stroke=\"black\"/>\n",
       "<text font-family=\"Times,serif\" font-size=\"14.00\" text-anchor=\"middle\" x=\"277.5\" y=\"-197.3\">(None, 1, 64)</text>\n",
       "<polyline fill=\"none\" points=\"232.5,-189.5 322.5,-189.5 \" stroke=\"black\"/>\n",
       "<text font-family=\"Times,serif\" font-size=\"14.00\" text-anchor=\"middle\" x=\"277.5\" y=\"-174.3\">(None, 64)</text>\n",
       "</g>\n",
       "<!-- 140256360119208&#45;&gt;140255865607000 -->\n",
       "<g class=\"edge\" id=\"edge3\"><title>140256360119208-&gt;140255865607000</title>\n",
       "<path d=\"M169.471,-249.366C172.683,-240.973 176.406,-231.245 179.89,-222.143\" fill=\"none\" stroke=\"black\"/>\n",
       "<polygon fill=\"black\" points=\"183.234,-223.197 183.539,-212.607 176.696,-220.695 183.234,-223.197\" stroke=\"black\"/>\n",
       "</g>\n",
       "<!-- 140255865608400 -->\n",
       "<g class=\"node\" id=\"node6\"><title>140255865608400</title>\n",
       "<polygon fill=\"none\" points=\"356.5,-166.5 356.5,-212.5 617.5,-212.5 617.5,-166.5 356.5,-166.5\" stroke=\"black\"/>\n",
       "<text font-family=\"Times,serif\" font-size=\"14.00\" text-anchor=\"middle\" x=\"414.5\" y=\"-185.8\">flatten_12: Flatten</text>\n",
       "<polyline fill=\"none\" points=\"472.5,-166.5 472.5,-212.5 \" stroke=\"black\"/>\n",
       "<text font-family=\"Times,serif\" font-size=\"14.00\" text-anchor=\"middle\" x=\"500\" y=\"-197.3\">input:</text>\n",
       "<polyline fill=\"none\" points=\"472.5,-189.5 527.5,-189.5 \" stroke=\"black\"/>\n",
       "<text font-family=\"Times,serif\" font-size=\"14.00\" text-anchor=\"middle\" x=\"500\" y=\"-174.3\">output:</text>\n",
       "<polyline fill=\"none\" points=\"527.5,-166.5 527.5,-212.5 \" stroke=\"black\"/>\n",
       "<text font-family=\"Times,serif\" font-size=\"14.00\" text-anchor=\"middle\" x=\"572.5\" y=\"-197.3\">(None, 1, 64)</text>\n",
       "<polyline fill=\"none\" points=\"527.5,-189.5 617.5,-189.5 \" stroke=\"black\"/>\n",
       "<text font-family=\"Times,serif\" font-size=\"14.00\" text-anchor=\"middle\" x=\"572.5\" y=\"-174.3\">(None, 64)</text>\n",
       "</g>\n",
       "<!-- 140255734489888&#45;&gt;140255865608400 -->\n",
       "<g class=\"edge\" id=\"edge4\"><title>140255734489888-&gt;140255865608400</title>\n",
       "<path d=\"M498.628,-249.366C496.988,-241.062 495.089,-231.451 493.308,-222.434\" fill=\"none\" stroke=\"black\"/>\n",
       "<polygon fill=\"black\" points=\"496.738,-221.739 491.367,-212.607 489.871,-223.096 496.738,-221.739\" stroke=\"black\"/>\n",
       "</g>\n",
       "<!-- 140255865606832 -->\n",
       "<g class=\"node\" id=\"node7\"><title>140255865606832</title>\n",
       "<polygon fill=\"none\" points=\"194.5,-83.5 194.5,-129.5 483.5,-129.5 483.5,-83.5 194.5,-83.5\" stroke=\"black\"/>\n",
       "<text font-family=\"Times,serif\" font-size=\"14.00\" text-anchor=\"middle\" x=\"235.5\" y=\"-102.8\">dot_10: Dot</text>\n",
       "<polyline fill=\"none\" points=\"276.5,-83.5 276.5,-129.5 \" stroke=\"black\"/>\n",
       "<text font-family=\"Times,serif\" font-size=\"14.00\" text-anchor=\"middle\" x=\"304\" y=\"-114.3\">input:</text>\n",
       "<polyline fill=\"none\" points=\"276.5,-106.5 331.5,-106.5 \" stroke=\"black\"/>\n",
       "<text font-family=\"Times,serif\" font-size=\"14.00\" text-anchor=\"middle\" x=\"304\" y=\"-91.3\">output:</text>\n",
       "<polyline fill=\"none\" points=\"331.5,-83.5 331.5,-129.5 \" stroke=\"black\"/>\n",
       "<text font-family=\"Times,serif\" font-size=\"14.00\" text-anchor=\"middle\" x=\"407.5\" y=\"-114.3\">[(None, 64), (None, 64)]</text>\n",
       "<polyline fill=\"none\" points=\"331.5,-106.5 483.5,-106.5 \" stroke=\"black\"/>\n",
       "<text font-family=\"Times,serif\" font-size=\"14.00\" text-anchor=\"middle\" x=\"407.5\" y=\"-91.3\">(None, 1)</text>\n",
       "</g>\n",
       "<!-- 140255865607000&#45;&gt;140255865606832 -->\n",
       "<g class=\"edge\" id=\"edge5\"><title>140255865607000-&gt;140255865606832</title>\n",
       "<path d=\"M232.168,-166.366C249.993,-156.544 271.137,-144.894 289.891,-134.56\" fill=\"none\" stroke=\"black\"/>\n",
       "<polygon fill=\"black\" points=\"291.811,-137.498 298.88,-129.607 288.433,-131.368 291.811,-137.498\" stroke=\"black\"/>\n",
       "</g>\n",
       "<!-- 140255865608400&#45;&gt;140255865606832 -->\n",
       "<g class=\"edge\" id=\"edge6\"><title>140255865608400-&gt;140255865606832</title>\n",
       "<path d=\"M446.558,-166.366C428.53,-156.5 407.131,-144.788 388.186,-134.419\" fill=\"none\" stroke=\"black\"/>\n",
       "<polygon fill=\"black\" points=\"389.845,-131.338 379.393,-129.607 386.485,-137.478 389.845,-131.338\" stroke=\"black\"/>\n",
       "</g>\n",
       "<!-- 140255865609408 -->\n",
       "<g class=\"node\" id=\"node8\"><title>140255865609408</title>\n",
       "<polygon fill=\"none\" points=\"226,-0.5 226,-46.5 452,-46.5 452,-0.5 226,-0.5\" stroke=\"black\"/>\n",
       "<text font-family=\"Times,serif\" font-size=\"14.00\" text-anchor=\"middle\" x=\"277\" y=\"-19.8\">dense_4: Dense</text>\n",
       "<polyline fill=\"none\" points=\"328,-0.5 328,-46.5 \" stroke=\"black\"/>\n",
       "<text font-family=\"Times,serif\" font-size=\"14.00\" text-anchor=\"middle\" x=\"355.5\" y=\"-31.3\">input:</text>\n",
       "<polyline fill=\"none\" points=\"328,-23.5 383,-23.5 \" stroke=\"black\"/>\n",
       "<text font-family=\"Times,serif\" font-size=\"14.00\" text-anchor=\"middle\" x=\"355.5\" y=\"-8.3\">output:</text>\n",
       "<polyline fill=\"none\" points=\"383,-0.5 383,-46.5 \" stroke=\"black\"/>\n",
       "<text font-family=\"Times,serif\" font-size=\"14.00\" text-anchor=\"middle\" x=\"417.5\" y=\"-31.3\">(None, 1)</text>\n",
       "<polyline fill=\"none\" points=\"383,-23.5 452,-23.5 \" stroke=\"black\"/>\n",
       "<text font-family=\"Times,serif\" font-size=\"14.00\" text-anchor=\"middle\" x=\"417.5\" y=\"-8.3\">(None, 1)</text>\n",
       "</g>\n",
       "<!-- 140255865606832&#45;&gt;140255865609408 -->\n",
       "<g class=\"edge\" id=\"edge7\"><title>140255865606832-&gt;140255865609408</title>\n",
       "<path d=\"M339,-83.3664C339,-75.1516 339,-65.6579 339,-56.7252\" fill=\"none\" stroke=\"black\"/>\n",
       "<polygon fill=\"black\" points=\"342.5,-56.6068 339,-46.6068 335.5,-56.6069 342.5,-56.6068\" stroke=\"black\"/>\n",
       "</g>\n",
       "</g>\n",
       "</svg>"
      ],
      "text/plain": [
       "<IPython.core.display.SVG object>"
      ]
     },
     "execution_count": 32,
     "metadata": {},
     "output_type": "execute_result"
    }
   ],
   "source": [
    "SVG(model_to_dot(model, show_shapes=True).create(prog='dot', format='svg'))"
   ]
  },
  {
   "cell_type": "code",
   "execution_count": 40,
   "metadata": {},
   "outputs": [],
   "source": [
    "x_user = train['msno'].apply(lambda r: one_hot(r, filters=' ', n=500000))\n",
    "x_song = train['song_id'].apply(lambda r: one_hot(r, filters=' ', n=500000))"
   ]
  },
  {
   "cell_type": "code",
   "execution_count": null,
   "metadata": {},
   "outputs": [
    {
     "name": "stdout",
     "output_type": "stream",
     "text": [
      "Epoch 1/1\n"
     ]
    }
   ],
   "source": [
    "model.fit([x_user, x_song],\n",
    "          train['target'])"
   ]
  },
  {
   "cell_type": "code",
   "execution_count": null,
   "metadata": {},
   "outputs": [],
   "source": []
  }
 ],
 "metadata": {
  "kernelspec": {
   "display_name": "Python (data3)",
   "language": "python",
   "name": "data3"
  },
  "language_info": {
   "codemirror_mode": {
    "name": "ipython",
    "version": 3
   },
   "file_extension": ".py",
   "mimetype": "text/x-python",
   "name": "python",
   "nbconvert_exporter": "python",
   "pygments_lexer": "ipython3",
   "version": "3.5.2"
  }
 },
 "nbformat": 4,
 "nbformat_minor": 2
}
