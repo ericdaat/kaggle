{
 "cells": [
  {
   "cell_type": "code",
   "execution_count": 1,
   "metadata": {},
   "outputs": [
    {
     "name": "stderr",
     "output_type": "stream",
     "text": [
      "Using TensorFlow backend.\n"
     ]
    }
   ],
   "source": [
    "import pandas as pd\n",
    "from keras.preprocessing.text import one_hot\n",
    "from keras.models import Model\n",
    "from keras.layers import Input, Embedding, Flatten, Lambda, concatenate, Dense, Dropout\n",
    "from keras.backend import mean"
   ]
  },
  {
   "cell_type": "markdown",
   "metadata": {},
   "source": [
    "# Data"
   ]
  },
  {
   "cell_type": "code",
   "execution_count": 2,
   "metadata": {},
   "outputs": [],
   "source": [
    "songs = pd.merge(pd.read_csv('data/songs.csv'),\n",
    "                 pd.read_csv('data/song_extra_info.csv'),\n",
    "                 on = 'song_id',\n",
    "                 how='outer')\\\n",
    "          .set_index('song_id', drop=True)"
   ]
  },
  {
   "cell_type": "code",
   "execution_count": 3,
   "metadata": {},
   "outputs": [],
   "source": [
    "members = pd.read_csv('data/members.csv')\\\n",
    "            .set_index('msno', drop=True)"
   ]
  },
  {
   "cell_type": "code",
   "execution_count": 4,
   "metadata": {},
   "outputs": [],
   "source": [
    "train = pd.read_csv('data/train.csv').sample(frac=1)\n",
    "\n",
    "nb_users = members.index.nunique()\n",
    "nb_songs = songs.index.nunique()\n",
    "nb_genres = songs.genre_ids.nunique() # rough approximation, as this often has several values\n",
    "nb_artists = songs.artist_name.nunique()\n",
    "nb_composers = songs.composer.nunique()\n",
    "nb_languages = songs.language.nunique()\n",
    "nb_cities = members.city.nunique()"
   ]
  },
  {
   "cell_type": "markdown",
   "metadata": {},
   "source": [
    "# Neural Net"
   ]
  },
  {
   "cell_type": "code",
   "execution_count": 15,
   "metadata": {},
   "outputs": [],
   "source": [
    "# embedding on user\n",
    "x1 = Input(shape=(1,), dtype='int32')\n",
    "e1 = Embedding(output_dim=256, input_dim=nb_users)(x1)\n",
    "e1 = Lambda(lambda x: mean(x, axis=1))(e1)\n",
    "\n",
    "# embedding on song\n",
    "x2 = Input(shape=(1,), dtype='int32')\n",
    "e2 = Embedding(output_dim=256, input_dim=nb_songs)(x2)\n",
    "e2 = Lambda(lambda x: mean(x, axis=1))(e2)\n",
    "\n",
    "# song length\n",
    "x3 = Input(shape=(1,), dtype='float32')\n",
    "\n",
    "# embedding on genres\n",
    "x4 = Input(shape=(5,), dtype='int32')\n",
    "e4 = Embedding(output_dim=128, input_dim=nb_genres)(x4)\n",
    "e4 = Lambda(lambda x: mean(x, axis=1))(e4)\n",
    "\n",
    "# embedding on artists\n",
    "x5 = Input(shape=(5,), dtype='int32')\n",
    "e5 = Embedding(output_dim=256, input_dim=nb_artists)(x5)\n",
    "e5 = Lambda(lambda x: mean(x, axis=1))(e5)\n",
    "\n",
    "# embedding on composers\n",
    "x6 = Input(shape=(5,), dtype='int32')\n",
    "e6 = Embedding(output_dim=256, input_dim=nb_composers)(x6)\n",
    "e6 = Lambda(lambda x: mean(x, axis=1))(e6)\n",
    "\n",
    "# language\n",
    "x7 = Input(shape=(1,), dtype='int32')\n",
    "\n",
    "# embedding on cities\n",
    "x8 = Input(shape=(1,), dtype='int32')\n",
    "e8 = Embedding(output_dim=128, input_dim=nb_cities)(x8)\n",
    "e8 = Flatten()(e8)\n",
    "\n",
    "x = concatenate([e1, e2, x3, e4])\n",
    "h = Dense(1024, activation='relu')(x)\n",
    "h = Dropout(0.3)(x)\n",
    "h = Dense(512, activation='relu')(x)\n",
    "h = Dropout(0.3)(x)\n",
    "h = Dense(256, activation='relu')(x)\n",
    "h = Dropout(0.3)(x)\n",
    "h = Dense(128, activation='relu')(x)\n",
    "h = Dropout(0.3)(x)\n",
    "o = Dense(1, activation='sigmoid')(h)\n",
    "\n",
    "model = Model(inputs=[x1, x2, x3, x4],\n",
    "              outputs=[o])"
   ]
  },
  {
   "cell_type": "code",
   "execution_count": 14,
   "metadata": {
    "scrolled": false
   },
   "outputs": [],
   "source": [
    "df = train.head(10000)\n",
    "df = df.merge(songs, left_on='song_id', right_index=True)\\\n",
    "       .merge(members, left_on='msno', right_index=True)\\\n",
    "\n",
    "x1 = df['msno'].apply(lambda r: one_hot(r, nb_users))\n",
    "x2 = df['song_id']\n",
    "x3 = df['song_length']\n",
    "x4 = df['genre_ids'].astype(str).apply(lambda r: one_hot(r, nb_genres))\n",
    "x5 = df['artist_name'].apply(lambda r: one_hot(r, nb_artists))\n",
    "x6 = df['composer'].fillna('').apply(lambda r: one_hot(r, nb_composers))\n",
    "x7 = df['language'].fillna(-1).astype(str).apply(lambda r: one_hot(r, nb_languages))\n",
    "x8 = df['city'].fillna(-1).astype(str).apply(lambda r: one_hot(r, nb_cities))"
   ]
  },
  {
   "cell_type": "code",
   "execution_count": null,
   "metadata": {
    "collapsed": true
   },
   "outputs": [],
   "source": []
  },
  {
   "cell_type": "code",
   "execution_count": null,
   "metadata": {
    "collapsed": true
   },
   "outputs": [],
   "source": []
  }
 ],
 "metadata": {
  "kernelspec": {
   "display_name": "Python 2",
   "language": "python",
   "name": "python2"
  },
  "language_info": {
   "codemirror_mode": {
    "name": "ipython",
    "version": 2
   },
   "file_extension": ".py",
   "mimetype": "text/x-python",
   "name": "python",
   "nbconvert_exporter": "python",
   "pygments_lexer": "ipython2",
   "version": "2.7.13"
  }
 },
 "nbformat": 4,
 "nbformat_minor": 2
}
